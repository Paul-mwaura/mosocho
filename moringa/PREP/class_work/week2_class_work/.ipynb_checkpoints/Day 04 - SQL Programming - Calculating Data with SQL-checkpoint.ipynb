{
 "cells": [
  {
   "cell_type": "markdown",
   "metadata": {
    "colab_type": "text",
    "id": "--cnOLTPZ6MG"
   },
   "source": [
    "<font color=\"green\">*To start working on this notebook, or any other notebook that we will use in the Moringa Data Science Course, we will need to save our own copy of it. We can do this by clicking File > Save a Copy in Drive. We will then be able to make edits to our own copy of this notebook.*</font>"
   ]
  },
  {
   "cell_type": "markdown",
   "metadata": {
    "colab_type": "text",
    "id": "5oWzigcLV06t"
   },
   "source": [
    "# SQL Programming - Calculating Data with SQL"
   ]
  },
  {
   "cell_type": "markdown",
   "metadata": {
    "colab_type": "text",
    "id": "oGxfZo8LWZXx"
   },
   "source": [
    "## 1.0 Connecting to our Database"
   ]
  },
  {
   "cell_type": "code",
   "execution_count": 0,
   "metadata": {
    "colab": {
     "base_uri": "https://localhost:8080/",
     "height": 34
    },
    "colab_type": "code",
    "executionInfo": {
     "elapsed": 973,
     "status": "ok",
     "timestamp": 1583738641827,
     "user": {
      "displayName": "Michael Teddy",
      "photoUrl": "",
      "userId": "05465468862126933935"
     },
     "user_tz": -180
    },
    "id": "aGOQCVTLWpSn",
    "outputId": "75b7d346-d700-44a0-fabc-375ff67b3670"
   },
   "outputs": [
    {
     "data": {
      "text/plain": [
       "'Connected: @None'"
      ]
     },
     "execution_count": 1,
     "metadata": {
      "tags": []
     },
     "output_type": "execute_result"
    }
   ],
   "source": [
    "# We will first load the sql extension into our environment\n",
    "%load_ext sql\n",
    "\n",
    "# Then connect to our in memory sqlite database\n",
    "# NB: This database will cease to exist as soon as the database connection is closed. \n",
    "%sql sqlite://"
   ]
  },
  {
   "cell_type": "markdown",
   "metadata": {
    "colab_type": "text",
    "id": "HOnfqP8HWXgB"
   },
   "source": [
    "## 1.1 Importing Data from CSV files"
   ]
  },
  {
   "cell_type": "markdown",
   "metadata": {
    "colab_type": "text",
    "id": "UDDmPdUHmOIT"
   },
   "source": [
    "Datasets used in this notebook:\n",
    "\n",
    "\n",
    "1.   **Population by Urban Centres, 2009**\n",
    "\n",
    "> This dataset shows the total population of urban centres in different Kenyan counties. ([Dataset Download](https://drive.google.com/a/moringaschool.com/file/d/1E-Ew-uGxWqO3HJLS0bX7DUAe-c93sdCO/view?usp=sharing))\n",
    "\n",
    "2.   **Population by Age, Sex and Educational Attainment in 2000 - 2009** \n",
    "\n",
    "> The dataset is from IIASA-VID Dataset (W Lutz, A Goujon, S K.C., W Sanderson. 2007. Reconstruction of population by age, sex and level of educational attainment of 120 countries for 1970-2000. Vienna Yearbook of Population Research, vol. 2007, pp 193-235). ([Dataset Download](https://drive.google.com/a/moringaschool.com/file/d/1Kx70v8SqGRJWkDccNkn31JJ5Jnq1OKM3/view?usp=sharing))\n",
    "\n",
    "3. **2014 - 2015 Government Projects Summary Sorted by Funding Source**\n",
    "\n",
    "> Based on 2014 - 2015 Estimated Finance allocations for Kenyan Government Projects. ([Dataset Download](https://drive.google.com/a/moringaschool.com/file/d/10Dh9psiaAUo_HyyN6WZK6re0bI4_joUG/view?usp=sharing))\n",
    "\n",
    "\n",
    "\n"
   ]
  },
  {
   "cell_type": "code",
   "execution_count": 0,
   "metadata": {
    "colab": {},
    "colab_type": "code",
    "id": "pfQPCUG1j63f"
   },
   "outputs": [],
   "source": [
    "# Importing the pandas library\n",
    "# We will use a function read_csv from pandas to read our datasets as shown\n",
    "#\n",
    "import pandas as pd "
   ]
  },
  {
   "cell_type": "code",
   "execution_count": 0,
   "metadata": {
    "colab": {
     "base_uri": "https://localhost:8080/",
     "height": 213
    },
    "colab_type": "code",
    "executionInfo": {
     "elapsed": 972,
     "status": "ok",
     "timestamp": 1583738772633,
     "user": {
      "displayName": "Michael Teddy",
      "photoUrl": "",
      "userId": "05465468862126933935"
     },
     "user_tz": -180
    },
    "id": "wLNd4C2J12rZ",
    "outputId": "da2700a8-22b9-4666-c38c-6643014fa736"
   },
   "outputs": [
    {
     "name": "stdout",
     "output_type": "stream",
     "text": [
      " * sqlite://\n",
      "Done.\n",
      " * sqlite://\n",
      " * sqlite://\n",
      "Done.\n"
     ]
    },
    {
     "data": {
      "text/html": [
       "<table>\n",
       "    <tr>\n",
       "        <th>Urban_centre</th>\n",
       "        <th>Total_population</th>\n",
       "        <th>Core_urban_population</th>\n",
       "        <th>Peri_urban_population</th>\n",
       "        <th>Sex_ratio</th>\n",
       "        <th>co-ordinates</th>\n",
       "        <th>OBJECTID</th>\n",
       "    </tr>\n",
       "    <tr>\n",
       "        <td>Ahero</td>\n",
       "        <td>54194</td>\n",
       "        <td>8362</td>\n",
       "        <td>45832</td>\n",
       "        <td>92</td>\n",
       "        <td>(-0.156472052, 34.922629149999999)</td>\n",
       "        <td>0</td>\n",
       "    </tr>\n",
       "    <tr>\n",
       "        <td>Archers Post</td>\n",
       "        <td>6123</td>\n",
       "        <td>2683</td>\n",
       "        <td>3440</td>\n",
       "        <td>106</td>\n",
       "        <td>(0.64069109999999996, 37.6491483)</td>\n",
       "        <td>1</td>\n",
       "    </tr>\n",
       "    <tr>\n",
       "        <td>Awendo</td>\n",
       "        <td>108742</td>\n",
       "        <td>17909</td>\n",
       "        <td>90833</td>\n",
       "        <td>94</td>\n",
       "        <td>(-0.89444667099999997, 34.536880379999999)</td>\n",
       "        <td>2</td>\n",
       "    </tr>\n",
       "    <tr>\n",
       "        <td>Baragoi</td>\n",
       "        <td>7926</td>\n",
       "        <td>4628</td>\n",
       "        <td>3298</td>\n",
       "        <td>91</td>\n",
       "        <td>(1.786392475, 36.79148971)</td>\n",
       "        <td>3</td>\n",
       "    </tr>\n",
       "    <tr>\n",
       "        <td>Bissil</td>\n",
       "        <td>5345</td>\n",
       "        <td>5345</td>\n",
       "        <td>0</td>\n",
       "        <td>87</td>\n",
       "        <td>(-2.0938024999999998, 36.773857700000001)</td>\n",
       "        <td>4</td>\n",
       "    </tr>\n",
       "</table>"
      ],
      "text/plain": [
       "[('Ahero', 54194, 8362, 45832, 92, '(-0.156472052, 34.922629149999999)', 0),\n",
       " ('Archers Post', 6123, 2683, 3440, 106, '(0.64069109999999996, 37.6491483)', 1),\n",
       " ('Awendo', 108742, 17909, 90833, 94, '(-0.89444667099999997, 34.536880379999999)', 2),\n",
       " ('Baragoi', 7926, 4628, 3298, 91, '(1.786392475, 36.79148971)', 3),\n",
       " ('Bissil', 5345, 5345, 0, 87, '(-2.0938024999999998, 36.773857700000001)', 4)]"
      ]
     },
     "execution_count": 4,
     "metadata": {
      "tags": []
     },
     "output_type": "execute_result"
    }
   ],
   "source": [
    "# Loading our table from the respective CSV files \n",
    "with open('urban_centres_dataset.csv','r') as f:\n",
    "    Urban_Centres = pd.read_csv(f, index_col=0, encoding='utf-8')\n",
    "# saving the urban center CSV file into a database\n",
    "%sql DROP TABLE if EXISTS Urban_Centres;\n",
    "%sql PERSIST Urban_Centres;\n",
    "\n",
    "# Displaying the first  5 entries \n",
    "%sql SELECT * FROM Urban_Centres LIMIT 5;"
   ]
  },
  {
   "cell_type": "code",
   "execution_count": 0,
   "metadata": {
    "colab": {
     "base_uri": "https://localhost:8080/",
     "height": 333
    },
    "colab_type": "code",
    "executionInfo": {
     "elapsed": 994,
     "status": "ok",
     "timestamp": 1583738778362,
     "user": {
      "displayName": "Michael Teddy",
      "photoUrl": "",
      "userId": "05465468862126933935"
     },
     "user_tz": -180
    },
    "id": "iwCRvKEW152I",
    "outputId": "a16273fc-5b60-4fcc-cea0-563f99fddb96"
   },
   "outputs": [
    {
     "name": "stdout",
     "output_type": "stream",
     "text": [
      " * sqlite://\n",
      "Done.\n",
      " * sqlite://\n",
      " * sqlite://\n",
      "Done.\n"
     ]
    },
    {
     "data": {
      "text/html": [
       "<table>\n",
       "    <tr>\n",
       "        <th>County</th>\n",
       "        <th>Gender</th>\n",
       "        <th>Age_Group_of_Household_head_15-24_%_</th>\n",
       "        <th>Age_Group_of_Household_head_25-34_%</th>\n",
       "        <th>Age_Group_of_Household_head_35-59_%</th>\n",
       "        <th>Age_Group_of_Household_head_60+_%</th>\n",
       "        <th>Number_of_households</th>\n",
       "        <th>County_Centroid</th>\n",
       "        <th>OBJECTID</th>\n",
       "    </tr>\n",
       "    <tr>\n",
       "        <td>Mombasa</td>\n",
       "        <td>Female</td>\n",
       "        <td>16.8%</td>\n",
       "        <td>36.8%</td>\n",
       "        <td>39.5%</td>\n",
       "        <td>6.8%</td>\n",
       "        <td>59858</td>\n",
       "        <td>(-4.018795613, 39.653975520000003)</td>\n",
       "        <td>0</td>\n",
       "    </tr>\n",
       "    <tr>\n",
       "        <td>Kwale</td>\n",
       "        <td>Female</td>\n",
       "        <td>10.9%</td>\n",
       "        <td>25.4%</td>\n",
       "        <td>46.5%</td>\n",
       "        <td>17.1%</td>\n",
       "        <td>40265</td>\n",
       "        <td>(-4.1398571640000004, 39.15036963)</td>\n",
       "        <td>1</td>\n",
       "    </tr>\n",
       "    <tr>\n",
       "        <td>Kilifi</td>\n",
       "        <td>Female</td>\n",
       "        <td>12.5%</td>\n",
       "        <td>26.6%</td>\n",
       "        <td>46.2%</td>\n",
       "        <td>14.7%</td>\n",
       "        <td>64963</td>\n",
       "        <td>(-3.1731002359999998, 39.683055940000003)</td>\n",
       "        <td>2</td>\n",
       "    </tr>\n",
       "    <tr>\n",
       "        <td>Tana Rriver</td>\n",
       "        <td>Female</td>\n",
       "        <td>16.9%</td>\n",
       "        <td>25.6%</td>\n",
       "        <td>43.3%</td>\n",
       "        <td>14.2%</td>\n",
       "        <td>14447</td>\n",
       "        <td>(-1.557428783, 39.412916930000002)</td>\n",
       "        <td>3</td>\n",
       "    </tr>\n",
       "    <tr>\n",
       "        <td>Lamu</td>\n",
       "        <td>Female</td>\n",
       "        <td>9.5%</td>\n",
       "        <td>22.6%</td>\n",
       "        <td>48.7%</td>\n",
       "        <td>19.2%</td>\n",
       "        <td>5515</td>\n",
       "        <td>(-2.0391399720000001, 40.767880740000003)</td>\n",
       "        <td>4</td>\n",
       "    </tr>\n",
       "</table>"
      ],
      "text/plain": [
       "[('Mombasa', 'Female', '16.8%', '36.8%', '39.5%', '6.8%', 59858, '(-4.018795613, 39.653975520000003)', 0),\n",
       " ('Kwale', 'Female', '10.9%', '25.4%', '46.5%', '17.1%', 40265, '(-4.1398571640000004, 39.15036963)', 1),\n",
       " ('Kilifi', 'Female', '12.5%', '26.6%', '46.2%', '14.7%', 64963, '(-3.1731002359999998, 39.683055940000003)', 2),\n",
       " ('Tana Rriver', 'Female', '16.9%', '25.6%', '43.3%', '14.2%', 14447, '(-1.557428783, 39.412916930000002)', 3),\n",
       " ('Lamu', 'Female', '9.5%', '22.6%', '48.7%', '19.2%', 5515, '(-2.0391399720000001, 40.767880740000003)', 4)]"
      ]
     },
     "execution_count": 5,
     "metadata": {
      "tags": []
     },
     "output_type": "execute_result"
    }
   ],
   "source": [
    "# Let's load our households dataset below\n",
    "with open('households_dataset.csv','r') as f:\n",
    "    Households = pd.read_csv(f, index_col=0, encoding='utf-8') \n",
    "\n",
    "# Save the houshold dataset into a database\n",
    "%sql DROP TABLE if EXISTS Households;\n",
    "%sql PERSIST Households;\n",
    "\n",
    "# Display the first 5 entries from the database\n",
    "%sql SELECT * FROM Households LIMIT 5;"
   ]
  },
  {
   "cell_type": "code",
   "execution_count": 0,
   "metadata": {
    "colab": {
     "base_uri": "https://localhost:8080/",
     "height": 383
    },
    "colab_type": "code",
    "executionInfo": {
     "elapsed": 994,
     "status": "ok",
     "timestamp": 1583738790359,
     "user": {
      "displayName": "Michael Teddy",
      "photoUrl": "",
      "userId": "05465468862126933935"
     },
     "user_tz": -180
    },
    "id": "R8zR1rtm18iA",
    "outputId": "0b330764-f633-48f7-c9ef-ead1ec77739a"
   },
   "outputs": [
    {
     "name": "stdout",
     "output_type": "stream",
     "text": [
      " * sqlite://\n",
      "Done.\n",
      " * sqlite://\n",
      " * sqlite://\n",
      "Done.\n"
     ]
    },
    {
     "data": {
      "text/html": [
       "<table>\n",
       "    <tr>\n",
       "        <th>Total_-_GOK_Budget_Est_KES</th>\n",
       "        <th>Total_-_Loan_Budget_Est_KES</th>\n",
       "        <th>Total_-_Grant_Budget_Est_KES</th>\n",
       "        <th>Total_Budget_Supported__by_Donors_KES</th>\n",
       "        <th>Total_Project_Cost_KES</th>\n",
       "        <th>Funding_Source</th>\n",
       "        <th>OBJECTID</th>\n",
       "    </tr>\n",
       "    <tr>\n",
       "        <td>111285239</td>\n",
       "        <td>609690025</td>\n",
       "        <td>2100000000</td>\n",
       "        <td>2709690025</td>\n",
       "        <td>25162065397</td>\n",
       "        <td> Government of Sweden</td>\n",
       "        <td>0</td>\n",
       "    </tr>\n",
       "    <tr>\n",
       "        <td>2009277440</td>\n",
       "        <td>7443790000</td>\n",
       "        <td>1436627037</td>\n",
       "        <td>8880417037</td>\n",
       "        <td>12567296534</td>\n",
       "        <td> United Nations Development Programme (UNDP)</td>\n",
       "        <td>1</td>\n",
       "    </tr>\n",
       "    <tr>\n",
       "        <td>50034000</td>\n",
       "        <td>0</td>\n",
       "        <td>1705540000</td>\n",
       "        <td>1705540000</td>\n",
       "        <td>4015101726</td>\n",
       "        <td> World Food Programme</td>\n",
       "        <td>2</td>\n",
       "    </tr>\n",
       "    <tr>\n",
       "        <td>24267555932</td>\n",
       "        <td>144199000000</td>\n",
       "        <td>1700000000</td>\n",
       "        <td>145899000000</td>\n",
       "        <td>445033000000</td>\n",
       "        <td> African Development Bank/ Fund</td>\n",
       "        <td>3</td>\n",
       "    </tr>\n",
       "    <tr>\n",
       "        <td>1160000000</td>\n",
       "        <td>2085000000</td>\n",
       "        <td>600000000</td>\n",
       "        <td>2685000000</td>\n",
       "        <td>174293000000</td>\n",
       "        <td> European Investment Bank</td>\n",
       "        <td>4</td>\n",
       "    </tr>\n",
       "</table>"
      ],
      "text/plain": [
       "[(111285239, 609690025, 2100000000, 2709690025, 25162065397, ' Government of Sweden', 0),\n",
       " (2009277440, 7443790000, 1436627037, 8880417037, 12567296534, ' United Nations Development Programme (UNDP)', 1),\n",
       " (50034000, 0, 1705540000, 1705540000, 4015101726, ' World Food Programme', 2),\n",
       " (24267555932, 144199000000, 1700000000, 145899000000, 445033000000, ' African Development Bank/ Fund', 3),\n",
       " (1160000000, 2085000000, 600000000, 2685000000, 174293000000, ' European Investment Bank', 4)]"
      ]
     },
     "execution_count": 6,
     "metadata": {
      "tags": []
     },
     "output_type": "execute_result"
    }
   ],
   "source": [
    "# Let's load our government project dataset below\n",
    "with open('government_project_summary.csv','r') as f:\n",
    "    Government_Budget = pd.read_csv(f, index_col=0, encoding='utf-8') \n",
    "\n",
    "# Save the governmwnt budget dataset into a database\n",
    "%sql DROP TABLE if EXISTS Government_Budget;\n",
    "%sql PERSIST Government_Budget;\n",
    "\n",
    "# Display the first 5 entries from the database\n",
    "%sql SELECT * FROM Government_Budget LIMIT 5;"
   ]
  },
  {
   "cell_type": "markdown",
   "metadata": {
    "colab_type": "text",
    "id": "j7blcxQkWtbr"
   },
   "source": [
    "## 1.2 Using the AVG() aggregate function"
   ]
  },
  {
   "cell_type": "code",
   "execution_count": 0,
   "metadata": {
    "colab": {
     "base_uri": "https://localhost:8080/",
     "height": 88
    },
    "colab_type": "code",
    "executionInfo": {
     "elapsed": 1103,
     "status": "ok",
     "timestamp": 1583738947425,
     "user": {
      "displayName": "Michael Teddy",
      "photoUrl": "",
      "userId": "05465468862126933935"
     },
     "user_tz": -180
    },
    "id": "xejqEVS6XE3K",
    "outputId": "a27fc83b-a0e1-4df2-f628-020d78c3e931"
   },
   "outputs": [
    {
     "name": "stdout",
     "output_type": "stream",
     "text": [
      " * sqlite://\n",
      "Done.\n"
     ]
    },
    {
     "data": {
      "text/html": [
       "<table>\n",
       "    <tr>\n",
       "        <th>Average Population</th>\n",
       "    </tr>\n",
       "    <tr>\n",
       "        <td>66232.38202247191</td>\n",
       "    </tr>\n",
       "</table>"
      ],
      "text/plain": [
       "[(66232.38202247191,)]"
      ]
     },
     "execution_count": 8,
     "metadata": {
      "tags": []
     },
     "output_type": "execute_result"
    }
   ],
   "source": [
    "# Example 1 \n",
    "# We can find the average Total_population for urban centres in Kenya \n",
    "# by using the AVG() function as shown;\n",
    "#\n",
    "%%sql\n",
    "SELECT AVG(Total_population) as `Average Population` FROM Urban_Centres;"
   ]
  },
  {
   "cell_type": "code",
   "execution_count": 0,
   "metadata": {
    "colab": {
     "base_uri": "https://localhost:8080/",
     "height": 88
    },
    "colab_type": "code",
    "executionInfo": {
     "elapsed": 1992,
     "status": "ok",
     "timestamp": 1583740764808,
     "user": {
      "displayName": "Michael Teddy",
      "photoUrl": "",
      "userId": "05465468862126933935"
     },
     "user_tz": -180
    },
    "id": "pSul8oZAXODb",
    "outputId": "95958b57-aa17-4d33-e5ed-f542e7cca9b5"
   },
   "outputs": [
    {
     "name": "stdout",
     "output_type": "stream",
     "text": [
      " * sqlite://\n",
      "Done.\n"
     ]
    },
    {
     "data": {
      "text/html": [
       "<table>\n",
       "    <tr>\n",
       "        <th>AVG(Total_Budget_Supported__by_Donors_KES)</th>\n",
       "    </tr>\n",
       "    <tr>\n",
       "        <td>12154422103.65</td>\n",
       "    </tr>\n",
       "</table>"
      ],
      "text/plain": [
       "[(12154422103.65,)]"
      ]
     },
     "execution_count": 9,
     "metadata": {
      "tags": []
     },
     "output_type": "execute_result"
    }
   ],
   "source": [
    "# Example 2\n",
    "# What was the average funding provided by donors? \n",
    "# \n",
    "%%sql\n",
    "SELECT AVG(Total_Budget_Supported__by_Donors_KES) FROM Government_Budget;"
   ]
  },
  {
   "cell_type": "code",
   "execution_count": 0,
   "metadata": {
    "colab": {
     "base_uri": "https://localhost:8080/",
     "height": 88
    },
    "colab_type": "code",
    "executionInfo": {
     "elapsed": 846,
     "status": "ok",
     "timestamp": 1583740818639,
     "user": {
      "displayName": "Michael Teddy",
      "photoUrl": "",
      "userId": "05465468862126933935"
     },
     "user_tz": -180
    },
    "id": "fRbUWnBnXN4G",
    "outputId": "94c604c9-4e7e-4ad3-8886-e19bd34d81fb"
   },
   "outputs": [
    {
     "name": "stdout",
     "output_type": "stream",
     "text": [
      " * sqlite://\n",
      "Done.\n"
     ]
    },
    {
     "data": {
      "text/html": [
       "<table>\n",
       "    <tr>\n",
       "        <th>AVERAGE FEMALE HOUSEHOLDS</th>\n",
       "    </tr>\n",
       "    <tr>\n",
       "        <td>59974.46808510638</td>\n",
       "    </tr>\n",
       "</table>"
      ],
      "text/plain": [
       "[(59974.46808510638,)]"
      ]
     },
     "execution_count": 11,
     "metadata": {
      "tags": []
     },
     "output_type": "execute_result"
    }
   ],
   "source": [
    "# Example 3\n",
    "# What is the average no. of female households?\n",
    "#\n",
    "%%sql\n",
    "SELECT AVG(Number_of_households) AS `AVERAGE FEMALE HOUSEHOLDS` FROM Households WHERE gender=\"Female\";"
   ]
  },
  {
   "cell_type": "markdown",
   "metadata": {
    "colab_type": "text",
    "id": "0kirRUMgXaMs"
   },
   "source": [
    "### <font color=\"green\">1.2 Challenges</font>"
   ]
  },
  {
   "cell_type": "code",
   "execution_count": 0,
   "metadata": {
    "colab": {
     "base_uri": "https://localhost:8080/",
     "height": 88
    },
    "colab_type": "code",
    "executionInfo": {
     "elapsed": 1098,
     "status": "ok",
     "timestamp": 1583741077927,
     "user": {
      "displayName": "Michael Teddy",
      "photoUrl": "",
      "userId": "05465468862126933935"
     },
     "user_tz": -180
    },
    "id": "xbn296l_Xp0a",
    "outputId": "5c0c6a0e-80c1-4de4-9eb7-a7a42539c1c6"
   },
   "outputs": [
    {
     "name": "stdout",
     "output_type": "stream",
     "text": [
      " * sqlite://\n",
      "Done.\n"
     ]
    },
    {
     "data": {
      "text/html": [
       "<table>\n",
       "    <tr>\n",
       "        <th>Average Core Urban</th>\n",
       "    </tr>\n",
       "    <tr>\n",
       "        <td>49875.38764044944</td>\n",
       "    </tr>\n",
       "</table>"
      ],
      "text/plain": [
       "[(49875.38764044944,)]"
      ]
     },
     "execution_count": 13,
     "metadata": {
      "tags": []
     },
     "output_type": "execute_result"
    }
   ],
   "source": [
    "# Challenge 1\n",
    "# Calculate the average core urban population?\n",
    "#\n",
    "%%sql\n",
    "\n",
    "SELECT AVG(core_urban_population) as `Average Core Urban` FROM Urban_Centres;"
   ]
  },
  {
   "cell_type": "code",
   "execution_count": 0,
   "metadata": {
    "colab": {
     "base_uri": "https://localhost:8080/",
     "height": 88
    },
    "colab_type": "code",
    "executionInfo": {
     "elapsed": 914,
     "status": "ok",
     "timestamp": 1583741509681,
     "user": {
      "displayName": "Michael Teddy",
      "photoUrl": "",
      "userId": "05465468862126933935"
     },
     "user_tz": -180
    },
    "id": "UT-YLh2mXqkx",
    "outputId": "0735f723-9c0a-418c-dccb-fd922026f55e"
   },
   "outputs": [
    {
     "name": "stdout",
     "output_type": "stream",
     "text": [
      " * sqlite://\n",
      "Done.\n"
     ]
    },
    {
     "data": {
      "text/html": [
       "<table>\n",
       "    <tr>\n",
       "        <th>Average Grant</th>\n",
       "    </tr>\n",
       "    <tr>\n",
       "        <td>2783716826.775</td>\n",
       "    </tr>\n",
       "</table>"
      ],
      "text/plain": [
       "[(2783716826.775,)]"
      ]
     },
     "execution_count": 16,
     "metadata": {
      "tags": []
     },
     "output_type": "execute_result"
    }
   ],
   "source": [
    "# Challenge 2\n",
    "# Calculate the average grant for project allocations to the Kenyan government?\n",
    "# \n",
    "%%sql\n",
    "\n",
    "SELECT AVG(`Total_-_Grant_Budget_Est_KES`) as `Average Grant` FROM Government_Budget;"
   ]
  },
  {
   "cell_type": "code",
   "execution_count": 0,
   "metadata": {
    "colab": {
     "base_uri": "https://localhost:8080/",
     "height": 88
    },
    "colab_type": "code",
    "executionInfo": {
     "elapsed": 1516,
     "status": "ok",
     "timestamp": 1583744241201,
     "user": {
      "displayName": "Michael Teddy",
      "photoUrl": "",
      "userId": "05465468862126933935"
     },
     "user_tz": -180
    },
    "id": "VjBWjGp9XqWY",
    "outputId": "29aec176-7554-4d37-9a14-3889c35d6e4d"
   },
   "outputs": [
    {
     "name": "stdout",
     "output_type": "stream",
     "text": [
      " * sqlite://\n",
      "Done.\n"
     ]
    },
    {
     "data": {
      "text/html": [
       "<table>\n",
       "    <tr>\n",
       "        <th>AVG((`Age_Group_of_Household_head_25-34_%`/100) * `Number_of_households`)</th>\n",
       "    </tr>\n",
       "    <tr>\n",
       "        <td>68177.45029411765</td>\n",
       "    </tr>\n",
       "</table>"
      ],
      "text/plain": [
       "[(68177.45029411765,)]"
      ]
     },
     "execution_count": 42,
     "metadata": {
      "tags": []
     },
     "output_type": "execute_result"
    }
   ],
   "source": [
    "# Challenge 3\n",
    "# Calculate the average number of male households in Kenya\n",
    "# with an age group of atleast 30% household age group of 25 - 34yrs?\n",
    "# \n",
    "%%sql\n",
    "\n",
    "SELECT AVG((`Age_Group_of_Household_head_25-34_%`/100) * `Number_of_households`) FROM `Households`\n",
    "WHERE (`Gender` = 'Male'  and `Age_Group_of_Household_head_25-34_%` >= 30)"
   ]
  },
  {
   "cell_type": "markdown",
   "metadata": {
    "colab_type": "text",
    "id": "xeNCrrnOWvIi"
   },
   "source": [
    "## 1.3 Performing Arithmetic Operations\n"
   ]
  },
  {
   "cell_type": "code",
   "execution_count": 0,
   "metadata": {
    "colab": {
     "base_uri": "https://localhost:8080/",
     "height": 71
    },
    "colab_type": "code",
    "executionInfo": {
     "elapsed": 943,
     "status": "ok",
     "timestamp": 1583743742968,
     "user": {
      "displayName": "Michael Teddy",
      "photoUrl": "",
      "userId": "05465468862126933935"
     },
     "user_tz": -180
    },
    "id": "NQaUfmLAX3-n",
    "outputId": "180c9190-310a-4811-8bf9-b6aa9c474d29"
   },
   "outputs": [
    {
     "name": "stdout",
     "output_type": "stream",
     "text": [
      " * sqlite://\n",
      "Done.\n"
     ]
    },
    {
     "data": {
      "text/html": [
       "<table>\n",
       "    <tr>\n",
       "        <th>Urban_centre</th>\n",
       "        <th>Total_population</th>\n",
       "        <th>Core_urban_population</th>\n",
       "        <th>Peri_urban_population</th>\n",
       "        <th>Sex_ratio</th>\n",
       "        <th>co-ordinates</th>\n",
       "        <th>OBJECTID</th>\n",
       "    </tr>\n",
       "</table>"
      ],
      "text/plain": [
       "[]"
      ]
     },
     "execution_count": 38,
     "metadata": {
      "tags": []
     },
     "output_type": "execute_result"
    }
   ],
   "source": [
    "# Example 1\n",
    "# Let's do some data cleaning procedures by trying to find out the number \n",
    "# of records whose addition of core urban population \n",
    "# and peri urban population does not add up to the total urban population.\n",
    "#\n",
    "%%sql\n",
    "SELECT * FROM Urban_Centres WHERE (Core_urban_population + Peri_urban_population) != Total_population;"
   ]
  },
  {
   "cell_type": "code",
   "execution_count": 0,
   "metadata": {
    "colab": {
     "base_uri": "https://localhost:8080/",
     "height": 924
    },
    "colab_type": "code",
    "executionInfo": {
     "elapsed": 934,
     "status": "ok",
     "timestamp": 1583744300139,
     "user": {
      "displayName": "Michael Teddy",
      "photoUrl": "",
      "userId": "05465468862126933935"
     },
     "user_tz": -180
    },
    "id": "KLPKHaXgX32_",
    "outputId": "4e7379df-e84f-4264-d7dd-e3a33ea1453a"
   },
   "outputs": [
    {
     "name": "stdout",
     "output_type": "stream",
     "text": [
      " * sqlite://\n",
      "Done.\n"
     ]
    },
    {
     "data": {
      "text/html": [
       "<table>\n",
       "    <tr>\n",
       "        <th>Urban_centre</th>\n",
       "        <th>Total_population</th>\n",
       "        <th>Core_urban_population</th>\n",
       "        <th>Peri_urban_population</th>\n",
       "        <th>Sex_ratio</th>\n",
       "        <th>co-ordinates</th>\n",
       "        <th>OBJECTID</th>\n",
       "    </tr>\n",
       "    <tr>\n",
       "        <td>Ahero</td>\n",
       "        <td>54194</td>\n",
       "        <td>8362</td>\n",
       "        <td>45832</td>\n",
       "        <td>92</td>\n",
       "        <td>(-0.156472052, 34.922629149999999)</td>\n",
       "        <td>0</td>\n",
       "    </tr>\n",
       "    <tr>\n",
       "        <td>Archers Post</td>\n",
       "        <td>6123</td>\n",
       "        <td>2683</td>\n",
       "        <td>3440</td>\n",
       "        <td>106</td>\n",
       "        <td>(0.64069109999999996, 37.6491483)</td>\n",
       "        <td>1</td>\n",
       "    </tr>\n",
       "    <tr>\n",
       "        <td>Awendo</td>\n",
       "        <td>108742</td>\n",
       "        <td>17909</td>\n",
       "        <td>90833</td>\n",
       "        <td>94</td>\n",
       "        <td>(-0.89444667099999997, 34.536880379999999)</td>\n",
       "        <td>2</td>\n",
       "    </tr>\n",
       "    <tr>\n",
       "        <td>Bomet</td>\n",
       "        <td>83440</td>\n",
       "        <td>6742</td>\n",
       "        <td>76698</td>\n",
       "        <td>98</td>\n",
       "        <td>(-0.76932068200000003, 35.350992400000003)</td>\n",
       "        <td>5</td>\n",
       "    </tr>\n",
       "    <tr>\n",
       "        <td>Bondo</td>\n",
       "        <td>33197</td>\n",
       "        <td>14478</td>\n",
       "        <td>18719</td>\n",
       "        <td>91</td>\n",
       "        <td>(-0.085401447000000005, 34.274145799999999)</td>\n",
       "        <td>6</td>\n",
       "    </tr>\n",
       "    <tr>\n",
       "        <td>Butere</td>\n",
       "        <td>12503</td>\n",
       "        <td>4448</td>\n",
       "        <td>8055</td>\n",
       "        <td>88</td>\n",
       "        <td>(0.21676480000000001, 34.475354799999998)</td>\n",
       "        <td>9</td>\n",
       "    </tr>\n",
       "    <tr>\n",
       "        <td>Chogoria</td>\n",
       "        <td>28530</td>\n",
       "        <td>6434</td>\n",
       "        <td>22096</td>\n",
       "        <td>100</td>\n",
       "        <td>(-0.22342748200000001, 37.616568299999997)</td>\n",
       "        <td>11</td>\n",
       "    </tr>\n",
       "    <tr>\n",
       "        <td>Chuka</td>\n",
       "        <td>43064</td>\n",
       "        <td>7614</td>\n",
       "        <td>35450</td>\n",
       "        <td>96</td>\n",
       "        <td>(-0.32020847200000002, 37.63234044)</td>\n",
       "        <td>12</td>\n",
       "    </tr>\n",
       "    <tr>\n",
       "        <td>Homa Bay</td>\n",
       "        <td>59165</td>\n",
       "        <td>28593</td>\n",
       "        <td>30572</td>\n",
       "        <td>91</td>\n",
       "        <td>(-0.51342902499999998, 34.46228764)</td>\n",
       "        <td>29</td>\n",
       "    </tr>\n",
       "    <tr>\n",
       "        <td>Iten/Tambach</td>\n",
       "        <td>44513</td>\n",
       "        <td>9012</td>\n",
       "        <td>35501</td>\n",
       "        <td>95</td>\n",
       "        <td>(0.68984582100000003, 35.512455490000001)</td>\n",
       "        <td>32</td>\n",
       "    </tr>\n",
       "    <tr>\n",
       "        <td>Kandara</td>\n",
       "        <td>12889</td>\n",
       "        <td>0</td>\n",
       "        <td>12889</td>\n",
       "        <td>93</td>\n",
       "        <td>(-0.87894349299999996, 36.984498909999999)</td>\n",
       "        <td>39</td>\n",
       "    </tr>\n",
       "    <tr>\n",
       "        <td>Kangundo-Tala</td>\n",
       "        <td>218722</td>\n",
       "        <td>13119</td>\n",
       "        <td>205603</td>\n",
       "        <td>98</td>\n",
       "        <td>(-1.2877069160000001, 37.330792109999997)</td>\n",
       "        <td>40</td>\n",
       "    </tr>\n",
       "    <tr>\n",
       "        <td>Kapsabet</td>\n",
       "        <td>87850</td>\n",
       "        <td>23303</td>\n",
       "        <td>64547</td>\n",
       "        <td>98</td>\n",
       "        <td>(0.22172877399999999, 35.110666889999997)</td>\n",
       "        <td>42</td>\n",
       "    </tr>\n",
       "    <tr>\n",
       "        <td>Katito</td>\n",
       "        <td>7840</td>\n",
       "        <td>3067</td>\n",
       "        <td>4773</td>\n",
       "        <td>89</td>\n",
       "        <td>(-0.26996690000000001, 34.969609400000003)</td>\n",
       "        <td>47</td>\n",
       "    </tr>\n",
       "    <tr>\n",
       "        <td>Kendu Bay</td>\n",
       "        <td>16030</td>\n",
       "        <td>5213</td>\n",
       "        <td>10817</td>\n",
       "        <td>92</td>\n",
       "        <td>(-0.34699610800000003, 34.649178089999999)</td>\n",
       "        <td>49</td>\n",
       "    </tr>\n",
       "    <tr>\n",
       "        <td>Kericho</td>\n",
       "        <td>127042</td>\n",
       "        <td>40813</td>\n",
       "        <td>86229</td>\n",
       "        <td>102</td>\n",
       "        <td>(-0.353571784, 35.28978755)</td>\n",
       "        <td>50</td>\n",
       "    </tr>\n",
       "    <tr>\n",
       "        <td>Keroka</td>\n",
       "        <td>49853</td>\n",
       "        <td>6949</td>\n",
       "        <td>42904</td>\n",
       "        <td>90</td>\n",
       "        <td>(-0.759323847, 34.95244804)</td>\n",
       "        <td>51</td>\n",
       "    </tr>\n",
       "    <tr>\n",
       "        <td>Kimilili</td>\n",
       "        <td>94719</td>\n",
       "        <td>40928</td>\n",
       "        <td>53791</td>\n",
       "        <td>94</td>\n",
       "        <td>(0.79948592500000004, 34.711513910000001)</td>\n",
       "        <td>58</td>\n",
       "    </tr>\n",
       "    <tr>\n",
       "        <td>Kiminini</td>\n",
       "        <td>11642</td>\n",
       "        <td>5523</td>\n",
       "        <td>6119</td>\n",
       "        <td>85</td>\n",
       "        <td>(0.90853975600000003, 34.92532886)</td>\n",
       "        <td>59</td>\n",
       "    </tr>\n",
       "    <tr>\n",
       "        <td>Kinango</td>\n",
       "        <td>7682</td>\n",
       "        <td>4317</td>\n",
       "        <td>3365</td>\n",
       "        <td>93</td>\n",
       "        <td>(-4.1045338190000002, 39.313578219999997)</td>\n",
       "        <td>60</td>\n",
       "    </tr>\n",
       "    <tr>\n",
       "        <td>Kipkelion</td>\n",
       "        <td>47902</td>\n",
       "        <td>3582</td>\n",
       "        <td>44320</td>\n",
       "        <td>98</td>\n",
       "        <td>(-0.17626963900000001, 35.466227510000003)</td>\n",
       "        <td>61</td>\n",
       "    </tr>\n",
       "    <tr>\n",
       "        <td>Kitui</td>\n",
       "        <td>115183</td>\n",
       "        <td>19067</td>\n",
       "        <td>96116</td>\n",
       "        <td>94</td>\n",
       "        <td>(-1.3667407, 38.009941499999996)</td>\n",
       "        <td>67</td>\n",
       "    </tr>\n",
       "    <tr>\n",
       "        <td>Kwale</td>\n",
       "        <td>21378</td>\n",
       "        <td>6037</td>\n",
       "        <td>15341</td>\n",
       "        <td>91</td>\n",
       "        <td>(-4.1487008769999996, 39.455571740000003)</td>\n",
       "        <td>69</td>\n",
       "    </tr>\n",
       "    <tr>\n",
       "        <td>Londiani</td>\n",
       "        <td>44843</td>\n",
       "        <td>5405</td>\n",
       "        <td>39438</td>\n",
       "        <td>99</td>\n",
       "        <td>(-0.14696747299999999, 35.6003002)</td>\n",
       "        <td>76</td>\n",
       "    </tr>\n",
       "    <tr>\n",
       "        <td>Luanda</td>\n",
       "        <td>49156</td>\n",
       "        <td>7149</td>\n",
       "        <td>42007</td>\n",
       "        <td>92</td>\n",
       "        <td>(0.045638918000000001, 34.583453140000003)</td>\n",
       "        <td>77</td>\n",
       "    </tr>\n",
       "    <tr>\n",
       "        <td>Lumakanda</td>\n",
       "        <td>10548</td>\n",
       "        <td>2478</td>\n",
       "        <td>8070</td>\n",
       "        <td>99</td>\n",
       "        <td>(0.63659500000000002, 35.0108751)</td>\n",
       "        <td>78</td>\n",
       "    </tr>\n",
       "    <tr>\n",
       "        <td>Machakos</td>\n",
       "        <td>150467</td>\n",
       "        <td>40819</td>\n",
       "        <td>109648</td>\n",
       "        <td>97</td>\n",
       "        <td>(-1.506809311, 37.258834540000002)</td>\n",
       "        <td>79</td>\n",
       "    </tr>\n",
       "    <tr>\n",
       "        <td>Makuyu</td>\n",
       "        <td>47452</td>\n",
       "        <td>6955</td>\n",
       "        <td>40497</td>\n",
       "        <td>99</td>\n",
       "        <td>(-0.88942170300000001, 37.186287710000002)</td>\n",
       "        <td>86</td>\n",
       "    </tr>\n",
       "    <tr>\n",
       "        <td>Maragwa</td>\n",
       "        <td>25081</td>\n",
       "        <td>4263</td>\n",
       "        <td>20818</td>\n",
       "        <td>95</td>\n",
       "        <td>(-0.790646933, 37.129400400000002)</td>\n",
       "        <td>90</td>\n",
       "    </tr>\n",
       "    <tr>\n",
       "        <td>Marimanti</td>\n",
       "        <td>8535</td>\n",
       "        <td>1638</td>\n",
       "        <td>6897</td>\n",
       "        <td>97</td>\n",
       "        <td>(-0.1558254, 37.957881399999998)</td>\n",
       "        <td>95</td>\n",
       "    </tr>\n",
       "    <tr>\n",
       "        <td>Masimba</td>\n",
       "        <td>34973</td>\n",
       "        <td>1146</td>\n",
       "        <td>33827</td>\n",
       "        <td>90</td>\n",
       "        <td>(-0.86112840000000002, 34.930944199999999)</td>\n",
       "        <td>99</td>\n",
       "    </tr>\n",
       "    <tr>\n",
       "        <td>Matuu</td>\n",
       "        <td>51025</td>\n",
       "        <td>10569</td>\n",
       "        <td>40456</td>\n",
       "        <td>96</td>\n",
       "        <td>(-1.1431591999999999, 37.530126899999999)</td>\n",
       "        <td>101</td>\n",
       "    </tr>\n",
       "    <tr>\n",
       "        <td>Muhoroni</td>\n",
       "        <td>34379</td>\n",
       "        <td>14756</td>\n",
       "        <td>19623</td>\n",
       "        <td>108</td>\n",
       "        <td>(-0.12975930099999999, 35.189717829999999)</td>\n",
       "        <td>116</td>\n",
       "    </tr>\n",
       "    <tr>\n",
       "        <td>Mukurwe-Ini</td>\n",
       "        <td>5402</td>\n",
       "        <td>2168</td>\n",
       "        <td>3234</td>\n",
       "        <td>95</td>\n",
       "        <td>(-0.55321465400000003, 37.041835319999997)</td>\n",
       "        <td>118</td>\n",
       "    </tr>\n",
       "    <tr>\n",
       "        <td>Mumias</td>\n",
       "        <td>102208</td>\n",
       "        <td>38623</td>\n",
       "        <td>63585</td>\n",
       "        <td>95</td>\n",
       "        <td>(0.33317140000000001, 34.477972800000003)</td>\n",
       "        <td>119</td>\n",
       "    </tr>\n",
       "    <tr>\n",
       "        <td>Nyamira</td>\n",
       "        <td>56857</td>\n",
       "        <td>12657</td>\n",
       "        <td>44200</td>\n",
       "        <td>92</td>\n",
       "        <td>(-0.56332979999999999, 34.893209900000002)</td>\n",
       "        <td>137</td>\n",
       "    </tr>\n",
       "    <tr>\n",
       "        <td>Ol Kalou</td>\n",
       "        <td>67186</td>\n",
       "        <td>7010</td>\n",
       "        <td>60176</td>\n",
       "        <td>96</td>\n",
       "        <td>(-0.26985817099999998, 36.370259300000001)</td>\n",
       "        <td>140</td>\n",
       "    </tr>\n",
       "    <tr>\n",
       "        <td>Oyugis</td>\n",
       "        <td>36528</td>\n",
       "        <td>8917</td>\n",
       "        <td>27611</td>\n",
       "        <td>89</td>\n",
       "        <td>(-0.49686285099999999, 34.730712910000001)</td>\n",
       "        <td>143</td>\n",
       "    </tr>\n",
       "    <tr>\n",
       "        <td>Rongo</td>\n",
       "        <td>81968</td>\n",
       "        <td>12282</td>\n",
       "        <td>69686</td>\n",
       "        <td>92</td>\n",
       "        <td>(-0.74350079099999999, 34.604594759999998)</td>\n",
       "        <td>146</td>\n",
       "    </tr>\n",
       "    <tr>\n",
       "        <td>Runyenjes</td>\n",
       "        <td>19434</td>\n",
       "        <td>1956</td>\n",
       "        <td>17478</td>\n",
       "        <td>95</td>\n",
       "        <td>(-0.40199000499999998, 37.558866020000004)</td>\n",
       "        <td>148</td>\n",
       "    </tr>\n",
       "    <tr>\n",
       "        <td>Shamata</td>\n",
       "        <td>9221</td>\n",
       "        <td>2921</td>\n",
       "        <td>6300</td>\n",
       "        <td>96</td>\n",
       "        <td>(-0.1164949, 36.479957200000001)</td>\n",
       "        <td>150</td>\n",
       "    </tr>\n",
       "    <tr>\n",
       "        <td>Suneka</td>\n",
       "        <td>50961</td>\n",
       "        <td>5688</td>\n",
       "        <td>45273</td>\n",
       "        <td>92</td>\n",
       "        <td>(-0.67782799999999999, 34.700317200000001)</td>\n",
       "        <td>158</td>\n",
       "    </tr>\n",
       "    <tr>\n",
       "        <td>Uriri</td>\n",
       "        <td>6202</td>\n",
       "        <td>0</td>\n",
       "        <td>6202</td>\n",
       "        <td>90</td>\n",
       "        <td>(0.031698400000000002, 34.451698)</td>\n",
       "        <td>167</td>\n",
       "    </tr>\n",
       "    <tr>\n",
       "        <td>Vihiga</td>\n",
       "        <td>124391</td>\n",
       "        <td>36380</td>\n",
       "        <td>88011</td>\n",
       "        <td>92</td>\n",
       "        <td>(0.30366979, 34.94499751)</td>\n",
       "        <td>169</td>\n",
       "    </tr>\n",
       "    <tr>\n",
       "        <td>Wajir</td>\n",
       "        <td>82106</td>\n",
       "        <td>16188</td>\n",
       "        <td>65918</td>\n",
       "        <td>111</td>\n",
       "        <td>(1.7462282250000001, 40.057254749999998)</td>\n",
       "        <td>171</td>\n",
       "    </tr>\n",
       "    <tr>\n",
       "        <td>Wamba</td>\n",
       "        <td>6059</td>\n",
       "        <td>2579</td>\n",
       "        <td>3480</td>\n",
       "        <td>99</td>\n",
       "        <td>(0.98577954499999998, 37.32137101)</td>\n",
       "        <td>172</td>\n",
       "    </tr>\n",
       "    <tr>\n",
       "        <td>Webuye</td>\n",
       "        <td>49767</td>\n",
       "        <td>23364</td>\n",
       "        <td>26403</td>\n",
       "        <td>97</td>\n",
       "        <td>(0.61901399499999998, 34.765001550000001)</td>\n",
       "        <td>175</td>\n",
       "    </tr>\n",
       "    <tr>\n",
       "        <td>Wote</td>\n",
       "        <td>67542</td>\n",
       "        <td>9433</td>\n",
       "        <td>58109</td>\n",
       "        <td>99</td>\n",
       "        <td>(-1.7848607000000001, 37.612123099999998)</td>\n",
       "        <td>176</td>\n",
       "    </tr>\n",
       "</table>"
      ],
      "text/plain": [
       "[('Ahero', 54194, 8362, 45832, 92, '(-0.156472052, 34.922629149999999)', 0),\n",
       " ('Archers Post', 6123, 2683, 3440, 106, '(0.64069109999999996, 37.6491483)', 1),\n",
       " ('Awendo', 108742, 17909, 90833, 94, '(-0.89444667099999997, 34.536880379999999)', 2),\n",
       " ('Bomet', 83440, 6742, 76698, 98, '(-0.76932068200000003, 35.350992400000003)', 5),\n",
       " ('Bondo', 33197, 14478, 18719, 91, '(-0.085401447000000005, 34.274145799999999)', 6),\n",
       " ('Butere', 12503, 4448, 8055, 88, '(0.21676480000000001, 34.475354799999998)', 9),\n",
       " ('Chogoria', 28530, 6434, 22096, 100, '(-0.22342748200000001, 37.616568299999997)', 11),\n",
       " ('Chuka', 43064, 7614, 35450, 96, '(-0.32020847200000002, 37.63234044)', 12),\n",
       " ('Homa Bay', 59165, 28593, 30572, 91, '(-0.51342902499999998, 34.46228764)', 29),\n",
       " ('Iten/Tambach', 44513, 9012, 35501, 95, '(0.68984582100000003, 35.512455490000001)', 32),\n",
       " ('Kandara', 12889, 0, 12889, 93, '(-0.87894349299999996, 36.984498909999999)', 39),\n",
       " ('Kangundo-Tala', 218722, 13119, 205603, 98, '(-1.2877069160000001, 37.330792109999997)', 40),\n",
       " ('Kapsabet', 87850, 23303, 64547, 98, '(0.22172877399999999, 35.110666889999997)', 42),\n",
       " ('Katito', 7840, 3067, 4773, 89, '(-0.26996690000000001, 34.969609400000003)', 47),\n",
       " ('Kendu Bay', 16030, 5213, 10817, 92, '(-0.34699610800000003, 34.649178089999999)', 49),\n",
       " ('Kericho', 127042, 40813, 86229, 102, '(-0.353571784, 35.28978755)', 50),\n",
       " ('Keroka', 49853, 6949, 42904, 90, '(-0.759323847, 34.95244804)', 51),\n",
       " ('Kimilili', 94719, 40928, 53791, 94, '(0.79948592500000004, 34.711513910000001)', 58),\n",
       " ('Kiminini', 11642, 5523, 6119, 85, '(0.90853975600000003, 34.92532886)', 59),\n",
       " ('Kinango', 7682, 4317, 3365, 93, '(-4.1045338190000002, 39.313578219999997)', 60),\n",
       " ('Kipkelion', 47902, 3582, 44320, 98, '(-0.17626963900000001, 35.466227510000003)', 61),\n",
       " ('Kitui', 115183, 19067, 96116, 94, '(-1.3667407, 38.009941499999996)', 67),\n",
       " ('Kwale', 21378, 6037, 15341, 91, '(-4.1487008769999996, 39.455571740000003)', 69),\n",
       " ('Londiani', 44843, 5405, 39438, 99, '(-0.14696747299999999, 35.6003002)', 76),\n",
       " ('Luanda', 49156, 7149, 42007, 92, '(0.045638918000000001, 34.583453140000003)', 77),\n",
       " ('Lumakanda', 10548, 2478, 8070, 99, '(0.63659500000000002, 35.0108751)', 78),\n",
       " ('Machakos', 150467, 40819, 109648, 97, '(-1.506809311, 37.258834540000002)', 79),\n",
       " ('Makuyu', 47452, 6955, 40497, 99, '(-0.88942170300000001, 37.186287710000002)', 86),\n",
       " ('Maragwa', 25081, 4263, 20818, 95, '(-0.790646933, 37.129400400000002)', 90),\n",
       " ('Marimanti', 8535, 1638, 6897, 97, '(-0.1558254, 37.957881399999998)', 95),\n",
       " ('Masimba', 34973, 1146, 33827, 90, '(-0.86112840000000002, 34.930944199999999)', 99),\n",
       " ('Matuu', 51025, 10569, 40456, 96, '(-1.1431591999999999, 37.530126899999999)', 101),\n",
       " ('Muhoroni', 34379, 14756, 19623, 108, '(-0.12975930099999999, 35.189717829999999)', 116),\n",
       " ('Mukurwe-Ini', 5402, 2168, 3234, 95, '(-0.55321465400000003, 37.041835319999997)', 118),\n",
       " ('Mumias', 102208, 38623, 63585, 95, '(0.33317140000000001, 34.477972800000003)', 119),\n",
       " ('Nyamira', 56857, 12657, 44200, 92, '(-0.56332979999999999, 34.893209900000002)', 137),\n",
       " ('Ol Kalou', 67186, 7010, 60176, 96, '(-0.26985817099999998, 36.370259300000001)', 140),\n",
       " ('Oyugis', 36528, 8917, 27611, 89, '(-0.49686285099999999, 34.730712910000001)', 143),\n",
       " ('Rongo', 81968, 12282, 69686, 92, '(-0.74350079099999999, 34.604594759999998)', 146),\n",
       " ('Runyenjes', 19434, 1956, 17478, 95, '(-0.40199000499999998, 37.558866020000004)', 148),\n",
       " ('Shamata', 9221, 2921, 6300, 96, '(-0.1164949, 36.479957200000001)', 150),\n",
       " ('Suneka', 50961, 5688, 45273, 92, '(-0.67782799999999999, 34.700317200000001)', 158),\n",
       " ('Uriri', 6202, 0, 6202, 90, '(0.031698400000000002, 34.451698)', 167),\n",
       " ('Vihiga', 124391, 36380, 88011, 92, '(0.30366979, 34.94499751)', 169),\n",
       " ('Wajir', 82106, 16188, 65918, 111, '(1.7462282250000001, 40.057254749999998)', 171),\n",
       " ('Wamba', 6059, 2579, 3480, 99, '(0.98577954499999998, 37.32137101)', 172),\n",
       " ('Webuye', 49767, 23364, 26403, 97, '(0.61901399499999998, 34.765001550000001)', 175),\n",
       " ('Wote', 67542, 9433, 58109, 99, '(-1.7848607000000001, 37.612123099999998)', 176)]"
      ]
     },
     "execution_count": 43,
     "metadata": {
      "tags": []
     },
     "output_type": "execute_result"
    }
   ],
   "source": [
    "# Example 2 \n",
    "# Which urban centers' difference between the core urban population \n",
    "# and the peri urban population was less than 1000?\n",
    "#\n",
    "%%sql \n",
    "SELECT * FROM Urban_Centres WHERE (Core_urban_population - Peri_urban_population) < 1000"
   ]
  },
  {
   "cell_type": "code",
   "execution_count": 0,
   "metadata": {
    "colab": {
     "base_uri": "https://localhost:8080/",
     "height": 622
    },
    "colab_type": "code",
    "executionInfo": {
     "elapsed": 927,
     "status": "ok",
     "timestamp": 1583745517130,
     "user": {
      "displayName": "Michael Teddy",
      "photoUrl": "",
      "userId": "05465468862126933935"
     },
     "user_tz": -180
    },
    "id": "LYeZwxqtX3ug",
    "outputId": "a59206a8-bae8-4f7b-b873-8a008c10d9c0"
   },
   "outputs": [
    {
     "name": "stdout",
     "output_type": "stream",
     "text": [
      " * sqlite://\n",
      "Done.\n"
     ]
    },
    {
     "data": {
      "text/html": [
       "<table>\n",
       "    <tr>\n",
       "        <th>Funding_Source</th>\n",
       "    </tr>\n",
       "    <tr>\n",
       "        <td> Government of Sweden</td>\n",
       "    </tr>\n",
       "    <tr>\n",
       "        <td> United Nations Development Programme (UNDP)</td>\n",
       "    </tr>\n",
       "    <tr>\n",
       "        <td> World Food Programme</td>\n",
       "    </tr>\n",
       "    <tr>\n",
       "        <td> African Development Bank/ Fund</td>\n",
       "    </tr>\n",
       "    <tr>\n",
       "        <td> European Investment Bank</td>\n",
       "    </tr>\n",
       "    <tr>\n",
       "        <td> Government of India</td>\n",
       "    </tr>\n",
       "    <tr>\n",
       "        <td> Government of Italy</td>\n",
       "    </tr>\n",
       "    <tr>\n",
       "        <td>Government of Kenya</td>\n",
       "    </tr>\n",
       "    <tr>\n",
       "        <td> Government of United States of America (USAID)</td>\n",
       "    </tr>\n",
       "    <tr>\n",
       "        <td> Government of Spain</td>\n",
       "    </tr>\n",
       "    <tr>\n",
       "        <td> Kuwait Fund for Arab Development</td>\n",
       "    </tr>\n",
       "    <tr>\n",
       "        <td> Arab Bank for Economic Development in Africa (BADEA)</td>\n",
       "    </tr>\n",
       "    <tr>\n",
       "        <td> Government of South Korea</td>\n",
       "    </tr>\n",
       "    <tr>\n",
       "        <td> Government of Denmark</td>\n",
       "    </tr>\n",
       "    <tr>\n",
       "        <td> Abhu Dhabi Fund</td>\n",
       "    </tr>\n",
       "    <tr>\n",
       "        <td> Government of China</td>\n",
       "    </tr>\n",
       "    <tr>\n",
       "        <td> Investment Climate Facility (ICF)</td>\n",
       "    </tr>\n",
       "    <tr>\n",
       "        <td> Government of Finland</td>\n",
       "    </tr>\n",
       "    <tr>\n",
       "        <td> International Development Association (IDA)</td>\n",
       "    </tr>\n",
       "    <tr>\n",
       "        <td> Saudi Fund for Development</td>\n",
       "    </tr>\n",
       "    <tr>\n",
       "        <td> European Development Fund</td>\n",
       "    </tr>\n",
       "    <tr>\n",
       "        <td> Global Fund</td>\n",
       "    </tr>\n",
       "    <tr>\n",
       "        <td> Government of Germany (GIZ GERMANY)</td>\n",
       "    </tr>\n",
       "    <tr>\n",
       "        <td> United Kingdom DFID (UK)</td>\n",
       "    </tr>\n",
       "    <tr>\n",
       "        <td> Government of Germany (KFW GERMANY)</td>\n",
       "    </tr>\n",
       "    <tr>\n",
       "        <td> Government of France</td>\n",
       "    </tr>\n",
       "    <tr>\n",
       "        <td> Government of Japan</td>\n",
       "    </tr>\n",
       "    <tr>\n",
       "        <td> United Nations Environmental Programme (UNEP)</td>\n",
       "    </tr>\n",
       "    <tr>\n",
       "        <td> International Fund for Agricultural Development (IFAD)</td>\n",
       "    </tr>\n",
       "    <tr>\n",
       "        <td> Organization of Petroleum Exporting Countries (OPEC)</td>\n",
       "    </tr>\n",
       "    <tr>\n",
       "        <td> Food and Agricultural Organization</td>\n",
       "    </tr>\n",
       "</table>"
      ],
      "text/plain": [
       "[(' Government of Sweden',),\n",
       " (' United Nations Development Programme (UNDP)',),\n",
       " (' World Food Programme',),\n",
       " (' African Development Bank/ Fund',),\n",
       " (' European Investment Bank',),\n",
       " (' Government of India',),\n",
       " (' Government of Italy',),\n",
       " ('Government of Kenya',),\n",
       " (' Government of United States of America (USAID)',),\n",
       " (' Government of Spain',),\n",
       " (' Kuwait Fund for Arab Development',),\n",
       " (' Arab Bank for Economic Development in Africa (BADEA)',),\n",
       " (' Government of South Korea',),\n",
       " (' Government of Denmark',),\n",
       " (' Abhu Dhabi Fund',),\n",
       " (' Government of China',),\n",
       " (' Investment Climate Facility (ICF)',),\n",
       " (' Government of Finland',),\n",
       " (' International Development Association (IDA)',),\n",
       " (' Saudi Fund for Development',),\n",
       " (' European Development Fund',),\n",
       " (' Global Fund',),\n",
       " (' Government of Germany (GIZ GERMANY)',),\n",
       " (' United Kingdom DFID (UK)',),\n",
       " (' Government of Germany (KFW GERMANY)',),\n",
       " (' Government of France',),\n",
       " (' Government of Japan',),\n",
       " (' United Nations Environmental Programme (UNEP)',),\n",
       " (' International Fund for Agricultural Development (IFAD)',),\n",
       " (' Organization of Petroleum Exporting Countries (OPEC)',),\n",
       " (' Food and Agricultural Organization',)]"
      ]
     },
     "execution_count": 50,
     "metadata": {
      "tags": []
     },
     "output_type": "execute_result"
    }
   ],
   "source": [
    "# Example 3\n",
    "# Which donors funded projects amounting to more than 50& of the project cost?\n",
    "# \n",
    "%%sql\n",
    "SELECT Funding_Source  FROM Government_Budget WHERE (Total_Project_Cost_KES / Total_Budget_Supported__by_Donors_KES) > 0.5;"
   ]
  },
  {
   "cell_type": "markdown",
   "metadata": {
    "colab_type": "text",
    "id": "Ydq-Lp9vX710"
   },
   "source": [
    "### <font color=\"green\">1.3 Challenges</font>"
   ]
  },
  {
   "cell_type": "code",
   "execution_count": 0,
   "metadata": {
    "colab": {
     "base_uri": "https://localhost:8080/",
     "height": 88
    },
    "colab_type": "code",
    "executionInfo": {
     "elapsed": 972,
     "status": "ok",
     "timestamp": 1583745633038,
     "user": {
      "displayName": "Michael Teddy",
      "photoUrl": "",
      "userId": "05465468862126933935"
     },
     "user_tz": -180
    },
    "id": "-lwboGD2YN4n",
    "outputId": "06bc9e24-c123-4a74-a2b6-ba6d52c7e355"
   },
   "outputs": [
    {
     "name": "stdout",
     "output_type": "stream",
     "text": [
      " * sqlite://\n",
      "Done.\n"
     ]
    },
    {
     "data": {
      "text/html": [
       "<table>\n",
       "    <tr>\n",
       "        <th>SUM(`Total_-_Grant_Budget_Est_KES`)</th>\n",
       "    </tr>\n",
       "    <tr>\n",
       "        <td>3136627037</td>\n",
       "    </tr>\n",
       "</table>"
      ],
      "text/plain": [
       "[(3136627037,)]"
      ]
     },
     "execution_count": 55,
     "metadata": {
      "tags": []
     },
     "output_type": "execute_result"
    }
   ],
   "source": [
    "# Challenge 1\n",
    "# What was the total grants offered by the 'African Development Bank/ Fund' \n",
    "# and the 'United Nations Development Programme (UNDP)'\n",
    "# contribute towards projects underken by the Kenyan government?\n",
    "# \n",
    "%%sql\n",
    "\n",
    "SELECT SUM(`Total_-_Grant_Budget_Est_KES`)  FROM Government_Budget\n",
    "WHERE  Funding_Source LIKE '%UNDP%' or Funding_Source LIKE '%African%'\n",
    ";"
   ]
  },
  {
   "cell_type": "code",
   "execution_count": 0,
   "metadata": {
    "colab": {
     "base_uri": "https://localhost:8080/",
     "height": 71
    },
    "colab_type": "code",
    "executionInfo": {
     "elapsed": 1161,
     "status": "ok",
     "timestamp": 1583746261283,
     "user": {
      "displayName": "Michael Teddy",
      "photoUrl": "",
      "userId": "05465468862126933935"
     },
     "user_tz": -180
    },
    "id": "JhzG62Q9YPCn",
    "outputId": "5337b75d-e016-469a-87a7-c9c482c8bb78"
   },
   "outputs": [
    {
     "name": "stdout",
     "output_type": "stream",
     "text": [
      " * sqlite://\n",
      "Done.\n"
     ]
    },
    {
     "data": {
      "text/html": [
       "<table>\n",
       "    <tr>\n",
       "        <th>Urban_centre</th>\n",
       "        <th>Total_population</th>\n",
       "        <th>Core_urban_population</th>\n",
       "        <th>Peri_urban_population</th>\n",
       "        <th>Sex_ratio</th>\n",
       "        <th>co-ordinates</th>\n",
       "        <th>OBJECTID</th>\n",
       "    </tr>\n",
       "</table>"
      ],
      "text/plain": [
       "[]"
      ]
     },
     "execution_count": 56,
     "metadata": {
      "tags": []
     },
     "output_type": "execute_result"
    }
   ],
   "source": [
    "# Challenge 2\n",
    "# Data Cleaning\n",
    "# Find the records whose difference of Total urban population \n",
    "# and peri urban population does not result to the core urban population.\n",
    "#\n",
    "%%sql\n",
    "\n",
    "SELECT * FROM Urban_Centres\n",
    "WHERE (`Total_population` - `Peri_urban_population`) != `Core_urban_population`;\n"
   ]
  },
  {
   "cell_type": "code",
   "execution_count": 0,
   "metadata": {
    "colab": {
     "base_uri": "https://localhost:8080/",
     "height": 231
    },
    "colab_type": "code",
    "executionInfo": {
     "elapsed": 932,
     "status": "ok",
     "timestamp": 1583747854680,
     "user": {
      "displayName": "Michael Teddy",
      "photoUrl": "",
      "userId": "05465468862126933935"
     },
     "user_tz": -180
    },
    "id": "hHIXv7NE5dij",
    "outputId": "73238a04-225f-4007-9bb2-472d9046c224"
   },
   "outputs": [
    {
     "name": "stdout",
     "output_type": "stream",
     "text": [
      " * sqlite://\n",
      "Done.\n"
     ]
    },
    {
     "data": {
      "text/html": [
       "<table>\n",
       "    <tr>\n",
       "        <th>Funding_Source</th>\n",
       "    </tr>\n",
       "    <tr>\n",
       "        <td> European Investment Bank</td>\n",
       "    </tr>\n",
       "    <tr>\n",
       "        <td>Government of Kenya</td>\n",
       "    </tr>\n",
       "    <tr>\n",
       "        <td> Government of Spain</td>\n",
       "    </tr>\n",
       "    <tr>\n",
       "        <td> Government of South Korea</td>\n",
       "    </tr>\n",
       "    <tr>\n",
       "        <td> Investment Climate Facility (ICF)</td>\n",
       "    </tr>\n",
       "    <tr>\n",
       "        <td> International Development Association (IDA)</td>\n",
       "    </tr>\n",
       "    <tr>\n",
       "        <td> Government of Germany (GIZ GERMANY)</td>\n",
       "    </tr>\n",
       "    <tr>\n",
       "        <td> Government of Germany (KFW GERMANY)</td>\n",
       "    </tr>\n",
       "    <tr>\n",
       "        <td> Government of France</td>\n",
       "    </tr>\n",
       "</table>"
      ],
      "text/plain": [
       "[(' European Investment Bank',),\n",
       " ('Government of Kenya',),\n",
       " (' Government of Spain',),\n",
       " (' Government of South Korea',),\n",
       " (' Investment Climate Facility (ICF)',),\n",
       " (' International Development Association (IDA)',),\n",
       " (' Government of Germany (GIZ GERMANY)',),\n",
       " (' Government of Germany (KFW GERMANY)',),\n",
       " (' Government of France',)]"
      ]
     },
     "execution_count": 73,
     "metadata": {
      "tags": []
     },
     "output_type": "execute_result"
    }
   ],
   "source": [
    "# Challenge 3 \n",
    "# Which donors funded projects amounting to less than than 10% of the project cost?\n",
    "#\n",
    "%%sql\n",
    "\n",
    "SELECT Funding_Source,  FROM Government_Budget\n",
    "WHERE `Total_Budget_Supported__by_Donors_KES` < 0.1 * `Total_Project_Cost_KES`;"
   ]
  },
  {
   "cell_type": "code",
   "execution_count": 0,
   "metadata": {
    "colab": {
     "base_uri": "https://localhost:8080/",
     "height": 231
    },
    "colab_type": "code",
    "executionInfo": {
     "elapsed": 1001,
     "status": "ok",
     "timestamp": 1583748621483,
     "user": {
      "displayName": "Michael Teddy",
      "photoUrl": "",
      "userId": "05465468862126933935"
     },
     "user_tz": -180
    },
    "id": "x5LNWi0Wu2vy",
    "outputId": "3fd54927-edfd-40b6-9101-a4d52cfc4a59"
   },
   "outputs": [
    {
     "name": "stdout",
     "output_type": "stream",
     "text": [
      " * sqlite://\n",
      "Done.\n"
     ]
    },
    {
     "data": {
      "text/html": [
       "<table>\n",
       "    <tr>\n",
       "        <th>Funding_Source</th>\n",
       "    </tr>\n",
       "    <tr>\n",
       "        <td> European Investment Bank</td>\n",
       "    </tr>\n",
       "    <tr>\n",
       "        <td>Government of Kenya</td>\n",
       "    </tr>\n",
       "    <tr>\n",
       "        <td> Government of Spain</td>\n",
       "    </tr>\n",
       "    <tr>\n",
       "        <td> Government of South Korea</td>\n",
       "    </tr>\n",
       "    <tr>\n",
       "        <td> Investment Climate Facility (ICF)</td>\n",
       "    </tr>\n",
       "    <tr>\n",
       "        <td> International Development Association (IDA)</td>\n",
       "    </tr>\n",
       "    <tr>\n",
       "        <td> Government of Germany (GIZ GERMANY)</td>\n",
       "    </tr>\n",
       "    <tr>\n",
       "        <td> Government of Germany (KFW GERMANY)</td>\n",
       "    </tr>\n",
       "    <tr>\n",
       "        <td> Government of France</td>\n",
       "    </tr>\n",
       "</table>"
      ],
      "text/plain": [
       "[(' European Investment Bank',),\n",
       " ('Government of Kenya',),\n",
       " (' Government of Spain',),\n",
       " (' Government of South Korea',),\n",
       " (' Investment Climate Facility (ICF)',),\n",
       " (' International Development Association (IDA)',),\n",
       " (' Government of Germany (GIZ GERMANY)',),\n",
       " (' Government of Germany (KFW GERMANY)',),\n",
       " (' Government of France',)]"
      ]
     },
     "execution_count": 80,
     "metadata": {
      "tags": []
     },
     "output_type": "execute_result"
    }
   ],
   "source": [
    "#Alternative challenge 3\n",
    "%%sql\n",
    "SELECT Funding_Source FROM Government_Budget\n",
    "WHERE ((`Total_Budget_Supported__by_Donors_KES` * 100) / `Total_Project_Cost_KES`) < 10;"
   ]
  },
  {
   "cell_type": "markdown",
   "metadata": {
    "colab_type": "text",
    "id": "5t8zd5x4Wy0c"
   },
   "source": [
    "## 1.4 Minimum and Maximum\n"
   ]
  },
  {
   "cell_type": "code",
   "execution_count": 0,
   "metadata": {
    "colab": {
     "base_uri": "https://localhost:8080/",
     "height": 88
    },
    "colab_type": "code",
    "executionInfo": {
     "elapsed": 1967,
     "status": "ok",
     "timestamp": 1583750065015,
     "user": {
      "displayName": "Michael Teddy",
      "photoUrl": "",
      "userId": "05465468862126933935"
     },
     "user_tz": -180
    },
    "id": "1VFu1XmdYSFT",
    "outputId": "7d0b3e09-5f94-4842-e26d-178713d82098"
   },
   "outputs": [
    {
     "name": "stdout",
     "output_type": "stream",
     "text": [
      " * sqlite://\n",
      "Done.\n"
     ]
    },
    {
     "data": {
      "text/html": [
       "<table>\n",
       "    <tr>\n",
       "        <th>Urban_centre</th>\n",
       "        <th>MAX(Core_urban_population)</th>\n",
       "    </tr>\n",
       "    <tr>\n",
       "        <td>Nairobi</td>\n",
       "        <td>3109861</td>\n",
       "    </tr>\n",
       "</table>"
      ],
      "text/plain": [
       "[('Nairobi', 3109861)]"
      ]
     },
     "execution_count": 81,
     "metadata": {
      "tags": []
     },
     "output_type": "execute_result"
    }
   ],
   "source": [
    "# Example 1\n",
    "# Which urban centres had the most core urban population?\n",
    "#\n",
    "%%sql \n",
    "SELECT Urban_Centre, MAX(Core_urban_population) FROM Urban_Centres;"
   ]
  },
  {
   "cell_type": "code",
   "execution_count": 0,
   "metadata": {
    "colab": {
     "base_uri": "https://localhost:8080/",
     "height": 88
    },
    "colab_type": "code",
    "executionInfo": {
     "elapsed": 2005,
     "status": "ok",
     "timestamp": 1583750079786,
     "user": {
      "displayName": "Michael Teddy",
      "photoUrl": "",
      "userId": "05465468862126933935"
     },
     "user_tz": -180
    },
    "id": "NKUNdacAYTYN",
    "outputId": "edb6d597-0d1a-42bb-e475-47d3c4a14103"
   },
   "outputs": [
    {
     "name": "stdout",
     "output_type": "stream",
     "text": [
      " * sqlite://\n",
      "Done.\n"
     ]
    },
    {
     "data": {
      "text/html": [
       "<table>\n",
       "    <tr>\n",
       "        <th>Urban_centre</th>\n",
       "        <th>MIN(Total_population)</th>\n",
       "    </tr>\n",
       "    <tr>\n",
       "        <td>Sololo</td>\n",
       "        <td>5035</td>\n",
       "    </tr>\n",
       "</table>"
      ],
      "text/plain": [
       "[('Sololo', 5035)]"
      ]
     },
     "execution_count": 82,
     "metadata": {
      "tags": []
     },
     "output_type": "execute_result"
    }
   ],
   "source": [
    "# Example 2\n",
    "# Maximum Example\n",
    "# Which urban centre had the least total urban population?\n",
    "# \n",
    "%%sql \n",
    "SELECT Urban_Centre, MIN(Total_population) FROM Urban_Centres;"
   ]
  },
  {
   "cell_type": "code",
   "execution_count": 0,
   "metadata": {
    "colab": {
     "base_uri": "https://localhost:8080/",
     "height": 88
    },
    "colab_type": "code",
    "executionInfo": {
     "elapsed": 3305,
     "status": "ok",
     "timestamp": 1583750102378,
     "user": {
      "displayName": "Michael Teddy",
      "photoUrl": "",
      "userId": "05465468862126933935"
     },
     "user_tz": -180
    },
    "id": "tx5-cA-BYUUw",
    "outputId": "abafa5d2-72bf-4e11-9b9f-dd06c0409b9e"
   },
   "outputs": [
    {
     "name": "stdout",
     "output_type": "stream",
     "text": [
      " * sqlite://\n",
      "Done.\n"
     ]
    },
    {
     "data": {
      "text/html": [
       "<table>\n",
       "    <tr>\n",
       "        <th>Urban_centre</th>\n",
       "        <th>MIN(Total_population)</th>\n",
       "    </tr>\n",
       "    <tr>\n",
       "        <td>Sololo</td>\n",
       "        <td>5035</td>\n",
       "    </tr>\n",
       "</table>"
      ],
      "text/plain": [
       "[('Sololo', 5035)]"
      ]
     },
     "execution_count": 83,
     "metadata": {
      "tags": []
     },
     "output_type": "execute_result"
    }
   ],
   "source": [
    "# Example 3\n",
    "# Which urban centre with a sex ratio > 90 had the least total urban population?\n",
    "# \n",
    "%%sql \n",
    "SELECT Urban_Centre, MIN(Total_population) FROM Urban_Centres WHERE Sex_ratio > 90;"
   ]
  },
  {
   "cell_type": "markdown",
   "metadata": {
    "colab_type": "text",
    "id": "Toyc2mT_YWK5"
   },
   "source": [
    "### <font color=\"green\">1.4 Challenges</font>"
   ]
  },
  {
   "cell_type": "code",
   "execution_count": 0,
   "metadata": {
    "colab": {
     "base_uri": "https://localhost:8080/",
     "height": 88
    },
    "colab_type": "code",
    "executionInfo": {
     "elapsed": 1176,
     "status": "ok",
     "timestamp": 1583750662172,
     "user": {
      "displayName": "Michael Teddy",
      "photoUrl": "",
      "userId": "05465468862126933935"
     },
     "user_tz": -180
    },
    "id": "m15e5g8bYZI6",
    "outputId": "45d7405d-1684-4d87-8ba6-1b382ea01114"
   },
   "outputs": [
    {
     "name": "stdout",
     "output_type": "stream",
     "text": [
      " * sqlite://\n",
      "Done.\n"
     ]
    },
    {
     "data": {
      "text/html": [
       "<table>\n",
       "    <tr>\n",
       "        <th>Funding_Source</th>\n",
       "        <th>MAX(`Total_-_Grant_Budget_Est_KES`)</th>\n",
       "    </tr>\n",
       "    <tr>\n",
       "        <td> Global Fund</td>\n",
       "        <td>33054201792</td>\n",
       "    </tr>\n",
       "</table>"
      ],
      "text/plain": [
       "[(' Global Fund', 33054201792)]"
      ]
     },
     "execution_count": 90,
     "metadata": {
      "tags": []
     },
     "output_type": "execute_result"
    }
   ],
   "source": [
    "# Challenge 1 \n",
    "# Which government projects had the most grant funding?\n",
    "# Hint: \"Total_-_Grant_Budget_Est_KES\" encolse column with double quotes\n",
    "#\n",
    "%%sql\n",
    "\n",
    "SELECT Funding_Source, MAX(`Total_-_Grant_Budget_Est_KES`) FROM Government_Budget;"
   ]
  },
  {
   "cell_type": "code",
   "execution_count": 0,
   "metadata": {
    "colab": {
     "base_uri": "https://localhost:8080/",
     "height": 213
    },
    "colab_type": "code",
    "executionInfo": {
     "elapsed": 1040,
     "status": "ok",
     "timestamp": 1583751920892,
     "user": {
      "displayName": "Michael Teddy",
      "photoUrl": "",
      "userId": "05465468862126933935"
     },
     "user_tz": -180
    },
    "id": "KiM0KCQW804J",
    "outputId": "8621a1b5-3724-4640-d3ff-1fbe080e93fd"
   },
   "outputs": [
    {
     "name": "stdout",
     "output_type": "stream",
     "text": [
      " * sqlite://\n",
      "Done.\n"
     ]
    },
    {
     "data": {
      "text/html": [
       "<table>\n",
       "    <tr>\n",
       "        <th>OBJECTID</th>\n",
       "        <th>Total_-_Loan_Budget_Est_KES</th>\n",
       "    </tr>\n",
       "    <tr>\n",
       "        <td>2</td>\n",
       "        <td>0</td>\n",
       "    </tr>\n",
       "    <tr>\n",
       "        <td>8</td>\n",
       "        <td>0</td>\n",
       "    </tr>\n",
       "    <tr>\n",
       "        <td>16</td>\n",
       "        <td>0</td>\n",
       "    </tr>\n",
       "    <tr>\n",
       "        <td>20</td>\n",
       "        <td>0</td>\n",
       "    </tr>\n",
       "    <tr>\n",
       "        <td>30</td>\n",
       "        <td>0</td>\n",
       "    </tr>\n",
       "    <tr>\n",
       "        <td>34</td>\n",
       "        <td>0</td>\n",
       "    </tr>\n",
       "    <tr>\n",
       "        <td>36</td>\n",
       "        <td>0</td>\n",
       "    </tr>\n",
       "    <tr>\n",
       "        <td>39</td>\n",
       "        <td>0</td>\n",
       "    </tr>\n",
       "</table>"
      ],
      "text/plain": [
       "[(2, 0), (8, 0), (16, 0), (20, 0), (30, 0), (34, 0), (36, 0), (39, 0)]"
      ]
     },
     "execution_count": 98,
     "metadata": {
      "tags": []
     },
     "output_type": "execute_result"
    }
   ],
   "source": [
    "# Challenge 2\n",
    "# Which government projects had the least loan funding?\n",
    "#\n",
    "%%sql\n",
    "\n",
    "SELECT `OBJECTID`, `Total_-_Loan_Budget_Est_KES` FROM Government_Budget\n",
    "WHERE `Total_-_Loan_Budget_Est_KES` IN (SELECT MIN(`Total_-_Loan_Budget_Est_KES`) FROM Government_Budget);"
   ]
  },
  {
   "cell_type": "code",
   "execution_count": 0,
   "metadata": {
    "colab": {
     "base_uri": "https://localhost:8080/",
     "height": 71
    },
    "colab_type": "code",
    "executionInfo": {
     "elapsed": 1110,
     "status": "ok",
     "timestamp": 1583752460864,
     "user": {
      "displayName": "Michael Teddy",
      "photoUrl": "",
      "userId": "05465468862126933935"
     },
     "user_tz": -180
    },
    "id": "AcxfwqNLYY4r",
    "outputId": "3771886d-355d-413c-8c2c-d4260d02f0dc"
   },
   "outputs": [
    {
     "name": "stdout",
     "output_type": "stream",
     "text": [
      " * sqlite://\n",
      "Done.\n"
     ]
    },
    {
     "data": {
      "text/html": [
       "<table>\n",
       "    <tr>\n",
       "        <th>OBJECTID</th>\n",
       "    </tr>\n",
       "</table>"
      ],
      "text/plain": [
       "[]"
      ]
     },
     "execution_count": 102,
     "metadata": {
      "tags": []
     },
     "output_type": "execute_result"
    }
   ],
   "source": [
    "# Challenge 3\n",
    "# Which governments projects had the least loan funding and had \n",
    "# grant funding greater than donor funding?\n",
    "#\n",
    "%%sql\n",
    "\n",
    "SELECT `OBJECTID` FROM Government_Budget\n",
    "WHERE (`Total_-_Grant_Budget_Est_KES` > `Total_Budget_Supported__by_Donors_KES`) AND `Total_Budget_Supported__by_Donors_KES` IN (SELECT MIN(`Total_Budget_Supported__by_Donors_KES`) FROM Government_Budget)"
   ]
  },
  {
   "cell_type": "markdown",
   "metadata": {
    "colab_type": "text",
    "id": "3vgAkdXmW3VP"
   },
   "source": [
    "## 1.5 The Aggregate SUM() function\n"
   ]
  },
  {
   "cell_type": "code",
   "execution_count": 0,
   "metadata": {
    "colab": {
     "base_uri": "https://localhost:8080/",
     "height": 88
    },
    "colab_type": "code",
    "executionInfo": {
     "elapsed": 918,
     "status": "ok",
     "timestamp": 1583752508202,
     "user": {
      "displayName": "Michael Teddy",
      "photoUrl": "",
      "userId": "05465468862126933935"
     },
     "user_tz": -180
    },
    "id": "H1ZjnGR8XGGm",
    "outputId": "ad1f8914-ae92-4684-a6e1-cde7f3c8e653"
   },
   "outputs": [
    {
     "name": "stdout",
     "output_type": "stream",
     "text": [
      " * sqlite://\n",
      "Done.\n"
     ]
    },
    {
     "data": {
      "text/html": [
       "<table>\n",
       "    <tr>\n",
       "        <th>SUM(&quot;Total_-_Loan_Budget_Est_KES&quot;)</th>\n",
       "    </tr>\n",
       "    <tr>\n",
       "        <td>374828211075</td>\n",
       "    </tr>\n",
       "</table>"
      ],
      "text/plain": [
       "[(374828211075,)]"
      ]
     },
     "execution_count": 103,
     "metadata": {
      "tags": []
     },
     "output_type": "execute_result"
    }
   ],
   "source": [
    "# Example 1\n",
    "# What was the total loan Budget of all government projects?\n",
    "#\n",
    "%%sql \n",
    "SELECT SUM(\"Total_-_Loan_Budget_Est_KES\") FROM Government_Budget;"
   ]
  },
  {
   "cell_type": "code",
   "execution_count": 0,
   "metadata": {
    "colab": {
     "base_uri": "https://localhost:8080/",
     "height": 88
    },
    "colab_type": "code",
    "executionInfo": {
     "elapsed": 964,
     "status": "ok",
     "timestamp": 1583752541713,
     "user": {
      "displayName": "Michael Teddy",
      "photoUrl": "",
      "userId": "05465468862126933935"
     },
     "user_tz": -180
    },
    "id": "I5BwLcN2YfO1",
    "outputId": "3a837ea2-f1c7-4cc5-ea1d-05a670c710ae"
   },
   "outputs": [
    {
     "name": "stdout",
     "output_type": "stream",
     "text": [
      " * sqlite://\n",
      "Done.\n"
     ]
    },
    {
     "data": {
      "text/html": [
       "<table>\n",
       "    <tr>\n",
       "        <th>SUM(Total_Project_Cost_KES)</th>\n",
       "    </tr>\n",
       "    <tr>\n",
       "        <td>228201585899569</td>\n",
       "    </tr>\n",
       "</table>"
      ],
      "text/plain": [
       "[(228201585899569,)]"
      ]
     },
     "execution_count": 104,
     "metadata": {
      "tags": []
     },
     "output_type": "execute_result"
    }
   ],
   "source": [
    "# Example 2\n",
    "# What was the total project cost for all government projects where the total \n",
    "# loan budget is greater than the total grant budget?\n",
    "#\n",
    "%%sql \n",
    "SELECT SUM(Total_Project_Cost_KES) FROM Government_Budget \n",
    "WHERE \"Total_-_Loan_Budget_Est_KES\" < \"Total_-_Grant_Budget_Est_KES\t\" ;"
   ]
  },
  {
   "cell_type": "code",
   "execution_count": 0,
   "metadata": {
    "colab": {
     "base_uri": "https://localhost:8080/",
     "height": 88
    },
    "colab_type": "code",
    "executionInfo": {
     "elapsed": 889,
     "status": "ok",
     "timestamp": 1583752552260,
     "user": {
      "displayName": "Michael Teddy",
      "photoUrl": "",
      "userId": "05465468862126933935"
     },
     "user_tz": -180
    },
    "id": "06LLcXgsYgHo",
    "outputId": "be74f19e-ef19-4ca5-9824-66da899d9277"
   },
   "outputs": [
    {
     "name": "stdout",
     "output_type": "stream",
     "text": [
      " * sqlite://\n",
      "Done.\n"
     ]
    },
    {
     "data": {
      "text/html": [
       "<table>\n",
       "    <tr>\n",
       "        <th>SUM(Core_urban_population)</th>\n",
       "    </tr>\n",
       "    <tr>\n",
       "        <td>8877819</td>\n",
       "    </tr>\n",
       "</table>"
      ],
      "text/plain": [
       "[(8877819,)]"
      ]
     },
     "execution_count": 105,
     "metadata": {
      "tags": []
     },
     "output_type": "execute_result"
    }
   ],
   "source": [
    "# Example 3\n",
    "# What was the total Core urban population in Kenya?\n",
    "#\n",
    "%%sql \n",
    "SELECT SUM(Core_urban_population) FROM Urban_Centres;"
   ]
  },
  {
   "cell_type": "markdown",
   "metadata": {
    "colab_type": "text",
    "id": "tpsZ1JXvYhgd"
   },
   "source": [
    "### <font color=\"green\">1.5 Challenges</font>"
   ]
  },
  {
   "cell_type": "code",
   "execution_count": 0,
   "metadata": {
    "colab": {
     "base_uri": "https://localhost:8080/",
     "height": 88
    },
    "colab_type": "code",
    "executionInfo": {
     "elapsed": 1017,
     "status": "ok",
     "timestamp": 1583752679915,
     "user": {
      "displayName": "Michael Teddy",
      "photoUrl": "",
      "userId": "05465468862126933935"
     },
     "user_tz": -180
    },
    "id": "qwtLrr8cYnbe",
    "outputId": "4a2c06e6-5bfc-4d84-c571-6eed9f7e2f21"
   },
   "outputs": [
    {
     "name": "stdout",
     "output_type": "stream",
     "text": [
      " * sqlite://\n",
      "Done.\n"
     ]
    },
    {
     "data": {
      "text/html": [
       "<table>\n",
       "    <tr>\n",
       "        <th>SUM(`Total_population`)</th>\n",
       "    </tr>\n",
       "    <tr>\n",
       "        <td>11789364</td>\n",
       "    </tr>\n",
       "</table>"
      ],
      "text/plain": [
       "[(11789364,)]"
      ]
     },
     "execution_count": 108,
     "metadata": {
      "tags": []
     },
     "output_type": "execute_result"
    }
   ],
   "source": [
    "# Challenge 1\n",
    "# What was the total urban centre population?\n",
    "# \n",
    "%%sql\n",
    "\n",
    "SELECT SUM(`Total_population`) FROM Urban_Centres;\n"
   ]
  },
  {
   "cell_type": "code",
   "execution_count": 0,
   "metadata": {
    "colab": {
     "base_uri": "https://localhost:8080/",
     "height": 88
    },
    "colab_type": "code",
    "executionInfo": {
     "elapsed": 3382,
     "status": "ok",
     "timestamp": 1583753749584,
     "user": {
      "displayName": "Michael Teddy",
      "photoUrl": "",
      "userId": "05465468862126933935"
     },
     "user_tz": -180
    },
    "id": "R4w-o97JYo7m",
    "outputId": "f7f7e32c-a572-4db6-a9bd-ba30ef3b2800"
   },
   "outputs": [
    {
     "name": "stdout",
     "output_type": "stream",
     "text": [
      " * sqlite://\n",
      "Done.\n"
     ]
    },
    {
     "data": {
      "text/html": [
       "<table>\n",
       "    <tr>\n",
       "        <th>SUM(`Total_population`)</th>\n",
       "    </tr>\n",
       "    <tr>\n",
       "        <td>2506812</td>\n",
       "    </tr>\n",
       "</table>"
      ],
      "text/plain": [
       "[(2506812,)]"
      ]
     },
     "execution_count": 110,
     "metadata": {
      "tags": []
     },
     "output_type": "execute_result"
    }
   ],
   "source": [
    "# Challenge 2\n",
    "# What was the sum of the urban centre populations with\n",
    "# core urban population less than peri urban population?\n",
    "# \n",
    "%%sql\n",
    "SELECT SUM(`Total_population`) FROM Urban_Centres\n",
    "WHERE `Core_urban_population` < `Peri_urban_population`;"
   ]
  },
  {
   "cell_type": "code",
   "execution_count": 0,
   "metadata": {
    "colab": {
     "base_uri": "https://localhost:8080/",
     "height": 88
    },
    "colab_type": "code",
    "executionInfo": {
     "elapsed": 1242,
     "status": "ok",
     "timestamp": 1583753962509,
     "user": {
      "displayName": "Michael Teddy",
      "photoUrl": "",
      "userId": "05465468862126933935"
     },
     "user_tz": -180
    },
    "id": "uRpFweEUYqDx",
    "outputId": "31735649-d499-4ff3-9593-1d32555807bd"
   },
   "outputs": [
    {
     "name": "stdout",
     "output_type": "stream",
     "text": [
      " * sqlite://\n",
      "Done.\n"
     ]
    },
    {
     "data": {
      "text/html": [
       "<table>\n",
       "    <tr>\n",
       "        <th>SUM(`Number_of_households`)</th>\n",
       "    </tr>\n",
       "    <tr>\n",
       "        <td>1253716</td>\n",
       "    </tr>\n",
       "</table>"
      ],
      "text/plain": [
       "[(1253716,)]"
      ]
     },
     "execution_count": 113,
     "metadata": {
      "tags": []
     },
     "output_type": "execute_result"
    }
   ],
   "source": [
    "# Challenge 3\n",
    "# What was the sum of male and female households in Mombasa and Nairobi?\n",
    "# \n",
    "%%sql\n",
    "SELECT SUM(`Number_of_households`) FROM Households\n",
    "WHERE County = 'Mombasa' or County ='Nairobi';"
   ]
  },
  {
   "cell_type": "code",
   "execution_count": 0,
   "metadata": {
    "colab": {},
    "colab_type": "code",
    "id": "poZ1GAQ3FvcE"
   },
   "outputs": [],
   "source": []
  }
 ],
 "metadata": {
  "colab": {
   "collapsed_sections": [],
   "name": "Day 04 - SQL Programming - Calculating Data with SQL",
   "provenance": [
    {
     "file_id": "17g-rSaMTqJw-A_rVf2USSzKsXYnA0Q-R",
     "timestamp": 1583737741629
    }
   ],
   "toc_visible": true
  },
  "kernelspec": {
   "display_name": "Python 3",
   "language": "python",
   "name": "python3"
  },
  "language_info": {
   "codemirror_mode": {
    "name": "ipython",
    "version": 3
   },
   "file_extension": ".py",
   "mimetype": "text/x-python",
   "name": "python",
   "nbconvert_exporter": "python",
   "pygments_lexer": "ipython3",
   "version": "3.7.6"
  }
 },
 "nbformat": 4,
 "nbformat_minor": 1
}
