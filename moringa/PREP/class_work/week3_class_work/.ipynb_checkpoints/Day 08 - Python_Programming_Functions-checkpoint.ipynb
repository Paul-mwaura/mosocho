{
 "cells": [
  {
   "cell_type": "markdown",
   "metadata": {
    "colab_type": "text",
    "id": "at-j61Sw1cxq"
   },
   "source": [
    "<font color=\"green\">*To start working on this notebook, or any other notebook that we will use in the Moringa Data Science Course, we will need to save our own copy of it. We can do this by clicking File > Save a Copy in Drive. We will then be able to make edits to our own copy of this notebook.*</font>"
   ]
  },
  {
   "cell_type": "markdown",
   "metadata": {
    "colab_type": "text",
    "id": "ME3zPRU_ulWC"
   },
   "source": [
    "# Python Programming: Functions"
   ]
  },
  {
   "cell_type": "markdown",
   "metadata": {
    "colab_type": "text",
    "id": "qbHky4L6u0GF"
   },
   "source": [
    "## 1.0 Overview"
   ]
  },
  {
   "cell_type": "code",
   "execution_count": 1,
   "metadata": {
    "colab": {},
    "colab_type": "code",
    "id": "xf2uz7Zgu26f"
   },
   "outputs": [
    {
     "name": "stdout",
     "output_type": "stream",
     "text": [
      "Hello, This is from my function!\n"
     ]
    }
   ],
   "source": [
    "# Example 1\n",
    "# Below is an example of a function - my_function.\n",
    "#\n",
    "\n",
    "# This function is called my_function and contains only one line of code\n",
    "# tasked with printing.\n",
    "\n",
    "# We define our function as shown;\n",
    "# Def is the keyword used to define the function, my_function is the name of our function\n",
    "# and print() is the operation that the function undertakes;\n",
    "def my_function():\n",
    "    print(\"Hello, This is from my function!\")\n",
    "\n",
    "# Upon defining the function, we can then call it as shown below. Calling a function means executing a function and printing its value.\n",
    "# Please take note of the parenthesis at the end, if you omit the parenthesis then the function will not display the output.\n",
    "my_function()"
   ]
  },
  {
   "cell_type": "code",
   "execution_count": 2,
   "metadata": {
    "colab": {},
    "colab_type": "code",
    "id": "nhLXZF7HuiBJ"
   },
   "outputs": [
    {
     "name": "stdout",
     "output_type": "stream",
     "text": [
      "Hello!\n"
     ]
    }
   ],
   "source": [
    "# Example 2\n",
    "# Let's briefly look at built-in functions. Built-in functions are function that are already predetermined in python. \n",
    "# This means that these functions are always available for use without us having to define them.\n",
    "# Below is is an example of a built in function.\n",
    "\n",
    "# what we've done in the line below is to call the print function and passed a string Hello!. \n",
    "# We will learn more about passing to functions later in this session.\n",
    "print(\"Hello!\")\n",
    "\n",
    "# print() is the built - in function. \n",
    "# Examples of other built - in python functions include range(), str(), max(), min() etc. "
   ]
  },
  {
   "cell_type": "code",
   "execution_count": 3,
   "metadata": {
    "colab": {},
    "colab_type": "code",
    "id": "bOvvo7FLXmks"
   },
   "outputs": [],
   "source": [
    "# Example 3\n",
    "# We can also use a function to perform a custom complex mathematical operation\n",
    "# just as shown in the newtons_method function. \n",
    "# Bear with us for now, you do not necessarily need to understand what the newtons method\n",
    "# which is the complex mathematical operation entails. \n",
    "# What you need to know for know isthat functions are used to perform a specific\n",
    "# set of operations then return an output as shown below. \n",
    "#\n",
    "\n",
    "\n",
    "def newtons_method(num, estimate):\n",
    "    # Computing a new_estimate\n",
    "    new_estimate = (estimate + num / estimate) / 2\n",
    "    print(new_estimate)\n",
    "    # Base Case: Comparing our estimate with built-in functions value\n",
    "    if new_estimate == math.sqrt(num):\n",
    "        return True\n",
    "    else:\n",
    "        # let's return our output.\n",
    "        return newtons_method(num, new_estimate)\n",
    "      \n",
    "# As we have noticed, we defined our fuction - newtons_method, then passed num and estimate \n",
    "# to the function. These values that we have passed are referred to as parameters. \n",
    "# Values can be passed to functions, then the functions perform a set of operations \n",
    "# and provide an output based on the given input. \n",
    "# More about parameters will be covered later in this session. "
   ]
  },
  {
   "cell_type": "markdown",
   "metadata": {
    "colab_type": "text",
    "id": "4id48OhWr7L2"
   },
   "source": [
    "## 1.1 Using Built-in Functions "
   ]
  },
  {
   "cell_type": "code",
   "execution_count": 4,
   "metadata": {
    "colab": {},
    "colab_type": "code",
    "id": "1Xg3vxh8sASM"
   },
   "outputs": [
    {
     "name": "stdout",
     "output_type": "stream",
     "text": [
      "43\n",
      "Valerie\n"
     ]
    }
   ],
   "source": [
    "# Example 1\n",
    "# Let's now see how to work with a few built-in python functions\n",
    "# We will start learning about the max() built-in function\n",
    "# \n",
    "\n",
    "# The max() function will return the item with the highest value as shown\n",
    "# in the given arrays \n",
    "x = max([15, 20, 43, 33, 43])\n",
    "print(x)\n",
    "\n",
    "# Using the max() function, we can return the items with the highest value alphabetically\n",
    "y = max([\"Alice\", \"James\", \"Valerie\"])\n",
    "print(y)"
   ]
  },
  {
   "cell_type": "code",
   "execution_count": 5,
   "metadata": {
    "colab": {},
    "colab_type": "code",
    "id": "MwsgXFvQsAMZ"
   },
   "outputs": [
    {
     "name": "stdout",
     "output_type": "stream",
     "text": [
      "<class 'float'>\n",
      "<class 'int'>\n",
      "<class 'list'>\n",
      "<class 'str'>\n"
     ]
    }
   ],
   "source": [
    "# Example 2\n",
    "# Another built-in function that we can use is the type() function.\n",
    "# Let's use it to return the data type of the specified object. \n",
    "#\n",
    "w = 12.2\n",
    "x = 100\n",
    "y = ['Samsung', 'Sony', 'Panasonic']\n",
    "z = \"Upendo\"\n",
    "\n",
    "print(type(w))\n",
    "\n",
    "# Find out the type of x\n",
    "print(type(x))\n",
    "\n",
    "# Find out the type of y\n",
    "print(type(y))\n",
    "\n",
    "# Find out the type of z\n",
    "print(type(z))\n"
   ]
  },
  {
   "cell_type": "code",
   "execution_count": 0,
   "metadata": {
    "colab": {},
    "colab_type": "code",
    "id": "AqJAthgIr__w"
   },
   "outputs": [],
   "source": [
    "# Example 3\n",
    "# This is how we can also use the built in sum() function\n",
    "# \n",
    "\n",
    "a = [232, 323, 434, 523, 323, 232] \n",
    "print(sum(a))\n",
    "\n",
    "# As we have already mentioned, examples of other built - in python functions \n",
    "# include range(), str(), max(), min() etc. "
   ]
  },
  {
   "cell_type": "markdown",
   "metadata": {
    "colab_type": "text",
    "id": "51m8VyKYs_e3"
   },
   "source": [
    "### <font color=\"green\">1.1 Challenges</font>"
   ]
  },
  {
   "cell_type": "code",
   "execution_count": 6,
   "metadata": {
    "colab": {},
    "colab_type": "code",
    "id": "VP7RNa_5tYiL"
   },
   "outputs": [
    {
     "name": "stdout",
     "output_type": "stream",
     "text": [
      "12\n"
     ]
    }
   ],
   "source": [
    "# Challenge 1\n",
    "# Now that we have learnt to use some built-in functions, \n",
    "# Let's use the min() function to return the item with the lowest value below\n",
    "#\n",
    "items = [32, 54, 67, 12, 82, 34]\n",
    "lowest_item = min(items)\n",
    "print(lowest_item)"
   ]
  },
  {
   "cell_type": "code",
   "execution_count": 14,
   "metadata": {
    "colab": {},
    "colab_type": "code",
    "id": "7OFu5O7JtZJy"
   },
   "outputs": [
    {
     "name": "stdout",
     "output_type": "stream",
     "text": [
      "23\n"
     ]
    }
   ],
   "source": [
    "# Challenge 2\n",
    "# Let's also round off the number 23.43 using the round() function\n",
    "#\n",
    "rounded = round(23.43)\n",
    "print(rounded)"
   ]
  },
  {
   "cell_type": "code",
   "execution_count": 15,
   "metadata": {
    "colab": {},
    "colab_type": "code",
    "id": "Ogr-yc4BtZIf"
   },
   "outputs": [
    {
     "name": "stdout",
     "output_type": "stream",
     "text": [
      "['Panasonic', 'Samsung', 'Sony']\n"
     ]
    }
   ],
   "source": [
    "# Challenge 3\n",
    "# Lastly, let's give an example where the sorted() function can be used;\n",
    "# Hint: Feel free to perform some external research \n",
    "# \n",
    "companies = ['Samsung', 'Sony', 'Panasonic']\n",
    "sorted_companies = sorted(companies)\n",
    "print(sorted_companies)"
   ]
  },
  {
   "cell_type": "markdown",
   "metadata": {
    "colab_type": "text",
    "id": "-yVfw__Bu4Sl"
   },
   "source": [
    "## 1.2 Creating a Function"
   ]
  },
  {
   "cell_type": "markdown",
   "metadata": {
    "colab_type": "text",
    "id": "w4tM_RB3yPT4"
   },
   "source": [
    "We will now create functions. \n",
    "\n",
    "Below are steps that we can use to create a function: \n",
    "\n",
    "*  **Step 1**: We first declare the function with the keyword `def` followed by the function name and brackets.\n",
    "*   **Step 2**: Add the program statements to be executed.\n",
    "*   **Step 3** End the function with/without return statement.\n",
    "*  **Step 4**: We will learn more about this step later in this session. If our function takes parameters, we write the arguments inside the opening and closing parentheses of the function, and end the declaration with a colon. \n",
    "\n",
    "\n",
    "\n"
   ]
  },
  {
   "cell_type": "code",
   "execution_count": 16,
   "metadata": {
    "colab": {},
    "colab_type": "code",
    "id": "SkEtwBmMzb8k"
   },
   "outputs": [
    {
     "data": {
      "text/plain": [
       "10"
      ]
     },
     "execution_count": 16,
     "metadata": {},
     "output_type": "execute_result"
    }
   ],
   "source": [
    "# Example 1\n",
    "# To start, we will create a function to find out which \n",
    "# of two numbers is greater than the other \n",
    "# \n",
    "\n",
    "# we define it by giving it the name max_of_two\n",
    "def max_of_two():\n",
    "  \n",
    "  # we then define our variables that will contain the numbers to be manipulated\n",
    "  first_number  = 10\n",
    "  second_number = 5\n",
    "  \n",
    "  # then we perform our operations i.e. in this case,\n",
    "  # if first_number is greater than second_number etc.\n",
    "  if first_number > second_number:\n",
    "    \n",
    "      # the return keyword allows us to provide back the result/output of our function\n",
    "    return first_number\n",
    "  else:\n",
    "    # the return key word allows us to provide back the result/output of our function\n",
    "    return second_number\n",
    " \n",
    "# Lastly, we do the most important step; which is to call the function that \n",
    "# we have just created above. Calling allows us to use the function. \n",
    "# We have also been calling our built-in functions from the previous section.\n",
    "#\n",
    "max_of_two()"
   ]
  },
  {
   "cell_type": "code",
   "execution_count": 17,
   "metadata": {
    "colab": {},
    "colab_type": "code",
    "id": "3P8OAAcGyOP7"
   },
   "outputs": [
    {
     "data": {
      "text/plain": [
       "36"
      ]
     },
     "execution_count": 17,
     "metadata": {},
     "output_type": "execute_result"
    }
   ],
   "source": [
    "# Example 2\n",
    "# Let's now create another function to find out the square of a certain number \n",
    "# \n",
    "\n",
    "# defining our function name\n",
    "def square_of_number():\n",
    "  \n",
    "  # assigning 6 to our variable nuber \n",
    "  number = 6\n",
    "  \n",
    "\n",
    "  square_square_of_number = number ** 2\n",
    "  \n",
    "  # the return keyword allows us to provide back the result/output of our function\n",
    "  return square_square_of_number\n",
    "\n",
    "# now calling our function\n",
    "square_of_number()"
   ]
  },
  {
   "cell_type": "code",
   "execution_count": 18,
   "metadata": {
    "colab": {},
    "colab_type": "code",
    "id": "QZFwx1lgyOhh"
   },
   "outputs": [
    {
     "name": "stdout",
     "output_type": "stream",
     "text": [
      "21\n"
     ]
    }
   ],
   "source": [
    "# Example 3\n",
    "# Lastly, we create another function to sum all the numbers in a list a = [6, 5, 4, 3, 2, 1]\n",
    "# \n",
    "\n",
    "def sum():\n",
    "  a = [6, 5, 4, 3, 2, 1]\n",
    "  total = 0\n",
    "  \n",
    "    # performing our operation by using a for loop to iterate through our list\n",
    "  for x in a:\n",
    "    \n",
    "    # for each iteration we perform total = total + 1;  which can be simply be written as shown below\n",
    "    total += x\n",
    "    \n",
    "  # Then lastly return our output which is to print out the value of the total variable \n",
    "  return print(total)\n",
    "\n",
    "# Lastly we call the function in order to use it\n",
    "sum()"
   ]
  },
  {
   "cell_type": "markdown",
   "metadata": {
    "colab_type": "text",
    "id": "ArRLPeQ0zTD7"
   },
   "source": [
    "### <font color=\"green\">1.2 Challenges</font>"
   ]
  },
  {
   "cell_type": "code",
   "execution_count": 19,
   "metadata": {
    "colab": {},
    "colab_type": "code",
    "id": "NQ87DKM9zaMG"
   },
   "outputs": [
    {
     "data": {
      "text/plain": [
       "82"
      ]
     },
     "execution_count": 19,
     "metadata": {},
     "output_type": "execute_result"
    }
   ],
   "source": [
    "# Challenge 1\n",
    "# Now that we have seen how to create functions, \n",
    "# let's create one that returns the maximum of two numbers;\n",
    "#\n",
    "\n",
    "def maximum_of_two_numbers():\n",
    "    first = [25, 82]\n",
    "    return max(first)\n",
    "maximum_of_two_numbers()"
   ]
  },
  {
   "cell_type": "code",
   "execution_count": 22,
   "metadata": {
    "colab": {},
    "colab_type": "code",
    "id": "zFnXOKg5zaBc"
   },
   "outputs": [
    {
     "data": {
      "text/plain": [
       "True"
      ]
     },
     "execution_count": 22,
     "metadata": {},
     "output_type": "execute_result"
    }
   ],
   "source": [
    "# Challenge 2\n",
    "# Let's write another function that tell us whether if a variable is between 3 and 10\n",
    "#\n",
    "\n",
    "def ranger():\n",
    "    number = 8\n",
    "    if number in range(4, 10):\n",
    "        return True\n",
    "    else:\n",
    "        return False\n",
    "        \n",
    "ranger() "
   ]
  },
  {
   "cell_type": "code",
   "execution_count": 24,
   "metadata": {
    "colab": {},
    "colab_type": "code",
    "id": "6SvU7V_LzZuK"
   },
   "outputs": [
    {
     "data": {
      "text/plain": [
       "275"
      ]
     },
     "execution_count": 24,
     "metadata": {},
     "output_type": "execute_result"
    }
   ],
   "source": [
    "# Challenge 3\n",
    "# Lastly, an online retailer provides express shipping for many of its items at a rate of Ksh 200 for the first item, \n",
    "#and Ksh. 25 for each subsequent item. \n",
    "# Write a function that takes the number of items in the order from the user. \n",
    "# Return the shipping charge for the order as the function’s result. \n",
    "#\n",
    "def shipping_charge():\n",
    "    orders = ['Apple', 'Mangoes', 'Biscuits', 'Milk']\n",
    "    items = len(orders)\n",
    "    total_charge = 200 + ((items - 1) * 25)\n",
    "    return total_charge\n",
    "\n",
    "shipping_charge()\n",
    "    "
   ]
  },
  {
   "cell_type": "markdown",
   "metadata": {
    "colab_type": "text",
    "id": "zpJ7dsVWyURZ"
   },
   "source": [
    "## 1.3 Passing Parameters and Returning Values"
   ]
  },
  {
   "cell_type": "code",
   "execution_count": 25,
   "metadata": {
    "colab": {},
    "colab_type": "code",
    "id": "oGbSQfdDyy91"
   },
   "outputs": [
    {
     "name": "stdout",
     "output_type": "stream",
     "text": [
      "3.0\n"
     ]
    }
   ],
   "source": [
    "# Example 1\n",
    "# Parameters are variables that give to a function. The function later use the values \n",
    "# of those parameters which we call arguments to perform operations then return an output.\n",
    "# The ability for functions to take in parameter is important because it allows \n",
    "# for code re-use in different contexts. \n",
    "# To see this, let's create a function that finds the average of two numbers a and b.\n",
    "# These numbers a and b are referred to as parameters and their values are referred to arguements.\n",
    "# The parameters will be provided to the function and the function will \n",
    "# perform the average and return the result of these operations as show.\n",
    "# \n",
    "\n",
    "# Defining our function\n",
    "def avg(a,b):\n",
    "  \n",
    "  # Performing the operation\n",
    "  two_numbers_avg = (a + b)/2\n",
    "  \n",
    "  # Returning the result of our function\n",
    "  return print(two_numbers_avg) \n",
    "\n",
    "# Calling our function with arguments\n",
    "avg(2,4)"
   ]
  },
  {
   "cell_type": "code",
   "execution_count": 26,
   "metadata": {
    "colab": {},
    "colab_type": "code",
    "id": "eAMUefKlyzA1"
   },
   "outputs": [
    {
     "name": "stdout",
     "output_type": "stream",
     "text": [
      "Chitanda, Tomanzi\n"
     ]
    }
   ],
   "source": [
    "# Example 2\n",
    "# Let's create another function that takes in the name and age of a person\n",
    "# then prints out their name \n",
    "# \n",
    "\n",
    "def lastFirst(firstName, lastName):\n",
    "    separator = ', '\n",
    "    result = lastName + separator + firstName\n",
    "    return print(result)\n",
    " \n",
    "lastFirst('Tomanzi', 'Chitanda')"
   ]
  },
  {
   "cell_type": "code",
   "execution_count": 27,
   "metadata": {
    "colab": {},
    "colab_type": "code",
    "id": "YxUu-a7AzzcP"
   },
   "outputs": [
    {
     "name": "stdout",
     "output_type": "stream",
     "text": [
      "50.24\n"
     ]
    }
   ],
   "source": [
    "# Example 3\n",
    "# Let's create another function that calculates the area of a cirlce when\n",
    "# the value radius is passed to the function\n",
    "# \n",
    "\n",
    "def circleArea(radius):\n",
    "    area = 3.14 * radius * radius \n",
    "    return print(area)\n",
    "  \n",
    "# Calling our function and passing an argumement\n",
    "circleArea(4)"
   ]
  },
  {
   "cell_type": "markdown",
   "metadata": {
    "colab_type": "text",
    "id": "qmwPuSsPyqff"
   },
   "source": [
    "### <font color=\"green\">1.3 Challenges</font>"
   ]
  },
  {
   "cell_type": "code",
   "execution_count": 49,
   "metadata": {
    "colab": {},
    "colab_type": "code",
    "id": "8pa4b5Jcz1kf"
   },
   "outputs": [
    {
     "data": {
      "text/plain": [
       "28"
      ]
     },
     "execution_count": 49,
     "metadata": {},
     "output_type": "execute_result"
    }
   ],
   "source": [
    "# Challenge 1\n",
    "# Write a function that determines how many days there are in a particular month. \n",
    "# Your function will have two parameters: The month as an integer between 1 and 12, \n",
    "# and the year as a four digit integer. \n",
    "# Ensure that your function reports the correct number of days in February for leap years.\n",
    "# \n",
    "\n",
    "def days_in_month(year, month):\n",
    "    thirty_one = [1, 3, 4, 7, 8, 10, 12]\n",
    "    thirty = [4, 6, 9, 11]\n",
    "    if month in thirty_one:\n",
    "        return 31\n",
    "    elif month in thirty:\n",
    "        return 30\n",
    "    elif month == 2:\n",
    "        if year % 4 == 0:\n",
    "            return 29\n",
    "        else:\n",
    "            return 28\n",
    "    else:\n",
    "        print(\"Invalid month number\")\n",
    "\n",
    "days_in_month(2065, 2)"
   ]
  },
  {
   "cell_type": "code",
   "execution_count": 36,
   "metadata": {
    "colab": {},
    "colab_type": "code",
    "id": "uyz_9HC9y4XT"
   },
   "outputs": [
    {
     "data": {
      "text/plain": [
       "250"
      ]
     },
     "execution_count": 36,
     "metadata": {},
     "output_type": "execute_result"
    }
   ],
   "source": [
    "# Challenge 2\n",
    "# In a particular company, taxi fares consist of a base fare of Ksh.200, \n",
    "# plus Ksh.25 for every 140 meters traveled. \n",
    "# Write a function that takes the distance traveled (in kilometers) \n",
    "# as its only parameter and returns the total fare as its only result.\n",
    "#\n",
    "def uber_charge(distance):\n",
    "    charge = (int(distance/140) * 25) + 200\n",
    "    return charge\n",
    "\n",
    "uber_charge(280)"
   ]
  },
  {
   "cell_type": "code",
   "execution_count": 61,
   "metadata": {
    "colab": {},
    "colab_type": "code",
    "id": "a93DEIfI1Xkc"
   },
   "outputs": [
    {
     "name": "stdout",
     "output_type": "stream",
     "text": [
      "Minutes used this month : 23\n",
      "Messages used this month :20\n",
      "\n",
      "MONTHLY CHARGES BREAKDOWN\n",
      "-----------------------------\n",
      "-----------------------------\n",
      "Base charge : 50\n",
      "Extra minutes charge : 9.0\n",
      "Extra messages charge : 0.0\n",
      "Tax : 9.44\n",
      "Total bill amount : 68.44\n",
      "                   -------\n"
     ]
    }
   ],
   "source": [
    "# Challenge 3\n",
    "# A particular cell phone plan includes 20 minutes of air time and 20 text messages \n",
    "# for Ksh. 50.00 a month. Each additional minute of air time costs Ksh. 3.00, \n",
    "# while additional text messages cost Ksh. 2.00 each. \n",
    "# The entire bill (including the 999 charge) is subject to 16 percent VAT tax.\n",
    "# Write a program that reads the number of minutes and text messages used in a month from the user. \n",
    "# Display the base charge, additional minutes charge (if any), \n",
    "# additional text message charge (if any), tax and total bill amount. \n",
    "# Only display the additional minute and text message charges if the user incurred costs in these categories. \n",
    "# Ensure that all of the charges are displayed using 2 decimal places.\n",
    "#\n",
    "def phone_charges(minutes, messages):\n",
    "    base_charge = 50\n",
    "    if minutes <= 20 and messages <= 20:\n",
    "        bill = base_charge\n",
    "        extra_minutes_charge = 0\n",
    "        extra_messages_charge = 0\n",
    "    elif minutes > 20  or messages > 20:\n",
    "        extra_minutes_charge = (minutes - 20) * 3\n",
    "        extra_messages_charge = (messages - 20) * 2\n",
    "        if extra_minutes_charge < 0:\n",
    "            extra_minutes_charge = 0\n",
    "            bill = base_charge + extra_minutes_charge + extra_messages_charge\n",
    "            \n",
    "        elif extra_messages_charge < 0:\n",
    "            extra_messages_charge = 0\n",
    "            bill = base_charge + extra_minutes_charge + extra_messages_charge\n",
    "            \n",
    "        else:\n",
    "            bill = base_charge + extra_minutes_charge + extra_messages_charge     \n",
    "    \n",
    "            \n",
    "    tax = bill * 0.16\n",
    "    total_bill_amount = tax + bill\n",
    "    \n",
    "    results = {'Base charge':base_charge,\n",
    "               'Extra minutes charge':extra_minutes_charge,\n",
    "               'Extra messages charge':extra_messages_charge,\n",
    "               'Tax': tax,\n",
    "               'Total bill amount':total_bill_amount}\n",
    "    \n",
    "    return results\n",
    "\n",
    "minutes = float(input(\"Minutes used this month : \"))\n",
    "messages = float(input(\"Messages used this month :\"))\n",
    "costing_statement = phone_charges(minutes, messages)\n",
    "print(\"\\nMONTHLY CHARGES BREAKDOWN\")\n",
    "print(\"-----------------------------\")\n",
    "print(\"-----------------------------\")\n",
    "for x, y in costing_statement.items():\n",
    "    print(f\"{x} : {y}\")\n",
    "    \n",
    "print(\"                   -------\")   \n",
    "        "
   ]
  },
  {
   "cell_type": "code",
   "execution_count": null,
   "metadata": {},
   "outputs": [],
   "source": []
  },
  {
   "cell_type": "code",
   "execution_count": null,
   "metadata": {},
   "outputs": [],
   "source": []
  }
 ],
 "metadata": {
  "colab": {
   "collapsed_sections": [
    "qbHky4L6u0GF",
    "4id48OhWr7L2",
    "51m8VyKYs_e3",
    "-yVfw__Bu4Sl",
    "ArRLPeQ0zTD7",
    "zpJ7dsVWyURZ",
    "qmwPuSsPyqff"
   ],
   "name": "Python Programming: Functions",
   "provenance": [],
   "toc_visible": true
  },
  "kernelspec": {
   "display_name": "Python 3",
   "language": "python",
   "name": "python3"
  },
  "language_info": {
   "codemirror_mode": {
    "name": "ipython",
    "version": 3
   },
   "file_extension": ".py",
   "mimetype": "text/x-python",
   "name": "python",
   "nbconvert_exporter": "python",
   "pygments_lexer": "ipython3",
   "version": "3.7.1"
  }
 },
 "nbformat": 4,
 "nbformat_minor": 1
}
