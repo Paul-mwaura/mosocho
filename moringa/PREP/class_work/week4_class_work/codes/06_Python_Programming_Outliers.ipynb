{
 "cells": [
  {
   "cell_type": "markdown",
   "metadata": {
    "colab_type": "text",
    "id": "4z4R6KDEOBu1"
   },
   "source": [
    "<font color=\"green\">*To start working on this notebook, or any other notebook that we will use in the Moringa Data Science Course, we will need to save our own copy of it. We can do this by clicking File > Save a Copy in Drive. We will then be able to make edits to our own copy of this notebook.*</font>"
   ]
  },
  {
   "cell_type": "markdown",
   "metadata": {
    "colab_type": "text",
    "id": "jdpKPwMLOFq2"
   },
   "source": [
    "# Python Programming: Outliers"
   ]
  },
  {
   "cell_type": "markdown",
   "metadata": {
    "colab_type": "text",
    "id": "PmZdYSeHOVN2"
   },
   "source": [
    "## Examples"
   ]
  },
  {
   "cell_type": "markdown",
   "metadata": {
    "colab_type": "text",
    "id": "DwM2aK5gVHO6"
   },
   "source": [
    "### 1. Finding Outliers"
   ]
  },
  {
   "cell_type": "markdown",
   "metadata": {
    "colab_type": "text",
    "id": "ncXu-6kgOVgS"
   },
   "source": [
    "#### Example 1: Box Plot"
   ]
  },
  {
   "cell_type": "code",
   "execution_count": 1,
   "metadata": {
    "colab": {
     "base_uri": "https://localhost:8080/",
     "height": 204
    },
    "colab_type": "code",
    "id": "24XfAfBcOVgT",
    "outputId": "eb431063-e046-46fd-fb9b-8894419393d0"
   },
   "outputs": [
    {
     "data": {
      "text/html": [
       "<div>\n",
       "<style scoped>\n",
       "    .dataframe tbody tr th:only-of-type {\n",
       "        vertical-align: middle;\n",
       "    }\n",
       "\n",
       "    .dataframe tbody tr th {\n",
       "        vertical-align: top;\n",
       "    }\n",
       "\n",
       "    .dataframe thead th {\n",
       "        text-align: right;\n",
       "    }\n",
       "</style>\n",
       "<table border=\"1\" class=\"dataframe\">\n",
       "  <thead>\n",
       "    <tr style=\"text-align: right;\">\n",
       "      <th></th>\n",
       "      <th>total_bill</th>\n",
       "      <th>tip</th>\n",
       "      <th>sex</th>\n",
       "      <th>smoker</th>\n",
       "      <th>day</th>\n",
       "      <th>time</th>\n",
       "      <th>size</th>\n",
       "    </tr>\n",
       "  </thead>\n",
       "  <tbody>\n",
       "    <tr>\n",
       "      <th>0</th>\n",
       "      <td>16.99</td>\n",
       "      <td>1.01</td>\n",
       "      <td>Female</td>\n",
       "      <td>No</td>\n",
       "      <td>Sun</td>\n",
       "      <td>Dinner</td>\n",
       "      <td>2</td>\n",
       "    </tr>\n",
       "    <tr>\n",
       "      <th>1</th>\n",
       "      <td>10.34</td>\n",
       "      <td>1.66</td>\n",
       "      <td>Male</td>\n",
       "      <td>No</td>\n",
       "      <td>Sun</td>\n",
       "      <td>Dinner</td>\n",
       "      <td>3</td>\n",
       "    </tr>\n",
       "    <tr>\n",
       "      <th>2</th>\n",
       "      <td>21.01</td>\n",
       "      <td>3.50</td>\n",
       "      <td>Male</td>\n",
       "      <td>No</td>\n",
       "      <td>Sun</td>\n",
       "      <td>Dinner</td>\n",
       "      <td>3</td>\n",
       "    </tr>\n",
       "    <tr>\n",
       "      <th>3</th>\n",
       "      <td>23.68</td>\n",
       "      <td>3.31</td>\n",
       "      <td>Male</td>\n",
       "      <td>No</td>\n",
       "      <td>Sun</td>\n",
       "      <td>Dinner</td>\n",
       "      <td>2</td>\n",
       "    </tr>\n",
       "    <tr>\n",
       "      <th>4</th>\n",
       "      <td>24.59</td>\n",
       "      <td>3.61</td>\n",
       "      <td>Female</td>\n",
       "      <td>No</td>\n",
       "      <td>Sun</td>\n",
       "      <td>Dinner</td>\n",
       "      <td>4</td>\n",
       "    </tr>\n",
       "  </tbody>\n",
       "</table>\n",
       "</div>"
      ],
      "text/plain": [
       "   total_bill   tip     sex smoker  day    time  size\n",
       "0       16.99  1.01  Female     No  Sun  Dinner     2\n",
       "1       10.34  1.66    Male     No  Sun  Dinner     3\n",
       "2       21.01  3.50    Male     No  Sun  Dinner     3\n",
       "3       23.68  3.31    Male     No  Sun  Dinner     2\n",
       "4       24.59  3.61  Female     No  Sun  Dinner     4"
      ]
     },
     "execution_count": 1,
     "metadata": {},
     "output_type": "execute_result"
    }
   ],
   "source": [
    "# Example 1 \n",
    "# ---\n",
    "# Visualising outliers using box plot.\n",
    "# ---\n",
    "# A boxplot is a method for graphically depicting groups of numerical data \n",
    "# through their quantiles or the five-number summary \n",
    "# (minimum, first quartile (Q1), median, third quartile (Q3), and maximum). \n",
    "# This method is normally used to detect outliers. \n",
    "# ---\n",
    "#Dataset url = http://bit.ly/OutlierDataset\n",
    "#\n",
    "\n",
    "# Importing the required libraries\n",
    "# \n",
    "import numpy as np \n",
    "import pandas as pd \n",
    "import matplotlib.pyplot as plt \n",
    "\n",
    "\n",
    "# Loading the dataset \n",
    "# \n",
    "df = pd.read_csv(\"http://bit.ly/OutlierDataset\") \n",
    "\n",
    "# Display 5 rows of dataset \n",
    "# \n",
    "df.head() "
   ]
  },
  {
   "cell_type": "code",
   "execution_count": 2,
   "metadata": {
    "colab": {
     "base_uri": "https://localhost:8080/",
     "height": 283
    },
    "colab_type": "code",
    "id": "4h9DfLYp8IN9",
    "outputId": "ea1f5e44-120f-49e8-ceb5-11824b5caef5"
   },
   "outputs": [
    {
     "data": {
      "text/plain": [
       "<matplotlib.axes._subplots.AxesSubplot at 0x63595f0>"
      ]
     },
     "execution_count": 2,
     "metadata": {},
     "output_type": "execute_result"
    },
    {
     "data": {
      "image/png": "[encoded data removed]",
      "text/plain": [
       "<Figure size 432x288 with 1 Axes>"
      ]
     },
     "metadata": {
      "needs_background": "light"
     },
     "output_type": "display_data"
    }
   ],
   "source": [
    "# Creating a box plot of the variable 'total_bill'\n",
    "# ---\n",
    "# \n",
    "df.boxplot(column =['total_bill'], grid = False) \n",
    "\n",
    "# NB:\n",
    "# The circles in the plot indicate outliers and there are many.\n"
   ]
  },
  {
   "cell_type": "code",
   "execution_count": 3,
   "metadata": {
    "colab": {
     "base_uri": "https://localhost:8080/",
     "height": 318
    },
    "colab_type": "code",
    "id": "6NgrHUi0-xMu",
    "outputId": "7b13c70c-4eb6-42a7-c874-032bd8a9d4fd"
   },
   "outputs": [
    {
     "data": {
      "text/plain": [
       "<matplotlib.axes._subplots.AxesSubplot at 0x6406450>"
      ]
     },
     "execution_count": 3,
     "metadata": {},
     "output_type": "execute_result"
    },
    {
     "data": {
      "image/png": "[encoded data removed]",
      "text/plain": [
       "<Figure size 432x288 with 1 Axes>"
      ]
     },
     "metadata": {
      "needs_background": "light"
     },
     "output_type": "display_data"
    }
   ],
   "source": [
    "# It is also possible to identify outliers using more than one variables as shown\n",
    "# ---\n",
    "#  \n",
    "df.boxplot(column =['total_bill'], by ='day', grid = False)"
   ]
  },
  {
   "cell_type": "code",
   "execution_count": 12,
   "metadata": {
    "colab": {
     "base_uri": "https://localhost:8080/",
     "height": 316
    },
    "colab_type": "code",
    "id": "P1ACyJO01BRv",
    "outputId": "a00bc734-0e96-4830-f905-5b1d36fc6b69"
   },
   "outputs": [
    {
     "data": {
      "text/html": [
       "<div>\n",
       "<style scoped>\n",
       "    .dataframe tbody tr th:only-of-type {\n",
       "        vertical-align: middle;\n",
       "    }\n",
       "\n",
       "    .dataframe tbody tr th {\n",
       "        vertical-align: top;\n",
       "    }\n",
       "\n",
       "    .dataframe thead th {\n",
       "        text-align: right;\n",
       "    }\n",
       "</style>\n",
       "<table border=\"1\" class=\"dataframe\">\n",
       "  <thead>\n",
       "    <tr style=\"text-align: right;\">\n",
       "      <th></th>\n",
       "      <th>country</th>\n",
       "      <th>year</th>\n",
       "      <th>pop</th>\n",
       "      <th>continent</th>\n",
       "      <th>lifeExp</th>\n",
       "      <th>gdpPercap</th>\n",
       "    </tr>\n",
       "  </thead>\n",
       "  <tbody>\n",
       "    <tr>\n",
       "      <th>11</th>\n",
       "      <td>Afghanistan</td>\n",
       "      <td>2007</td>\n",
       "      <td>31889923.0</td>\n",
       "      <td>Asia</td>\n",
       "      <td>43.828</td>\n",
       "      <td>974.580338</td>\n",
       "    </tr>\n",
       "    <tr>\n",
       "      <th>23</th>\n",
       "      <td>Albania</td>\n",
       "      <td>2007</td>\n",
       "      <td>3600523.0</td>\n",
       "      <td>Europe</td>\n",
       "      <td>76.423</td>\n",
       "      <td>5937.029526</td>\n",
       "    </tr>\n",
       "    <tr>\n",
       "      <th>35</th>\n",
       "      <td>Algeria</td>\n",
       "      <td>2007</td>\n",
       "      <td>33333216.0</td>\n",
       "      <td>Africa</td>\n",
       "      <td>72.301</td>\n",
       "      <td>6223.367465</td>\n",
       "    </tr>\n",
       "    <tr>\n",
       "      <th>47</th>\n",
       "      <td>Angola</td>\n",
       "      <td>2007</td>\n",
       "      <td>12420476.0</td>\n",
       "      <td>Africa</td>\n",
       "      <td>42.731</td>\n",
       "      <td>4797.231267</td>\n",
       "    </tr>\n",
       "    <tr>\n",
       "      <th>59</th>\n",
       "      <td>Argentina</td>\n",
       "      <td>2007</td>\n",
       "      <td>40301927.0</td>\n",
       "      <td>Americas</td>\n",
       "      <td>75.320</td>\n",
       "      <td>12779.379640</td>\n",
       "    </tr>\n",
       "    <tr>\n",
       "      <th>...</th>\n",
       "      <td>...</td>\n",
       "      <td>...</td>\n",
       "      <td>...</td>\n",
       "      <td>...</td>\n",
       "      <td>...</td>\n",
       "      <td>...</td>\n",
       "    </tr>\n",
       "    <tr>\n",
       "      <th>1655</th>\n",
       "      <td>Vietnam</td>\n",
       "      <td>2007</td>\n",
       "      <td>85262356.0</td>\n",
       "      <td>Asia</td>\n",
       "      <td>74.249</td>\n",
       "      <td>2441.576404</td>\n",
       "    </tr>\n",
       "    <tr>\n",
       "      <th>1667</th>\n",
       "      <td>West Bank and Gaza</td>\n",
       "      <td>2007</td>\n",
       "      <td>4018332.0</td>\n",
       "      <td>Asia</td>\n",
       "      <td>73.422</td>\n",
       "      <td>3025.349798</td>\n",
       "    </tr>\n",
       "    <tr>\n",
       "      <th>1679</th>\n",
       "      <td>Yemen Rep.</td>\n",
       "      <td>2007</td>\n",
       "      <td>22211743.0</td>\n",
       "      <td>Asia</td>\n",
       "      <td>62.698</td>\n",
       "      <td>2280.769906</td>\n",
       "    </tr>\n",
       "    <tr>\n",
       "      <th>1691</th>\n",
       "      <td>Zambia</td>\n",
       "      <td>2007</td>\n",
       "      <td>11746035.0</td>\n",
       "      <td>Africa</td>\n",
       "      <td>42.384</td>\n",
       "      <td>1271.211593</td>\n",
       "    </tr>\n",
       "    <tr>\n",
       "      <th>1703</th>\n",
       "      <td>Zimbabwe</td>\n",
       "      <td>2007</td>\n",
       "      <td>12311143.0</td>\n",
       "      <td>Africa</td>\n",
       "      <td>43.487</td>\n",
       "      <td>469.709298</td>\n",
       "    </tr>\n",
       "  </tbody>\n",
       "</table>\n",
       "<p>142 rows × 6 columns</p>\n",
       "</div>"
      ],
      "text/plain": [
       "                 country  year         pop continent  lifeExp     gdpPercap\n",
       "11           Afghanistan  2007  31889923.0      Asia   43.828    974.580338\n",
       "23               Albania  2007   3600523.0    Europe   76.423   5937.029526\n",
       "35               Algeria  2007  33333216.0    Africa   72.301   6223.367465\n",
       "47                Angola  2007  12420476.0    Africa   42.731   4797.231267\n",
       "59             Argentina  2007  40301927.0  Americas   75.320  12779.379640\n",
       "...                  ...   ...         ...       ...      ...           ...\n",
       "1655             Vietnam  2007  85262356.0      Asia   74.249   2441.576404\n",
       "1667  West Bank and Gaza  2007   4018332.0      Asia   73.422   3025.349798\n",
       "1679          Yemen Rep.  2007  22211743.0      Asia   62.698   2280.769906\n",
       "1691              Zambia  2007  11746035.0    Africa   42.384   1271.211593\n",
       "1703            Zimbabwe  2007  12311143.0    Africa   43.487    469.709298\n",
       "\n",
       "[142 rows x 6 columns]"
      ]
     },
     "execution_count": 12,
     "metadata": {},
     "output_type": "execute_result"
    },
    {
     "data": {
      "image/png": "[encoded data removed]",
      "text/plain": [
       "<Figure size 432x288 with 1 Axes>"
      ]
     },
     "metadata": {
      "needs_background": "light"
     },
     "output_type": "display_data"
    }
   ],
   "source": [
    "# Example 1-2: Outliers - Box plot (Multiple variables)\n",
    "# ---\n",
    "# Another way of finding outliers of multiple variables is by creating a box plot as shown below\n",
    "# ---\n",
    "# \n",
    "\n",
    "# Importing the seaborn library\n",
    "# ---\n",
    "#\n",
    "import seaborn as sns\n",
    "\n",
    "# Reading data from url as dataframe\n",
    "# ---\n",
    "# \n",
    "gapminder = pd.read_csv(\"http://bit.ly/FiveYearData\") \n",
    "\n",
    "# Filtering the data such that we will keep data from all countries for the year 2007\n",
    "gapminder_2007 = gapminder[gapminder['year']==2007] \n",
    "\n",
    "# We then specify from the multiple options to customize the boxplot with Seaborn.\n",
    "# We choose color palette scheme for the boxplot with Seaborn. \n",
    "# Here, we chose colorblind friendly palette “colorblind”. \n",
    "# Other color palette options available in Seaborn include deep, muted, bright, pastel, and dark.\n",
    "# Uncomment the line below after running the previous lines\n",
    "bplot = sns.boxplot(y='lifeExp', x='continent', data=gapminder_2007, width=0.5, palette=\"colorblind\")\n",
    "\n",
    "# Boxplot alone is extremely useful in getting the summary of data within and between groups. \n",
    "# However, often, it is a good practice to overlay the actual data points on the boxplot.\n",
    "# We use jitter = True option to spread the data points horizontally and also \n",
    "# make boxplot with data points using stripplot.\n",
    "# Uncomment the line below after running the previous lines\n",
    "bplot=sns.stripplot(y='lifeExp', x='continent',  data=gapminder_2007, jitter=True, marker='o', alpha=0.5, color='black')\n",
    "\n",
    "# We then name and size our graph and axis\n",
    "# Uncomment the lines below after running the previous lines\n",
    "bplot.axes.set_title(\"2007: Life Expectancy Vs Continent\", fontsize=14)\n",
    "bplot.set_xlabel(\"Continent\", fontsize=12)\n",
    "bplot.set_ylabel(\"Life Expectancy\", fontsize=12)\n",
    "gapminder_2007"
   ]
  },
  {
   "cell_type": "markdown",
   "metadata": {
    "colab_type": "text",
    "id": "Vd-48O6POQaL"
   },
   "source": [
    "#### Example 2: Histogram"
   ]
  },
  {
   "cell_type": "code",
   "execution_count": 13,
   "metadata": {
    "colab": {
     "base_uri": "https://localhost:8080/",
     "height": 282
    },
    "colab_type": "code",
    "id": "Dy-FNfkSOR8A",
    "outputId": "2a386453-69a2-42c3-d1cd-8e969d5c88f5"
   },
   "outputs": [
    {
     "data": {
      "text/plain": [
       "<matplotlib.axes._subplots.AxesSubplot at 0x89c23b0>"
      ]
     },
     "execution_count": 13,
     "metadata": {},
     "output_type": "execute_result"
    },
    {
     "data": {
      "image/png": "[encoded data removed]",
      "text/plain": [
       "<Figure size 432x288 with 1 Axes>"
      ]
     },
     "metadata": {
      "needs_background": "light"
     },
     "output_type": "display_data"
    }
   ],
   "source": [
    "# Example 2\n",
    "# ---\n",
    "# We use a histogram to visualize the distibution of a numerical variable.\n",
    "# The created histogram shows that the distribution is right-skewed \n",
    "# and there are extreme higher values at the right of the histogram.\n",
    "# ---\n",
    "# \n",
    "df.total_bill.hist()"
   ]
  },
  {
   "cell_type": "markdown",
   "metadata": {
    "colab_type": "text",
    "id": "gxED3bY8OQrx"
   },
   "source": [
    "#### Example 3: Scatter Plot"
   ]
  },
  {
   "cell_type": "code",
   "execution_count": 14,
   "metadata": {
    "colab": {
     "base_uri": "https://localhost:8080/",
     "height": 388
    },
    "colab_type": "code",
    "id": "YKFv1b5TOQrz",
    "outputId": "23a43b58-8360-489c-baa4-942c0a16aebf"
   },
   "outputs": [
    {
     "data": {
      "image/png": "[encoded data removed]",
      "text/plain": [
       "<Figure size 864x432 with 1 Axes>"
      ]
     },
     "metadata": {
      "needs_background": "light"
     },
     "output_type": "display_data"
    }
   ],
   "source": [
    "# Example 3\n",
    "# ---\n",
    "# The scatterplot will visualize the relationship between two quantitative variables. \n",
    "# The data points will be displayed as a collection of points. \n",
    "# Data points outside the general clustering of the two variables can be indicated as outliers.\n",
    "# ---\n",
    "# \n",
    "fig, ax = plt.subplots(figsize=(12,6))\n",
    "ax.scatter(df['total_bill'], df['tip'])\n",
    "ax.set_xlabel('Total Bill')\n",
    "ax.set_ylabel('Tip')\n",
    "plt.show()"
   ]
  },
  {
   "cell_type": "markdown",
   "metadata": {
    "colab_type": "text",
    "id": "6XEIOnysU89y"
   },
   "source": [
    "#### Example 4: Z-Score"
   ]
  },
  {
   "cell_type": "code",
   "execution_count": 15,
   "metadata": {
    "colab": {
     "base_uri": "https://localhost:8080/",
     "height": 34
    },
    "colab_type": "code",
    "id": "gXqBA9rbiI0_",
    "outputId": "a21cf5b5-437f-48fd-ee5c-186d4b076b2e"
   },
   "outputs": [
    {
     "data": {
      "text/plain": [
       "[48.27, 48.17, 50.81, 48.33]"
      ]
     },
     "execution_count": 15,
     "metadata": {},
     "output_type": "execute_result"
    }
   ],
   "source": [
    "# Example 4: Outliers - Mathematical Function (Z-Score-)\n",
    "# ---\n",
    "# The Z-score is the signed number of standard deviations by which the value of an observation \n",
    "# or data point is above the mean value of what is being observed or measured.\n",
    "# The intuition behind Z-score is to describe any data point by finding their \n",
    "# relationship with the Standard Deviation and Mean of the group of data points. \n",
    "# Z-score is finding the distribution of data where mean is 0 \n",
    "# and standard deviation is 1 i.e. normal distribution.\n",
    "# You must be wondering that, how does this help in identifying the outliers? \n",
    "# Well, while calculating the Z-score we re-scale and center the data \n",
    "# and look for data points which are too far from zero. \n",
    "# These data points which are way too far from zero will be treated as the outliers. \n",
    "# In most of the cases a threshold of 3 or -3 is used i.e \n",
    "# if the Z-score value is greater than or less than 3 or -3 respectively, \n",
    "# that data point will be identified as an outlier.\n",
    "# ---\n",
    "# We will create the following function to calculate our z-scores and detect our outliers\n",
    "# ---\n",
    "# \n",
    "\n",
    "\n",
    "def detect_outlier(data_1):\n",
    "    outliers=[]\n",
    "    threshold=3\n",
    "    mean_1 = np.mean(data_1)\n",
    "    std_1 =np.std(data_1)\n",
    "    \n",
    "    for y in data_1:\n",
    "        z_score= (y - mean_1)/std_1 \n",
    "        if np.abs(z_score) > threshold:\n",
    "            outliers.append(y)\n",
    "    return outliers\n",
    "\n",
    "detect_outlier(df['total_bill'])"
   ]
  },
  {
   "cell_type": "code",
   "execution_count": 16,
   "metadata": {
    "colab": {
     "base_uri": "https://localhost:8080/",
     "height": 341
    },
    "colab_type": "code",
    "id": "YKW1NPzouW1x",
    "outputId": "6e2aa14f-c92b-48db-d39c-00d22a4c6aa5"
   },
   "outputs": [
    {
     "ename": "NameError",
     "evalue": "name 'z' is not defined",
     "output_type": "error",
     "traceback": [
      "\u001b[1;31m---------------------------------------------------------------------------\u001b[0m",
      "\u001b[1;31mNameError\u001b[0m                                 Traceback (most recent call last)",
      "\u001b[1;32m<ipython-input-16-35628e584905>\u001b[0m in \u001b[0;36m<module>\u001b[1;34m\u001b[0m\n\u001b[0;32m      2\u001b[0m \u001b[1;33m\u001b[0m\u001b[0m\n\u001b[0;32m      3\u001b[0m \u001b[1;31m# removing the outliers\u001b[0m\u001b[1;33m\u001b[0m\u001b[1;33m\u001b[0m\u001b[1;33m\u001b[0m\u001b[0m\n\u001b[1;32m----> 4\u001b[1;33m \u001b[0mboston_zf\u001b[0m \u001b[1;33m=\u001b[0m \u001b[0mdf\u001b[0m\u001b[1;33m[\u001b[0m\u001b[1;34m'total_bill'\u001b[0m\u001b[1;33m]\u001b[0m \u001b[1;33m[\u001b[0m\u001b[1;33m(\u001b[0m\u001b[0mz\u001b[0m \u001b[1;33m<\u001b[0m \u001b[1;36m3\u001b[0m\u001b[1;33m)\u001b[0m\u001b[1;33m.\u001b[0m\u001b[0mall\u001b[0m\u001b[1;33m(\u001b[0m\u001b[0maxis\u001b[0m\u001b[1;33m=\u001b[0m\u001b[1;36m1\u001b[0m\u001b[1;33m)\u001b[0m\u001b[1;33m]\u001b[0m\u001b[1;33m\u001b[0m\u001b[1;33m\u001b[0m\u001b[0m\n\u001b[0m\u001b[0;32m      5\u001b[0m \u001b[1;33m\u001b[0m\u001b[0m\n\u001b[0;32m      6\u001b[0m \u001b[0mboston_zf\u001b[0m\u001b[1;33m\u001b[0m\u001b[1;33m\u001b[0m\u001b[0m\n",
      "\u001b[1;31mNameError\u001b[0m: name 'z' is not defined"
     ]
    }
   ],
   "source": [
    "# we want to use a copy of boston_df \n",
    "\n",
    "# removing the outliers\n",
    "boston_zf = df['total_bill'] [(z < 3).all(axis=1)]\n",
    "\n",
    "boston_zf"
   ]
  },
  {
   "cell_type": "markdown",
   "metadata": {
    "colab_type": "text",
    "id": "sjLMkyDqVWGH"
   },
   "source": [
    "### 2. Dealing with Outliers"
   ]
  },
  {
   "cell_type": "markdown",
   "metadata": {
    "colab_type": "text",
    "id": "A7q6gzTGVWGn"
   },
   "source": [
    "#### Example 1: Dropping outliers"
   ]
  },
  {
   "cell_type": "code",
   "execution_count": 17,
   "metadata": {
    "colab": {},
    "colab_type": "code",
    "id": "L_9_WcO_VWGo"
   },
   "outputs": [
    {
     "name": "stdout",
     "output_type": "stream",
     "text": [
      "(223, 7)\n",
      "(244, 7)\n"
     ]
    }
   ],
   "source": [
    "# Example 2: \n",
    "# ---\n",
    "# IQR Score \n",
    "# ---\n",
    "# The IQR score uses the IQR scores to remove the outliers. \n",
    "# The rule of thumb is that anything not in the range of \n",
    "# (Q1 - 1.5 IQR) and (Q3 + 1.5 IQR) is an outlier, and can be removed.\n",
    "# ---\n",
    "# Something to note about outlier methods is that they are likely to yield \n",
    "# different results due to the fact that they use different techniques (criteria) \n",
    "# for outlier detection\n",
    "# ---\n",
    "#\n",
    "\n",
    "# Calculating our first, third quantiles and then later our IQR\n",
    "# ---\n",
    "Q1 = df.quantile(0.25)\n",
    "Q3 = df.quantile(0.75)\n",
    "IQR = Q3 - Q1\n",
    "\n",
    "# Removing outliers based on the IQR range and stores the result in the data frame 'df_out'\n",
    "# ---\n",
    "# \n",
    "df_out = df[~((df < (Q1 - 1.5 * IQR)) | (df > (Q3 + 1.5 * IQR))).any(axis=1)]\n",
    "\n",
    "# Printing the shape of our new dataset\n",
    "# ---\n",
    "# \n",
    "print(df_out.shape)\n",
    "\n",
    "# Printing the shape of our old dataset\n",
    "# ---\n",
    "#\n",
    "print(df.shape)"
   ]
  },
  {
   "cell_type": "markdown",
   "metadata": {
    "colab_type": "text",
    "id": "Yw8GEqngOeb1"
   },
   "source": [
    "## <font color=\"green\">Challenges</font>"
   ]
  },
  {
   "cell_type": "markdown",
   "metadata": {
    "colab_type": "text",
    "id": "HYEHQfxxOeb2"
   },
   "source": [
    "#### <font color=\"green\">Challenge 1</font>"
   ]
  },
  {
   "cell_type": "code",
   "execution_count": 18,
   "metadata": {
    "colab": {},
    "colab_type": "code",
    "id": "dinMCd53Oeb3"
   },
   "outputs": [
    {
     "data": {
      "text/html": [
       "<div>\n",
       "<style scoped>\n",
       "    .dataframe tbody tr th:only-of-type {\n",
       "        vertical-align: middle;\n",
       "    }\n",
       "\n",
       "    .dataframe tbody tr th {\n",
       "        vertical-align: top;\n",
       "    }\n",
       "\n",
       "    .dataframe thead th {\n",
       "        text-align: right;\n",
       "    }\n",
       "</style>\n",
       "<table border=\"1\" class=\"dataframe\">\n",
       "  <thead>\n",
       "    <tr style=\"text-align: right;\">\n",
       "      <th></th>\n",
       "      <th>yyyy/mm/dd</th>\n",
       "      <th>year</th>\n",
       "      <th>month</th>\n",
       "      <th>day</th>\n",
       "      <th>ave_temp</th>\n",
       "      <th>high_temp</th>\n",
       "      <th>low_temp</th>\n",
       "      <th>precip</th>\n",
       "      <th>daylight</th>\n",
       "      <th>snowfall</th>\n",
       "      <th>ave_wind_speed</th>\n",
       "      <th>high_wind_speed</th>\n",
       "      <th>high_wind_direc</th>\n",
       "    </tr>\n",
       "  </thead>\n",
       "  <tbody>\n",
       "    <tr>\n",
       "      <th>1</th>\n",
       "      <td>1987/1/2</td>\n",
       "      <td>1987</td>\n",
       "      <td>1</td>\n",
       "      <td>2</td>\n",
       "      <td>2.9</td>\n",
       "      <td>4.7</td>\n",
       "      <td>1.1</td>\n",
       "      <td>2.5</td>\n",
       "      <td>0.0</td>\n",
       "      <td>0</td>\n",
       "      <td>4.4</td>\n",
       "      <td>7.8</td>\n",
       "      <td>NNW</td>\n",
       "    </tr>\n",
       "    <tr>\n",
       "      <th>2</th>\n",
       "      <td>1987/1/3</td>\n",
       "      <td>1987</td>\n",
       "      <td>1</td>\n",
       "      <td>3</td>\n",
       "      <td>5.9</td>\n",
       "      <td>9.3</td>\n",
       "      <td>1.3</td>\n",
       "      <td>2.0</td>\n",
       "      <td>0.8</td>\n",
       "      <td>0</td>\n",
       "      <td>2.5</td>\n",
       "      <td>5.9</td>\n",
       "      <td>N</td>\n",
       "    </tr>\n",
       "    <tr>\n",
       "      <th>3</th>\n",
       "      <td>1987/1/4</td>\n",
       "      <td>1987</td>\n",
       "      <td>1</td>\n",
       "      <td>4</td>\n",
       "      <td>6.8</td>\n",
       "      <td>11.9</td>\n",
       "      <td>3.2</td>\n",
       "      <td>0.0</td>\n",
       "      <td>8.9</td>\n",
       "      <td>0</td>\n",
       "      <td>4.9</td>\n",
       "      <td>8.0</td>\n",
       "      <td>NNW</td>\n",
       "    </tr>\n",
       "    <tr>\n",
       "      <th>4</th>\n",
       "      <td>1987/1/5</td>\n",
       "      <td>1987</td>\n",
       "      <td>1</td>\n",
       "      <td>5</td>\n",
       "      <td>2.7</td>\n",
       "      <td>4.7</td>\n",
       "      <td>0.5</td>\n",
       "      <td>6.0</td>\n",
       "      <td>0.0</td>\n",
       "      <td>1</td>\n",
       "      <td>4.2</td>\n",
       "      <td>8.0</td>\n",
       "      <td>N</td>\n",
       "    </tr>\n",
       "    <tr>\n",
       "      <th>6</th>\n",
       "      <td>1987/1/7</td>\n",
       "      <td>1987</td>\n",
       "      <td>1</td>\n",
       "      <td>7</td>\n",
       "      <td>5.0</td>\n",
       "      <td>8.7</td>\n",
       "      <td>2.7</td>\n",
       "      <td>0.0</td>\n",
       "      <td>2.5</td>\n",
       "      <td>0</td>\n",
       "      <td>2.9</td>\n",
       "      <td>6.0</td>\n",
       "      <td>N</td>\n",
       "    </tr>\n",
       "    <tr>\n",
       "      <th>...</th>\n",
       "      <td>...</td>\n",
       "      <td>...</td>\n",
       "      <td>...</td>\n",
       "      <td>...</td>\n",
       "      <td>...</td>\n",
       "      <td>...</td>\n",
       "      <td>...</td>\n",
       "      <td>...</td>\n",
       "      <td>...</td>\n",
       "      <td>...</td>\n",
       "      <td>...</td>\n",
       "      <td>...</td>\n",
       "      <td>...</td>\n",
       "    </tr>\n",
       "    <tr>\n",
       "      <th>11318</th>\n",
       "      <td>2017/12/27</td>\n",
       "      <td>2017</td>\n",
       "      <td>12</td>\n",
       "      <td>27</td>\n",
       "      <td>4.5</td>\n",
       "      <td>9.2</td>\n",
       "      <td>1.0</td>\n",
       "      <td>0.0</td>\n",
       "      <td>9.0</td>\n",
       "      <td>0</td>\n",
       "      <td>3.1</td>\n",
       "      <td>5.6</td>\n",
       "      <td>NNW</td>\n",
       "    </tr>\n",
       "    <tr>\n",
       "      <th>11319</th>\n",
       "      <td>2017/12/28</td>\n",
       "      <td>2017</td>\n",
       "      <td>12</td>\n",
       "      <td>28</td>\n",
       "      <td>4.8</td>\n",
       "      <td>9.8</td>\n",
       "      <td>1.1</td>\n",
       "      <td>0.0</td>\n",
       "      <td>9.0</td>\n",
       "      <td>0</td>\n",
       "      <td>3.3</td>\n",
       "      <td>6.0</td>\n",
       "      <td>NW</td>\n",
       "    </tr>\n",
       "    <tr>\n",
       "      <th>11320</th>\n",
       "      <td>2017/12/29</td>\n",
       "      <td>2017</td>\n",
       "      <td>12</td>\n",
       "      <td>29</td>\n",
       "      <td>6.1</td>\n",
       "      <td>10.5</td>\n",
       "      <td>2.3</td>\n",
       "      <td>0.0</td>\n",
       "      <td>8.6</td>\n",
       "      <td>0</td>\n",
       "      <td>3.4</td>\n",
       "      <td>6.7</td>\n",
       "      <td>NW</td>\n",
       "    </tr>\n",
       "    <tr>\n",
       "      <th>11321</th>\n",
       "      <td>2017/12/30</td>\n",
       "      <td>2017</td>\n",
       "      <td>12</td>\n",
       "      <td>30</td>\n",
       "      <td>6.2</td>\n",
       "      <td>11.1</td>\n",
       "      <td>1.0</td>\n",
       "      <td>0.0</td>\n",
       "      <td>8.9</td>\n",
       "      <td>0</td>\n",
       "      <td>2.8</td>\n",
       "      <td>5.8</td>\n",
       "      <td>NW</td>\n",
       "    </tr>\n",
       "    <tr>\n",
       "      <th>11322</th>\n",
       "      <td>2017/12/31</td>\n",
       "      <td>2017</td>\n",
       "      <td>12</td>\n",
       "      <td>31</td>\n",
       "      <td>3.8</td>\n",
       "      <td>5.4</td>\n",
       "      <td>2.2</td>\n",
       "      <td>0.0</td>\n",
       "      <td>0.4</td>\n",
       "      <td>0</td>\n",
       "      <td>2.1</td>\n",
       "      <td>4.3</td>\n",
       "      <td>NW</td>\n",
       "    </tr>\n",
       "  </tbody>\n",
       "</table>\n",
       "<p>10832 rows × 13 columns</p>\n",
       "</div>"
      ],
      "text/plain": [
       "       yyyy/mm/dd  year  month  day  ave_temp  high_temp  low_temp  precip  \\\n",
       "1        1987/1/2  1987      1    2       2.9        4.7       1.1     2.5   \n",
       "2        1987/1/3  1987      1    3       5.9        9.3       1.3     2.0   \n",
       "3        1987/1/4  1987      1    4       6.8       11.9       3.2     0.0   \n",
       "4        1987/1/5  1987      1    5       2.7        4.7       0.5     6.0   \n",
       "6        1987/1/7  1987      1    7       5.0        8.7       2.7     0.0   \n",
       "...           ...   ...    ...  ...       ...        ...       ...     ...   \n",
       "11318  2017/12/27  2017     12   27       4.5        9.2       1.0     0.0   \n",
       "11319  2017/12/28  2017     12   28       4.8        9.8       1.1     0.0   \n",
       "11320  2017/12/29  2017     12   29       6.1       10.5       2.3     0.0   \n",
       "11321  2017/12/30  2017     12   30       6.2       11.1       1.0     0.0   \n",
       "11322  2017/12/31  2017     12   31       3.8        5.4       2.2     0.0   \n",
       "\n",
       "       daylight  snowfall  ave_wind_speed  high_wind_speed high_wind_direc  \n",
       "1           0.0         0             4.4              7.8             NNW  \n",
       "2           0.8         0             2.5              5.9               N  \n",
       "3           8.9         0             4.9              8.0             NNW  \n",
       "4           0.0         1             4.2              8.0               N  \n",
       "6           2.5         0             2.9              6.0               N  \n",
       "...         ...       ...             ...              ...             ...  \n",
       "11318       9.0         0             3.1              5.6             NNW  \n",
       "11319       9.0         0             3.3              6.0              NW  \n",
       "11320       8.6         0             3.4              6.7              NW  \n",
       "11321       8.9         0             2.8              5.8              NW  \n",
       "11322       0.4         0             2.1              4.3              NW  \n",
       "\n",
       "[10832 rows x 13 columns]"
      ]
     },
     "execution_count": 18,
     "metadata": {},
     "output_type": "execute_result"
    }
   ],
   "source": [
    "# Challenge 1\n",
    "# ---\n",
    "# Using a Box - Plot determine and remove the outliers in the following dataset \n",
    "# ---\n",
    "# Dataset url = http://bit.ly/MSClimateDataset\n",
    "# ---\n",
    "# \n",
    "url = 'http://bit.ly/MSClimateDataset'\n",
    "frame = pd.read_csv(url)\n",
    "\n",
    "def detect_outlier(data_1):\n",
    "    outliers=[]\n",
    "    threshold=3\n",
    "    mean_1 = np.mean(data_1)\n",
    "    std_1 =np.std(data_1)\n",
    "    \n",
    "    for y in data_1:\n",
    "        z_score= (y - mean_1)/std_1 \n",
    "        if np.abs(z_score) > threshold:\n",
    "            outliers.append(y)\n",
    "    return outliers\n",
    "\n",
    "for column in frame.columns:\n",
    "    try:\n",
    "        outliers = detect_outlier(frame[column])\n",
    "        frame = frame[~frame[column].isin(outliers)]\n",
    "    except:\n",
    "        pass\n",
    "frame"
   ]
  },
  {
   "cell_type": "markdown",
   "metadata": {
    "colab_type": "text",
    "id": "X1x1v181Oeb6"
   },
   "source": [
    "#### <font color=\"green\">Challenge 2</font>"
   ]
  },
  {
   "cell_type": "code",
   "execution_count": 26,
   "metadata": {
    "colab": {},
    "colab_type": "code",
    "id": "4gJCCP64Oeb7"
   },
   "outputs": [
    {
     "data": {
      "text/html": [
       "<div>\n",
       "<style scoped>\n",
       "    .dataframe tbody tr th:only-of-type {\n",
       "        vertical-align: middle;\n",
       "    }\n",
       "\n",
       "    .dataframe tbody tr th {\n",
       "        vertical-align: top;\n",
       "    }\n",
       "\n",
       "    .dataframe thead th {\n",
       "        text-align: right;\n",
       "    }\n",
       "</style>\n",
       "<table border=\"1\" class=\"dataframe\">\n",
       "  <thead>\n",
       "    <tr style=\"text-align: right;\">\n",
       "      <th></th>\n",
       "      <th>Order</th>\n",
       "      <th>File_Type</th>\n",
       "      <th>SKU_number</th>\n",
       "      <th>SoldFlag</th>\n",
       "      <th>SoldCount</th>\n",
       "      <th>MarketingType</th>\n",
       "      <th>ReleaseNumber</th>\n",
       "      <th>New_Release_Flag</th>\n",
       "      <th>StrengthFactor</th>\n",
       "      <th>PriceReg</th>\n",
       "      <th>ReleaseYear</th>\n",
       "      <th>ItemCount</th>\n",
       "      <th>LowUserPrice</th>\n",
       "      <th>LowNetPrice</th>\n",
       "    </tr>\n",
       "  </thead>\n",
       "  <tbody>\n",
       "    <tr>\n",
       "      <th>0</th>\n",
       "      <td>2</td>\n",
       "      <td>Historical</td>\n",
       "      <td>1737127</td>\n",
       "      <td>0.0</td>\n",
       "      <td>0.0</td>\n",
       "      <td>D</td>\n",
       "      <td>15</td>\n",
       "      <td>1</td>\n",
       "      <td>6.827430e+05</td>\n",
       "      <td>44.99</td>\n",
       "      <td>2015</td>\n",
       "      <td>8</td>\n",
       "      <td>28.97</td>\n",
       "      <td>31.84</td>\n",
       "    </tr>\n",
       "    <tr>\n",
       "      <th>1</th>\n",
       "      <td>3</td>\n",
       "      <td>Historical</td>\n",
       "      <td>3255963</td>\n",
       "      <td>0.0</td>\n",
       "      <td>0.0</td>\n",
       "      <td>D</td>\n",
       "      <td>7</td>\n",
       "      <td>1</td>\n",
       "      <td>1.016014e+06</td>\n",
       "      <td>24.81</td>\n",
       "      <td>2005</td>\n",
       "      <td>39</td>\n",
       "      <td>0.00</td>\n",
       "      <td>15.54</td>\n",
       "    </tr>\n",
       "    <tr>\n",
       "      <th>2</th>\n",
       "      <td>4</td>\n",
       "      <td>Historical</td>\n",
       "      <td>612701</td>\n",
       "      <td>0.0</td>\n",
       "      <td>0.0</td>\n",
       "      <td>D</td>\n",
       "      <td>0</td>\n",
       "      <td>0</td>\n",
       "      <td>3.404640e+05</td>\n",
       "      <td>46.00</td>\n",
       "      <td>2013</td>\n",
       "      <td>34</td>\n",
       "      <td>30.19</td>\n",
       "      <td>27.97</td>\n",
       "    </tr>\n",
       "    <tr>\n",
       "      <th>3</th>\n",
       "      <td>6</td>\n",
       "      <td>Historical</td>\n",
       "      <td>115883</td>\n",
       "      <td>1.0</td>\n",
       "      <td>1.0</td>\n",
       "      <td>D</td>\n",
       "      <td>4</td>\n",
       "      <td>1</td>\n",
       "      <td>3.340110e+05</td>\n",
       "      <td>100.00</td>\n",
       "      <td>2006</td>\n",
       "      <td>20</td>\n",
       "      <td>133.93</td>\n",
       "      <td>83.15</td>\n",
       "    </tr>\n",
       "    <tr>\n",
       "      <th>4</th>\n",
       "      <td>7</td>\n",
       "      <td>Historical</td>\n",
       "      <td>863939</td>\n",
       "      <td>1.0</td>\n",
       "      <td>1.0</td>\n",
       "      <td>D</td>\n",
       "      <td>2</td>\n",
       "      <td>1</td>\n",
       "      <td>1.287938e+06</td>\n",
       "      <td>121.95</td>\n",
       "      <td>2010</td>\n",
       "      <td>28</td>\n",
       "      <td>4.00</td>\n",
       "      <td>23.99</td>\n",
       "    </tr>\n",
       "    <tr>\n",
       "      <th>...</th>\n",
       "      <td>...</td>\n",
       "      <td>...</td>\n",
       "      <td>...</td>\n",
       "      <td>...</td>\n",
       "      <td>...</td>\n",
       "      <td>...</td>\n",
       "      <td>...</td>\n",
       "      <td>...</td>\n",
       "      <td>...</td>\n",
       "      <td>...</td>\n",
       "      <td>...</td>\n",
       "      <td>...</td>\n",
       "      <td>...</td>\n",
       "      <td>...</td>\n",
       "    </tr>\n",
       "    <tr>\n",
       "      <th>198912</th>\n",
       "      <td>208023</td>\n",
       "      <td>Active</td>\n",
       "      <td>109683</td>\n",
       "      <td>NaN</td>\n",
       "      <td>NaN</td>\n",
       "      <td>D</td>\n",
       "      <td>7</td>\n",
       "      <td>1</td>\n",
       "      <td>2.101869e+05</td>\n",
       "      <td>72.87</td>\n",
       "      <td>2006</td>\n",
       "      <td>54</td>\n",
       "      <td>8.46</td>\n",
       "      <td>60.59</td>\n",
       "    </tr>\n",
       "    <tr>\n",
       "      <th>198913</th>\n",
       "      <td>208024</td>\n",
       "      <td>Active</td>\n",
       "      <td>416462</td>\n",
       "      <td>NaN</td>\n",
       "      <td>NaN</td>\n",
       "      <td>D</td>\n",
       "      <td>8</td>\n",
       "      <td>1</td>\n",
       "      <td>4.555041e+05</td>\n",
       "      <td>247.00</td>\n",
       "      <td>2009</td>\n",
       "      <td>65</td>\n",
       "      <td>8.40</td>\n",
       "      <td>74.85</td>\n",
       "    </tr>\n",
       "    <tr>\n",
       "      <th>198914</th>\n",
       "      <td>208025</td>\n",
       "      <td>Active</td>\n",
       "      <td>658242</td>\n",
       "      <td>NaN</td>\n",
       "      <td>NaN</td>\n",
       "      <td>S</td>\n",
       "      <td>2</td>\n",
       "      <td>1</td>\n",
       "      <td>1.692746e+05</td>\n",
       "      <td>50.00</td>\n",
       "      <td>2012</td>\n",
       "      <td>23</td>\n",
       "      <td>23.98</td>\n",
       "      <td>32.62</td>\n",
       "    </tr>\n",
       "    <tr>\n",
       "      <th>198915</th>\n",
       "      <td>208026</td>\n",
       "      <td>Active</td>\n",
       "      <td>2538340</td>\n",
       "      <td>NaN</td>\n",
       "      <td>NaN</td>\n",
       "      <td>S</td>\n",
       "      <td>2</td>\n",
       "      <td>1</td>\n",
       "      <td>3.775266e+05</td>\n",
       "      <td>46.95</td>\n",
       "      <td>2001</td>\n",
       "      <td>23</td>\n",
       "      <td>27.42</td>\n",
       "      <td>37.89</td>\n",
       "    </tr>\n",
       "    <tr>\n",
       "      <th>198916</th>\n",
       "      <td>208027</td>\n",
       "      <td>Active</td>\n",
       "      <td>416662</td>\n",
       "      <td>NaN</td>\n",
       "      <td>NaN</td>\n",
       "      <td>D</td>\n",
       "      <td>15</td>\n",
       "      <td>1</td>\n",
       "      <td>1.183068e+05</td>\n",
       "      <td>120.00</td>\n",
       "      <td>2010</td>\n",
       "      <td>44</td>\n",
       "      <td>10.97</td>\n",
       "      <td>60.67</td>\n",
       "    </tr>\n",
       "  </tbody>\n",
       "</table>\n",
       "<p>198917 rows × 14 columns</p>\n",
       "</div>"
      ],
      "text/plain": [
       "         Order   File_Type  SKU_number  SoldFlag  SoldCount MarketingType  \\\n",
       "0            2  Historical     1737127       0.0        0.0             D   \n",
       "1            3  Historical     3255963       0.0        0.0             D   \n",
       "2            4  Historical      612701       0.0        0.0             D   \n",
       "3            6  Historical      115883       1.0        1.0             D   \n",
       "4            7  Historical      863939       1.0        1.0             D   \n",
       "...        ...         ...         ...       ...        ...           ...   \n",
       "198912  208023      Active      109683       NaN        NaN             D   \n",
       "198913  208024      Active      416462       NaN        NaN             D   \n",
       "198914  208025      Active      658242       NaN        NaN             S   \n",
       "198915  208026      Active     2538340       NaN        NaN             S   \n",
       "198916  208027      Active      416662       NaN        NaN             D   \n",
       "\n",
       "        ReleaseNumber  New_Release_Flag  StrengthFactor  PriceReg  \\\n",
       "0                  15                 1    6.827430e+05     44.99   \n",
       "1                   7                 1    1.016014e+06     24.81   \n",
       "2                   0                 0    3.404640e+05     46.00   \n",
       "3                   4                 1    3.340110e+05    100.00   \n",
       "4                   2                 1    1.287938e+06    121.95   \n",
       "...               ...               ...             ...       ...   \n",
       "198912              7                 1    2.101869e+05     72.87   \n",
       "198913              8                 1    4.555041e+05    247.00   \n",
       "198914              2                 1    1.692746e+05     50.00   \n",
       "198915              2                 1    3.775266e+05     46.95   \n",
       "198916             15                 1    1.183068e+05    120.00   \n",
       "\n",
       "        ReleaseYear  ItemCount  LowUserPrice  LowNetPrice  \n",
       "0              2015          8         28.97        31.84  \n",
       "1              2005         39          0.00        15.54  \n",
       "2              2013         34         30.19        27.97  \n",
       "3              2006         20        133.93        83.15  \n",
       "4              2010         28          4.00        23.99  \n",
       "...             ...        ...           ...          ...  \n",
       "198912         2006         54          8.46        60.59  \n",
       "198913         2009         65          8.40        74.85  \n",
       "198914         2012         23         23.98        32.62  \n",
       "198915         2001         23         27.42        37.89  \n",
       "198916         2010         44         10.97        60.67  \n",
       "\n",
       "[198917 rows x 14 columns]"
      ]
     },
     "execution_count": 26,
     "metadata": {},
     "output_type": "execute_result"
    }
   ],
   "source": [
    "# Challenge 2\n",
    "# ---\n",
    "# Attached is a set of products in which a sales and marketing team are trying to determine \n",
    "# which products we should continue to sell, and which products to remove from our inventory. \n",
    "# The file contains BOTH historical sales data AND active inventory, \n",
    "# which can be discerned with the column titled \"File Type\".\n",
    "# Find and deal with outliers in this dataset;\n",
    "# ---\n",
    "# Dataset url = http://bit.ly/MSProductSales\n",
    "# ---\n",
    "# \n",
    "url = 'http://bit.ly/MSProductSales'\n",
    "frame = pd.read_csv(url)\n",
    "\n",
    "'''def detect_outlier(data_1):\n",
    "    outliers=[]\n",
    "    threshold=3\n",
    "    mean_1 = np.mean(data_1)\n",
    "    std_1 =np.std(data_1)\n",
    "    \n",
    "    for y in data_1:\n",
    "        z_score= (y - mean_1)/std_1 \n",
    "        if np.abs(z_score) > threshold:\n",
    "            outliers.append(y)\n",
    "    return outliers\n",
    "\n",
    "for column in frame.columns:\n",
    "    try:\n",
    "        outliers = detect_outlier(frame[column])\n",
    "        frame = frame[~frame[column].isin(outliers)]\n",
    "    except:\n",
    "        pass'''\n",
    "frame"
   ]
  },
  {
   "cell_type": "markdown",
   "metadata": {
    "colab_type": "text",
    "id": "JpEQ5XMpOeb-"
   },
   "source": [
    "#### <font color=\"green\">Challenge 3</font>"
   ]
  },
  {
   "cell_type": "code",
   "execution_count": 0,
   "metadata": {
    "colab": {},
    "colab_type": "code",
    "id": "AHJPx7SqOecA"
   },
   "outputs": [],
   "source": [
    "# Challenge 3\n",
    "# ---\n",
    "# Brazilian politicians are entitled to refunds if they spend any of their money \n",
    "# on an activity that is enabling them to \"better serve the people\".\n",
    "# Those expenses are public data, however, there is little monitoring/data analysis of it. \n",
    "# A quick look at it shows a deputy with over 800 flights in one year. \n",
    "# Another deputy has over 140.000R$ expenses on mailing (old fashion mail) in one year.\n",
    "# There are a lot of very suspicious data regarding the deputies expending behavior. \n",
    "# Can you help spot outliers and companies charging unusual amounts of money for a service?\n",
    "# ---\n",
    "# Dataset url = http://bit.ly/MSBrazilPoliticians\n",
    "# ---\n",
    "# \n"
   ]
  }
 ],
 "metadata": {
  "colab": {
   "collapsed_sections": [
    "DwM2aK5gVHO6",
    "ncXu-6kgOVgS",
    "Vd-48O6POQaL",
    "gxED3bY8OQrx",
    "6XEIOnysU89y",
    "sjLMkyDqVWGH",
    "A7q6gzTGVWGn",
    "Yw8GEqngOeb1",
    "HYEHQfxxOeb2",
    "X1x1v181Oeb6",
    "JpEQ5XMpOeb-"
   ],
   "name": "Python Programming: Outliers",
   "provenance": [],
   "toc_visible": true
  },
  "kernelspec": {
   "display_name": "Python 3",
   "language": "python",
   "name": "python3"
  },
  "language_info": {
   "codemirror_mode": {
    "name": "ipython",
    "version": 3
   },
   "file_extension": ".py",
   "mimetype": "text/x-python",
   "name": "python",
   "nbconvert_exporter": "python",
   "pygments_lexer": "ipython3",
   "version": "3.7.6"
  }
 },
 "nbformat": 4,
 "nbformat_minor": 1
}
