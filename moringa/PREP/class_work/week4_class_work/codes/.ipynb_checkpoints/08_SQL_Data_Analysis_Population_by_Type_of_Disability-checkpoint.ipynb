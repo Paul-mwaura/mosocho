{
 "cells": [
  {
   "cell_type": "markdown",
   "metadata": {
    "colab_type": "text",
    "id": "v10LL6vuBqBk"
   },
   "source": [
    "<font color=\"green\">*To start working on this notebook, or any other notebook that we will use in the Moringa Data Science Course, we will need to save our own copy of it. We can do this by clicking File > Save a Copy in Drive. We will then be able to make edits to our own copy of this notebook.*</font>"
   ]
  },
  {
   "cell_type": "markdown",
   "metadata": {
    "colab_type": "text",
    "id": "m0tgCkvzPLEa"
   },
   "source": [
    "# SQL Data Analysis: Population by Type of Disability"
   ]
  },
  {
   "cell_type": "markdown",
   "metadata": {
    "colab_type": "text",
    "id": "VSnOCZ5-IPCi"
   },
   "source": [
    "## 1.0 Connecting to our Database"
   ]
  },
  {
   "cell_type": "code",
   "execution_count": 1,
   "metadata": {
    "colab": {},
    "colab_type": "code",
    "id": "3r-KDLvrO44a"
   },
   "outputs": [
    {
     "data": {
      "text/plain": [
       "'Connected: @None'"
      ]
     },
     "execution_count": 1,
     "metadata": {},
     "output_type": "execute_result"
    }
   ],
   "source": [
    "# We will first load the sql extension into our environment\n",
    "%load_ext sql\n",
    "\n",
    "# Then connect to our in memory sqlite database\n",
    "# NB: This database will cease to exist as soon as the database connection is closed. \n",
    "%sql sqlite://"
   ]
  },
  {
   "cell_type": "markdown",
   "metadata": {
    "colab_type": "text",
    "id": "HToJZ2gBPawZ"
   },
   "source": [
    "## 1.1 Importing Data from CSV files"
   ]
  },
  {
   "cell_type": "code",
   "execution_count": 2,
   "metadata": {
    "colab": {},
    "colab_type": "code",
    "id": "1acwmZanRNHs"
   },
   "outputs": [],
   "source": [
    "# Importing the pandas library\n",
    "# We will use a function read_csv from pandas to read our datasets as shown\n",
    "#\n",
    "import pandas as pd "
   ]
  },
  {
   "cell_type": "code",
   "execution_count": 3,
   "metadata": {
    "colab": {},
    "colab_type": "code",
    "id": "RmreyLDJADqk"
   },
   "outputs": [
    {
     "name": "stdout",
     "output_type": "stream",
     "text": [
      " * sqlite://\n",
      "Done.\n",
      " * sqlite://\n",
      " * sqlite://\n",
      "Done.\n"
     ]
    },
    {
     "data": {
      "text/html": [
       "<table>\n",
       "    <tr>\n",
       "        <th>index</th>\n",
       "        <th>Missing_Hand</th>\n",
       "        <th>Missing_Foot</th>\n",
       "        <th>Lame</th>\n",
       "        <th>Blind</th>\n",
       "        <th>Deaf</th>\n",
       "        <th>Dumb</th>\n",
       "        <th>Mental</th>\n",
       "        <th>Paralyzed</th>\n",
       "        <th>Other</th>\n",
       "        <th>Total_Count</th>\n",
       "        <th>Total_Cases</th>\n",
       "        <th>County</th>\n",
       "    </tr>\n",
       "    <tr>\n",
       "        <td>0</td>\n",
       "        <td>709</td>\n",
       "        <td>182</td>\n",
       "        <td>2012</td>\n",
       "        <td>169</td>\n",
       "        <td>65</td>\n",
       "        <td>247</td>\n",
       "        <td>807</td>\n",
       "        <td>3529</td>\n",
       "        <td>709</td>\n",
       "        <td>6512</td>\n",
       "        <td>7720</td>\n",
       "        <td>Baringo</td>\n",
       "    </tr>\n",
       "    <tr>\n",
       "        <td>1</td>\n",
       "        <td>0</td>\n",
       "        <td>0</td>\n",
       "        <td>1909</td>\n",
       "        <td>653</td>\n",
       "        <td>529</td>\n",
       "        <td>529</td>\n",
       "        <td>928</td>\n",
       "        <td>19</td>\n",
       "        <td>2530</td>\n",
       "        <td>6538</td>\n",
       "        <td>7097</td>\n",
       "        <td>Bomet</td>\n",
       "    </tr>\n",
       "    <tr>\n",
       "        <td>2</td>\n",
       "        <td>1619</td>\n",
       "        <td>0</td>\n",
       "        <td>6479</td>\n",
       "        <td>0</td>\n",
       "        <td>302</td>\n",
       "        <td>2739</td>\n",
       "        <td>1672</td>\n",
       "        <td>0</td>\n",
       "        <td>2884</td>\n",
       "        <td>13170</td>\n",
       "        <td>14076</td>\n",
       "        <td>Bungoma</td>\n",
       "    </tr>\n",
       "    <tr>\n",
       "        <td>3</td>\n",
       "        <td>0</td>\n",
       "        <td>0</td>\n",
       "        <td>951</td>\n",
       "        <td>818</td>\n",
       "        <td>306</td>\n",
       "        <td>2362</td>\n",
       "        <td>319</td>\n",
       "        <td>985</td>\n",
       "        <td>2089</td>\n",
       "        <td>6655</td>\n",
       "        <td>7830</td>\n",
       "        <td>Busia</td>\n",
       "    </tr>\n",
       "    <tr>\n",
       "        <td>4</td>\n",
       "        <td>0</td>\n",
       "        <td>0</td>\n",
       "        <td>1141</td>\n",
       "        <td>0</td>\n",
       "        <td>1285</td>\n",
       "        <td>0</td>\n",
       "        <td>719</td>\n",
       "        <td>453</td>\n",
       "        <td>266</td>\n",
       "        <td>3599</td>\n",
       "        <td>3864</td>\n",
       "        <td>Elgeyo Marakwet</td>\n",
       "    </tr>\n",
       "</table>"
      ],
      "text/plain": [
       "[(0, 709, 182, 2012, 169, 65, 247, 807, 3529, 709, 6512, 7720, 'Baringo'),\n",
       " (1, 0, 0, 1909, 653, 529, 529, 928, 19, 2530, 6538, 7097, 'Bomet'),\n",
       " (2, 1619, 0, 6479, 0, 302, 2739, 1672, 0, 2884, 13170, 14076, 'Bungoma'),\n",
       " (3, 0, 0, 951, 818, 306, 2362, 319, 985, 2089, 6655, 7830, 'Busia'),\n",
       " (4, 0, 0, 1141, 0, 1285, 0, 719, 453, 266, 3599, 3864, 'Elgeyo Marakwet')]"
      ]
     },
     "execution_count": 3,
     "metadata": {},
     "output_type": "execute_result"
    }
   ],
   "source": [
    "# Loading our table from the respective CSV files\n",
    "# We will export the dataset that we have cleaned using python\n",
    "#\n",
    "with open('./datasets/disability.csv','r') as f:\n",
    "    Population = pd.read_csv(f, index_col=0, encoding='utf-8')\n",
    "%sql DROP TABLE if EXISTS Population;\n",
    "%sql PERSIST Population;\n",
    "%sql SELECT * FROM Population LIMIT 5;"
   ]
  },
  {
   "cell_type": "markdown",
   "metadata": {
    "colab_type": "text",
    "id": "IICLGbvBRYHq"
   },
   "source": [
    "## 1.2 Previewing our Dataset\n"
   ]
  },
  {
   "cell_type": "code",
   "execution_count": 4,
   "metadata": {
    "colab": {},
    "colab_type": "code",
    "id": "WrwHg-hzR5BY"
   },
   "outputs": [
    {
     "name": "stdout",
     "output_type": "stream",
     "text": [
      " * sqlite://\n",
      "Done.\n"
     ]
    },
    {
     "data": {
      "text/html": [
       "<table>\n",
       "    <tr>\n",
       "        <th>index</th>\n",
       "        <th>Missing_Hand</th>\n",
       "        <th>Missing_Foot</th>\n",
       "        <th>Lame</th>\n",
       "        <th>Blind</th>\n",
       "        <th>Deaf</th>\n",
       "        <th>Dumb</th>\n",
       "        <th>Mental</th>\n",
       "        <th>Paralyzed</th>\n",
       "        <th>Other</th>\n",
       "        <th>Total_Count</th>\n",
       "        <th>Total_Cases</th>\n",
       "        <th>County</th>\n",
       "    </tr>\n",
       "    <tr>\n",
       "        <td>0</td>\n",
       "        <td>709</td>\n",
       "        <td>182</td>\n",
       "        <td>2012</td>\n",
       "        <td>169</td>\n",
       "        <td>65</td>\n",
       "        <td>247</td>\n",
       "        <td>807</td>\n",
       "        <td>3529</td>\n",
       "        <td>709</td>\n",
       "        <td>6512</td>\n",
       "        <td>7720</td>\n",
       "        <td>Baringo</td>\n",
       "    </tr>\n",
       "    <tr>\n",
       "        <td>1</td>\n",
       "        <td>0</td>\n",
       "        <td>0</td>\n",
       "        <td>1909</td>\n",
       "        <td>653</td>\n",
       "        <td>529</td>\n",
       "        <td>529</td>\n",
       "        <td>928</td>\n",
       "        <td>19</td>\n",
       "        <td>2530</td>\n",
       "        <td>6538</td>\n",
       "        <td>7097</td>\n",
       "        <td>Bomet</td>\n",
       "    </tr>\n",
       "    <tr>\n",
       "        <td>2</td>\n",
       "        <td>1619</td>\n",
       "        <td>0</td>\n",
       "        <td>6479</td>\n",
       "        <td>0</td>\n",
       "        <td>302</td>\n",
       "        <td>2739</td>\n",
       "        <td>1672</td>\n",
       "        <td>0</td>\n",
       "        <td>2884</td>\n",
       "        <td>13170</td>\n",
       "        <td>14076</td>\n",
       "        <td>Bungoma</td>\n",
       "    </tr>\n",
       "    <tr>\n",
       "        <td>3</td>\n",
       "        <td>0</td>\n",
       "        <td>0</td>\n",
       "        <td>951</td>\n",
       "        <td>818</td>\n",
       "        <td>306</td>\n",
       "        <td>2362</td>\n",
       "        <td>319</td>\n",
       "        <td>985</td>\n",
       "        <td>2089</td>\n",
       "        <td>6655</td>\n",
       "        <td>7830</td>\n",
       "        <td>Busia</td>\n",
       "    </tr>\n",
       "    <tr>\n",
       "        <td>4</td>\n",
       "        <td>0</td>\n",
       "        <td>0</td>\n",
       "        <td>1141</td>\n",
       "        <td>0</td>\n",
       "        <td>1285</td>\n",
       "        <td>0</td>\n",
       "        <td>719</td>\n",
       "        <td>453</td>\n",
       "        <td>266</td>\n",
       "        <td>3599</td>\n",
       "        <td>3864</td>\n",
       "        <td>Elgeyo Marakwet</td>\n",
       "    </tr>\n",
       "    <tr>\n",
       "        <td>5</td>\n",
       "        <td>0</td>\n",
       "        <td>0</td>\n",
       "        <td>3464</td>\n",
       "        <td>0</td>\n",
       "        <td>0</td>\n",
       "        <td>188</td>\n",
       "        <td>188</td>\n",
       "        <td>157</td>\n",
       "        <td>2628</td>\n",
       "        <td>6287</td>\n",
       "        <td>6625</td>\n",
       "        <td>Embu</td>\n",
       "    </tr>\n",
       "    <tr>\n",
       "        <td>6</td>\n",
       "        <td>0</td>\n",
       "        <td>691</td>\n",
       "        <td>0</td>\n",
       "        <td>0</td>\n",
       "        <td>0</td>\n",
       "        <td>0</td>\n",
       "        <td>210</td>\n",
       "        <td>210</td>\n",
       "        <td>961</td>\n",
       "        <td>1864</td>\n",
       "        <td>2072</td>\n",
       "        <td>Garissa</td>\n",
       "    </tr>\n",
       "    <tr>\n",
       "        <td>7</td>\n",
       "        <td>497</td>\n",
       "        <td>0</td>\n",
       "        <td>4952</td>\n",
       "        <td>1587</td>\n",
       "        <td>1492</td>\n",
       "        <td>1232</td>\n",
       "        <td>2677</td>\n",
       "        <td>2132</td>\n",
       "        <td>11445</td>\n",
       "        <td>23696</td>\n",
       "        <td>25517</td>\n",
       "        <td>Homa Bay</td>\n",
       "    </tr>\n",
       "    <tr>\n",
       "        <td>8</td>\n",
       "        <td>299</td>\n",
       "        <td>71</td>\n",
       "        <td>702</td>\n",
       "        <td>831</td>\n",
       "        <td>277</td>\n",
       "        <td>0</td>\n",
       "        <td>0</td>\n",
       "        <td>43</td>\n",
       "        <td>426</td>\n",
       "        <td>2154</td>\n",
       "        <td>2350</td>\n",
       "        <td>Isiolo</td>\n",
       "    </tr>\n",
       "    <tr>\n",
       "        <td>9</td>\n",
       "        <td>0</td>\n",
       "        <td>0</td>\n",
       "        <td>874</td>\n",
       "        <td>617</td>\n",
       "        <td>0</td>\n",
       "        <td>0</td>\n",
       "        <td>897</td>\n",
       "        <td>0</td>\n",
       "        <td>1478</td>\n",
       "        <td>3250</td>\n",
       "        <td>3866</td>\n",
       "        <td>Kajiado</td>\n",
       "    </tr>\n",
       "</table>"
      ],
      "text/plain": [
       "[(0, 709, 182, 2012, 169, 65, 247, 807, 3529, 709, 6512, 7720, 'Baringo'),\n",
       " (1, 0, 0, 1909, 653, 529, 529, 928, 19, 2530, 6538, 7097, 'Bomet'),\n",
       " (2, 1619, 0, 6479, 0, 302, 2739, 1672, 0, 2884, 13170, 14076, 'Bungoma'),\n",
       " (3, 0, 0, 951, 818, 306, 2362, 319, 985, 2089, 6655, 7830, 'Busia'),\n",
       " (4, 0, 0, 1141, 0, 1285, 0, 719, 453, 266, 3599, 3864, 'Elgeyo Marakwet'),\n",
       " (5, 0, 0, 3464, 0, 0, 188, 188, 157, 2628, 6287, 6625, 'Embu'),\n",
       " (6, 0, 691, 0, 0, 0, 0, 210, 210, 961, 1864, 2072, 'Garissa'),\n",
       " (7, 497, 0, 4952, 1587, 1492, 1232, 2677, 2132, 11445, 23696, 25517, 'Homa Bay'),\n",
       " (8, 299, 71, 702, 831, 277, 0, 0, 43, 426, 2154, 2350, 'Isiolo'),\n",
       " (9, 0, 0, 874, 617, 0, 0, 897, 0, 1478, 3250, 3866, 'Kajiado')]"
      ]
     },
     "execution_count": 4,
     "metadata": {},
     "output_type": "execute_result"
    }
   ],
   "source": [
    "# Let's preview the first 10 rows of our data\n",
    "# \n",
    "\n",
    "%sql SELECT * FROM Population LIMIT 10;"
   ]
  },
  {
   "cell_type": "markdown",
   "metadata": {
    "colab_type": "text",
    "id": "RAVzK5O6IR8v"
   },
   "source": [
    "## 1.3 Accessing Information about our Dataset"
   ]
  },
  {
   "cell_type": "code",
   "execution_count": 5,
   "metadata": {
    "colab": {},
    "colab_type": "code",
    "id": "0d2kfemDIYWI"
   },
   "outputs": [
    {
     "name": "stdout",
     "output_type": "stream",
     "text": [
      " * sqlite://\n",
      "Done.\n"
     ]
    },
    {
     "data": {
      "text/html": [
       "<table>\n",
       "    <tr>\n",
       "        <th>cid</th>\n",
       "        <th>name</th>\n",
       "        <th>type</th>\n",
       "        <th>notnull</th>\n",
       "        <th>dflt_value</th>\n",
       "        <th>pk</th>\n",
       "    </tr>\n",
       "    <tr>\n",
       "        <td>0</td>\n",
       "        <td>index</td>\n",
       "        <td>BIGINT</td>\n",
       "        <td>0</td>\n",
       "        <td>None</td>\n",
       "        <td>0</td>\n",
       "    </tr>\n",
       "    <tr>\n",
       "        <td>1</td>\n",
       "        <td>Missing_Hand</td>\n",
       "        <td>BIGINT</td>\n",
       "        <td>0</td>\n",
       "        <td>None</td>\n",
       "        <td>0</td>\n",
       "    </tr>\n",
       "    <tr>\n",
       "        <td>2</td>\n",
       "        <td>Missing_Foot</td>\n",
       "        <td>BIGINT</td>\n",
       "        <td>0</td>\n",
       "        <td>None</td>\n",
       "        <td>0</td>\n",
       "    </tr>\n",
       "    <tr>\n",
       "        <td>3</td>\n",
       "        <td>Lame</td>\n",
       "        <td>BIGINT</td>\n",
       "        <td>0</td>\n",
       "        <td>None</td>\n",
       "        <td>0</td>\n",
       "    </tr>\n",
       "    <tr>\n",
       "        <td>4</td>\n",
       "        <td>Blind</td>\n",
       "        <td>BIGINT</td>\n",
       "        <td>0</td>\n",
       "        <td>None</td>\n",
       "        <td>0</td>\n",
       "    </tr>\n",
       "    <tr>\n",
       "        <td>5</td>\n",
       "        <td>Deaf</td>\n",
       "        <td>BIGINT</td>\n",
       "        <td>0</td>\n",
       "        <td>None</td>\n",
       "        <td>0</td>\n",
       "    </tr>\n",
       "    <tr>\n",
       "        <td>6</td>\n",
       "        <td>Dumb</td>\n",
       "        <td>BIGINT</td>\n",
       "        <td>0</td>\n",
       "        <td>None</td>\n",
       "        <td>0</td>\n",
       "    </tr>\n",
       "    <tr>\n",
       "        <td>7</td>\n",
       "        <td>Mental</td>\n",
       "        <td>BIGINT</td>\n",
       "        <td>0</td>\n",
       "        <td>None</td>\n",
       "        <td>0</td>\n",
       "    </tr>\n",
       "    <tr>\n",
       "        <td>8</td>\n",
       "        <td>Paralyzed</td>\n",
       "        <td>BIGINT</td>\n",
       "        <td>0</td>\n",
       "        <td>None</td>\n",
       "        <td>0</td>\n",
       "    </tr>\n",
       "    <tr>\n",
       "        <td>9</td>\n",
       "        <td>Other</td>\n",
       "        <td>BIGINT</td>\n",
       "        <td>0</td>\n",
       "        <td>None</td>\n",
       "        <td>0</td>\n",
       "    </tr>\n",
       "    <tr>\n",
       "        <td>10</td>\n",
       "        <td>Total_Count</td>\n",
       "        <td>BIGINT</td>\n",
       "        <td>0</td>\n",
       "        <td>None</td>\n",
       "        <td>0</td>\n",
       "    </tr>\n",
       "    <tr>\n",
       "        <td>11</td>\n",
       "        <td>Total_Cases</td>\n",
       "        <td>BIGINT</td>\n",
       "        <td>0</td>\n",
       "        <td>None</td>\n",
       "        <td>0</td>\n",
       "    </tr>\n",
       "    <tr>\n",
       "        <td>12</td>\n",
       "        <td>County</td>\n",
       "        <td>TEXT</td>\n",
       "        <td>0</td>\n",
       "        <td>None</td>\n",
       "        <td>0</td>\n",
       "    </tr>\n",
       "</table>"
      ],
      "text/plain": [
       "[(0, 'index', 'BIGINT', 0, None, 0),\n",
       " (1, 'Missing_Hand', 'BIGINT', 0, None, 0),\n",
       " (2, 'Missing_Foot', 'BIGINT', 0, None, 0),\n",
       " (3, 'Lame', 'BIGINT', 0, None, 0),\n",
       " (4, 'Blind', 'BIGINT', 0, None, 0),\n",
       " (5, 'Deaf', 'BIGINT', 0, None, 0),\n",
       " (6, 'Dumb', 'BIGINT', 0, None, 0),\n",
       " (7, 'Mental', 'BIGINT', 0, None, 0),\n",
       " (8, 'Paralyzed', 'BIGINT', 0, None, 0),\n",
       " (9, 'Other', 'BIGINT', 0, None, 0),\n",
       " (10, 'Total_Count', 'BIGINT', 0, None, 0),\n",
       " (11, 'Total_Cases', 'BIGINT', 0, None, 0),\n",
       " (12, 'County', 'TEXT', 0, None, 0)]"
      ]
     },
     "execution_count": 5,
     "metadata": {},
     "output_type": "execute_result"
    }
   ],
   "source": [
    "# Getting to know more about the dataset by accessing its information\n",
    "#\n",
    "%sql PRAGMA table_info(Population)"
   ]
  },
  {
   "cell_type": "code",
   "execution_count": 6,
   "metadata": {},
   "outputs": [
    {
     "name": "stdout",
     "output_type": "stream",
     "text": [
      " * sqlite://\n",
      "1 rows affected.\n"
     ]
    },
    {
     "data": {
      "text/plain": [
       "[]"
      ]
     },
     "execution_count": 6,
     "metadata": {},
     "output_type": "execute_result"
    }
   ],
   "source": [
    "%sql DELETE FROM Population WHERE `County` = 'Kenya average';"
   ]
  },
  {
   "cell_type": "markdown",
   "metadata": {
    "colab_type": "text",
    "id": "NicC8P9LMjvO"
   },
   "source": [
    "## 1.5 Answering Questions"
   ]
  },
  {
   "cell_type": "markdown",
   "metadata": {
    "colab_type": "text",
    "id": "8izhaW7UNYGJ"
   },
   "source": [
    "Let's answer the following questions with our dataset. These are the same questions we answered using the python programming language. "
   ]
  },
  {
   "cell_type": "code",
   "execution_count": 7,
   "metadata": {
    "colab": {},
    "colab_type": "code",
    "id": "tTOgnXvuMxcn"
   },
   "outputs": [
    {
     "name": "stdout",
     "output_type": "stream",
     "text": [
      " * sqlite://\n",
      "Done.\n"
     ]
    },
    {
     "data": {
      "text/html": [
       "<table>\n",
       "    <tr>\n",
       "        <th>County</th>\n",
       "        <th>MAX(`Deaf`)</th>\n",
       "    </tr>\n",
       "    <tr>\n",
       "        <td>Vihiga</td>\n",
       "        <td>2983</td>\n",
       "    </tr>\n",
       "</table>"
      ],
      "text/plain": [
       "[('Vihiga', 2983)]"
      ]
     },
     "execution_count": 7,
     "metadata": {},
     "output_type": "execute_result"
    }
   ],
   "source": [
    "# Challenge 1\n",
    "# Which county had the highest no. of registered deaf persons?\n",
    "# \n",
    "%sql select `County`, MAX(`Deaf`) FROM Population;\n"
   ]
  },
  {
   "cell_type": "code",
   "execution_count": 8,
   "metadata": {
    "colab": {},
    "colab_type": "code",
    "id": "BNegesaWNvQs"
   },
   "outputs": [
    {
     "name": "stdout",
     "output_type": "stream",
     "text": [
      " * sqlite://\n",
      "Done.\n"
     ]
    },
    {
     "data": {
      "text/html": [
       "<table>\n",
       "    <tr>\n",
       "        <th>County</th>\n",
       "        <th>MAX(`Missing_Hand`)</th>\n",
       "    </tr>\n",
       "    <tr>\n",
       "        <td>Bungoma</td>\n",
       "        <td>1619</td>\n",
       "    </tr>\n",
       "</table>"
      ],
      "text/plain": [
       "[('Bungoma', 1619)]"
      ]
     },
     "execution_count": 8,
     "metadata": {},
     "output_type": "execute_result"
    }
   ],
   "source": [
    "# Challenge 2\n",
    "# Which county had the highest no. of registered persons with a missing hand?\n",
    "#\n",
    "%sql select `County`, MAX(`Missing_Hand`) FROM Population;"
   ]
  },
  {
   "cell_type": "code",
   "execution_count": 9,
   "metadata": {
    "colab": {},
    "colab_type": "code",
    "id": "7tilTerhNyiP"
   },
   "outputs": [
    {
     "name": "stdout",
     "output_type": "stream",
     "text": [
      " * sqlite://\n",
      "Done.\n"
     ]
    },
    {
     "data": {
      "text/html": [
       "<table>\n",
       "    <tr>\n",
       "        <th>County</th>\n",
       "        <th>MAX(`Missing_Foot`)</th>\n",
       "    </tr>\n",
       "    <tr>\n",
       "        <td>Nairobi</td>\n",
       "        <td>1881</td>\n",
       "    </tr>\n",
       "</table>"
      ],
      "text/plain": [
       "[('Nairobi', 1881)]"
      ]
     },
     "execution_count": 9,
     "metadata": {},
     "output_type": "execute_result"
    }
   ],
   "source": [
    "# Challenge 3\n",
    "# Which county had the highest no. of registered persons with a missing foot?\n",
    "# \n",
    "%sql select `County`, MAX(`Missing_Foot`) FROM Population;"
   ]
  },
  {
   "cell_type": "code",
   "execution_count": 10,
   "metadata": {
    "colab": {},
    "colab_type": "code",
    "id": "rhXeHa6IOBsq"
   },
   "outputs": [
    {
     "name": "stdout",
     "output_type": "stream",
     "text": [
      " * sqlite://\n",
      "Done.\n"
     ]
    },
    {
     "data": {
      "text/html": [
       "<table>\n",
       "    <tr>\n",
       "        <th>County</th>\n",
       "        <th>MAX(`Lame`)</th>\n",
       "    </tr>\n",
       "    <tr>\n",
       "        <td>Nakuru</td>\n",
       "        <td>11878</td>\n",
       "    </tr>\n",
       "</table>"
      ],
      "text/plain": [
       "[('Nakuru', 11878)]"
      ]
     },
     "execution_count": 10,
     "metadata": {},
     "output_type": "execute_result"
    }
   ],
   "source": [
    "# Challenge 4\n",
    "# Which county had the highest no. of registered lame persons?\n",
    "# \n",
    "%sql select `County`, MAX(`Lame`) FROM Population;"
   ]
  },
  {
   "cell_type": "code",
   "execution_count": 11,
   "metadata": {
    "colab": {},
    "colab_type": "code",
    "id": "wddDP6yCOD_F"
   },
   "outputs": [
    {
     "name": "stdout",
     "output_type": "stream",
     "text": [
      " * sqlite://\n",
      "Done.\n"
     ]
    },
    {
     "data": {
      "text/html": [
       "<table>\n",
       "    <tr>\n",
       "        <th>County</th>\n",
       "        <th>Blind</th>\n",
       "    </tr>\n",
       "    <tr>\n",
       "        <td>Bungoma</td>\n",
       "        <td>0</td>\n",
       "    </tr>\n",
       "    <tr>\n",
       "        <td>Elgeyo Marakwet</td>\n",
       "        <td>0</td>\n",
       "    </tr>\n",
       "    <tr>\n",
       "        <td>Embu</td>\n",
       "        <td>0</td>\n",
       "    </tr>\n",
       "    <tr>\n",
       "        <td>Garissa</td>\n",
       "        <td>0</td>\n",
       "    </tr>\n",
       "    <tr>\n",
       "        <td>Kirinyaga</td>\n",
       "        <td>0</td>\n",
       "    </tr>\n",
       "    <tr>\n",
       "        <td>Kisumu</td>\n",
       "        <td>0</td>\n",
       "    </tr>\n",
       "    <tr>\n",
       "        <td>Laikipia</td>\n",
       "        <td>0</td>\n",
       "    </tr>\n",
       "    <tr>\n",
       "        <td>Lamu</td>\n",
       "        <td>0</td>\n",
       "    </tr>\n",
       "    <tr>\n",
       "        <td>Machakos</td>\n",
       "        <td>0</td>\n",
       "    </tr>\n",
       "    <tr>\n",
       "        <td>Meru</td>\n",
       "        <td>0</td>\n",
       "    </tr>\n",
       "    <tr>\n",
       "        <td>Murang&#x27;a</td>\n",
       "        <td>0</td>\n",
       "    </tr>\n",
       "    <tr>\n",
       "        <td>Nairobi</td>\n",
       "        <td>0</td>\n",
       "    </tr>\n",
       "    <tr>\n",
       "        <td>Nakuru</td>\n",
       "        <td>0</td>\n",
       "    </tr>\n",
       "    <tr>\n",
       "        <td>Nyamira</td>\n",
       "        <td>0</td>\n",
       "    </tr>\n",
       "    <tr>\n",
       "        <td>Nyandarua</td>\n",
       "        <td>0</td>\n",
       "    </tr>\n",
       "    <tr>\n",
       "        <td>Taita Taveta</td>\n",
       "        <td>0</td>\n",
       "    </tr>\n",
       "    <tr>\n",
       "        <td>Tharaka Nithi</td>\n",
       "        <td>0</td>\n",
       "    </tr>\n",
       "    <tr>\n",
       "        <td>Uasin Gishu</td>\n",
       "        <td>0</td>\n",
       "    </tr>\n",
       "</table>"
      ],
      "text/plain": [
       "[('Bungoma', 0),\n",
       " ('Elgeyo Marakwet', 0),\n",
       " ('Embu', 0),\n",
       " ('Garissa', 0),\n",
       " ('Kirinyaga', 0),\n",
       " ('Kisumu', 0),\n",
       " ('Laikipia', 0),\n",
       " ('Lamu', 0),\n",
       " ('Machakos', 0),\n",
       " ('Meru', 0),\n",
       " (\"Murang'a\", 0),\n",
       " ('Nairobi', 0),\n",
       " ('Nakuru', 0),\n",
       " ('Nyamira', 0),\n",
       " ('Nyandarua', 0),\n",
       " ('Taita Taveta', 0),\n",
       " ('Tharaka Nithi', 0),\n",
       " ('Uasin Gishu', 0)]"
      ]
     },
     "execution_count": 11,
     "metadata": {},
     "output_type": "execute_result"
    }
   ],
   "source": [
    "# Challenge 5\n",
    "# Which county had the lowest no. of registered blind persons?\n",
    "# \n",
    "%sql select `County`, `Blind` FROM Population WHERE `Blind` IN (SELECT MIN(`Blind`) FROM Population );"
   ]
  },
  {
   "cell_type": "code",
   "execution_count": 12,
   "metadata": {
    "colab": {},
    "colab_type": "code",
    "id": "OemJ0HDYOHCq"
   },
   "outputs": [
    {
     "name": "stdout",
     "output_type": "stream",
     "text": [
      " * sqlite://\n",
      "Done.\n",
      " * sqlite://\n",
      "Done.\n"
     ]
    },
    {
     "data": {
      "text/html": [
       "<table>\n",
       "    <tr>\n",
       "        <th>County</th>\n",
       "        <th>3rd Most Deaf</th>\n",
       "    </tr>\n",
       "    <tr>\n",
       "        <td>Nyamira</td>\n",
       "        <td>2373</td>\n",
       "    </tr>\n",
       "</table>"
      ],
      "text/plain": [
       "[('Nyamira', 2373)]"
      ]
     },
     "execution_count": 12,
     "metadata": {},
     "output_type": "execute_result"
    }
   ],
   "source": [
    "# Challenge 6\n",
    "# Which county had the highest third no. of registered deaf persons?\n",
    "# \n",
    "%sql CREATE TABLE `Deaf_Query` as SELECT `County`, `Deaf` FROM Population ORDER BY `Deaf` DESC LIMIT 3;\n",
    "%sql SELECT `County`, MIN(`Deaf`) as `3rd Most Deaf` FROM `Deaf_Query`;"
   ]
  },
  {
   "cell_type": "code",
   "execution_count": 13,
   "metadata": {},
   "outputs": [
    {
     "name": "stdout",
     "output_type": "stream",
     "text": [
      " * sqlite://\n",
      "Done.\n"
     ]
    },
    {
     "data": {
      "text/plain": [
       "[]"
      ]
     },
     "execution_count": 13,
     "metadata": {},
     "output_type": "execute_result"
    }
   ],
   "source": [
    "#Challenge 6 Extension \n",
    "#Drop the created `Deaf_Query` table, used to solve challenge 6\n",
    "%sql DROP TABLE `Deaf_Query`;"
   ]
  },
  {
   "cell_type": "code",
   "execution_count": 14,
   "metadata": {
    "colab": {},
    "colab_type": "code",
    "id": "CIxC5arSOLak"
   },
   "outputs": [
    {
     "name": "stdout",
     "output_type": "stream",
     "text": [
      " * sqlite://\n",
      "Done.\n"
     ]
    },
    {
     "data": {
      "text/html": [
       "<table>\n",
       "    <tr>\n",
       "        <th>County</th>\n",
       "        <th>Dumb</th>\n",
       "    </tr>\n",
       "    <tr>\n",
       "        <td>Murang&#x27;a</td>\n",
       "        <td>3524</td>\n",
       "    </tr>\n",
       "    <tr>\n",
       "        <td>Bungoma</td>\n",
       "        <td>2739</td>\n",
       "    </tr>\n",
       "    <tr>\n",
       "        <td>Nyamira</td>\n",
       "        <td>2576</td>\n",
       "    </tr>\n",
       "    <tr>\n",
       "        <td>Machakos</td>\n",
       "        <td>2416</td>\n",
       "    </tr>\n",
       "    <tr>\n",
       "        <td>Busia</td>\n",
       "        <td>2362</td>\n",
       "    </tr>\n",
       "</table>"
      ],
      "text/plain": [
       "[(\"Murang'a\", 3524),\n",
       " ('Bungoma', 2739),\n",
       " ('Nyamira', 2576),\n",
       " ('Machakos', 2416),\n",
       " ('Busia', 2362)]"
      ]
     },
     "execution_count": 14,
     "metadata": {},
     "output_type": "execute_result"
    }
   ],
   "source": [
    "# Challenge 7\n",
    "# In descending order, which top 5 counties had the highest no. of registered dumb persons?\n",
    "# \n",
    "%sql SELECT `County`, `Dumb` FROM Population ORDER BY `Dumb` DESC LIMIT 5;"
   ]
  },
  {
   "cell_type": "code",
   "execution_count": 15,
   "metadata": {
    "colab": {},
    "colab_type": "code",
    "id": "gSjjnw56OP8O"
   },
   "outputs": [
    {
     "name": "stdout",
     "output_type": "stream",
     "text": [
      " * sqlite://\n",
      "Done.\n",
      " * sqlite://\n",
      "Done.\n"
     ]
    },
    {
     "data": {
      "text/html": [
       "<table>\n",
       "    <tr>\n",
       "        <th>County</th>\n",
       "        <th>Mental</th>\n",
       "    </tr>\n",
       "    <tr>\n",
       "        <td>Kwale</td>\n",
       "        <td>4294</td>\n",
       "    </tr>\n",
       "    <tr>\n",
       "        <td>Machakos</td>\n",
       "        <td>4410</td>\n",
       "    </tr>\n",
       "    <tr>\n",
       "        <td>Nairobi</td>\n",
       "        <td>4421</td>\n",
       "    </tr>\n",
       "    <tr>\n",
       "        <td>Kiambu</td>\n",
       "        <td>7140</td>\n",
       "    </tr>\n",
       "    <tr>\n",
       "        <td>Nakuru</td>\n",
       "        <td>7256</td>\n",
       "    </tr>\n",
       "</table>"
      ],
      "text/plain": [
       "[('Kwale', 4294),\n",
       " ('Machakos', 4410),\n",
       " ('Nairobi', 4421),\n",
       " ('Kiambu', 7140),\n",
       " ('Nakuru', 7256)]"
      ]
     },
     "execution_count": 15,
     "metadata": {},
     "output_type": "execute_result"
    }
   ],
   "source": [
    "# Challenge 8\n",
    "# In ascending order, which top 5 counties had the highest no. of registered persons with a mental disability? \n",
    "# \n",
    "%sql CREATE TABLE `Mental_Query` AS SELECT `County`, `Mental` FROM Population ORDER BY `Mental` DESC LIMIT 5;\n",
    "%sql SELECT `County`, `Mental` FROM `Mental_Query` ORDER BY `Mental` ASC;"
   ]
  },
  {
   "cell_type": "code",
   "execution_count": 16,
   "metadata": {},
   "outputs": [
    {
     "name": "stdout",
     "output_type": "stream",
     "text": [
      " * sqlite://\n",
      "Done.\n"
     ]
    },
    {
     "data": {
      "text/plain": [
       "[]"
      ]
     },
     "execution_count": 16,
     "metadata": {},
     "output_type": "execute_result"
    }
   ],
   "source": [
    "#Challenge 8 Extension \n",
    "#Drop the created `Mental_Query` table, used to solve challenge 8\n",
    "%sql DROP TABLE `Mental_Query`;"
   ]
  },
  {
   "cell_type": "code",
   "execution_count": 17,
   "metadata": {
    "colab": {},
    "colab_type": "code",
    "id": "UZLYqF7UOTtu"
   },
   "outputs": [
    {
     "name": "stdout",
     "output_type": "stream",
     "text": [
      " * sqlite://\n",
      "Done.\n"
     ]
    },
    {
     "data": {
      "text/html": [
       "<table>\n",
       "    <tr>\n",
       "        <th>County</th>\n",
       "        <th>Blind</th>\n",
       "    </tr>\n",
       "    <tr>\n",
       "        <td>Embu</td>\n",
       "        <td>0</td>\n",
       "    </tr>\n",
       "    <tr>\n",
       "        <td>Garissa</td>\n",
       "        <td>0</td>\n",
       "    </tr>\n",
       "    <tr>\n",
       "        <td>Kirinyaga</td>\n",
       "        <td>0</td>\n",
       "    </tr>\n",
       "    <tr>\n",
       "        <td>Kisumu</td>\n",
       "        <td>0</td>\n",
       "    </tr>\n",
       "    <tr>\n",
       "        <td>Laikipia</td>\n",
       "        <td>0</td>\n",
       "    </tr>\n",
       "    <tr>\n",
       "        <td>Lamu</td>\n",
       "        <td>0</td>\n",
       "    </tr>\n",
       "    <tr>\n",
       "        <td>Machakos</td>\n",
       "        <td>0</td>\n",
       "    </tr>\n",
       "    <tr>\n",
       "        <td>Meru</td>\n",
       "        <td>0</td>\n",
       "    </tr>\n",
       "    <tr>\n",
       "        <td>Nakuru</td>\n",
       "        <td>0</td>\n",
       "    </tr>\n",
       "    <tr>\n",
       "        <td>Taita Taveta</td>\n",
       "        <td>0</td>\n",
       "    </tr>\n",
       "    <tr>\n",
       "        <td>Uasin Gishu</td>\n",
       "        <td>0</td>\n",
       "    </tr>\n",
       "</table>"
      ],
      "text/plain": [
       "[('Embu', 0),\n",
       " ('Garissa', 0),\n",
       " ('Kirinyaga', 0),\n",
       " ('Kisumu', 0),\n",
       " ('Laikipia', 0),\n",
       " ('Lamu', 0),\n",
       " ('Machakos', 0),\n",
       " ('Meru', 0),\n",
       " ('Nakuru', 0),\n",
       " ('Taita Taveta', 0),\n",
       " ('Uasin Gishu', 0)]"
      ]
     },
     "execution_count": 17,
     "metadata": {},
     "output_type": "execute_result"
    }
   ],
   "source": [
    "# Challenge 9\n",
    "# Which counties had no registerd blind persons nor deaf persons?\n",
    "# \n",
    "%sql SELECT `County`, `Blind` FROM Population WHERE `Blind` == 0 and `Deaf` == 0;"
   ]
  },
  {
   "cell_type": "code",
   "execution_count": 24,
   "metadata": {
    "colab": {},
    "colab_type": "code",
    "id": "1qk8wF3MOXDu"
   },
   "outputs": [
    {
     "name": "stdout",
     "output_type": "stream",
     "text": [
      " * sqlite://\n",
      "Done.\n"
     ]
    },
    {
     "data": {
      "text/html": [
       "<table>\n",
       "    <tr>\n",
       "        <th>index</th>\n",
       "        <th>Missing_Hand</th>\n",
       "        <th>Missing_Foot</th>\n",
       "        <th>Lame</th>\n",
       "        <th>Blind</th>\n",
       "        <th>Deaf</th>\n",
       "        <th>Dumb</th>\n",
       "        <th>Mental</th>\n",
       "        <th>Paralyzed</th>\n",
       "        <th>Other</th>\n",
       "        <th>Total_Count</th>\n",
       "        <th>Total_Cases</th>\n",
       "        <th>County</th>\n",
       "    </tr>\n",
       "    <tr>\n",
       "        <td>0</td>\n",
       "        <td>709</td>\n",
       "        <td>182</td>\n",
       "        <td>2012</td>\n",
       "        <td>169</td>\n",
       "        <td>65</td>\n",
       "        <td>247</td>\n",
       "        <td>807</td>\n",
       "        <td>3529</td>\n",
       "        <td>709</td>\n",
       "        <td>6512</td>\n",
       "        <td>7720</td>\n",
       "        <td>Baringo</td>\n",
       "    </tr>\n",
       "    <tr>\n",
       "        <td>1</td>\n",
       "        <td>0</td>\n",
       "        <td>0</td>\n",
       "        <td>1909</td>\n",
       "        <td>653</td>\n",
       "        <td>529</td>\n",
       "        <td>529</td>\n",
       "        <td>928</td>\n",
       "        <td>19</td>\n",
       "        <td>2530</td>\n",
       "        <td>6538</td>\n",
       "        <td>7097</td>\n",
       "        <td>Bomet</td>\n",
       "    </tr>\n",
       "    <tr>\n",
       "        <td>2</td>\n",
       "        <td>1619</td>\n",
       "        <td>0</td>\n",
       "        <td>6479</td>\n",
       "        <td>0</td>\n",
       "        <td>302</td>\n",
       "        <td>2739</td>\n",
       "        <td>1672</td>\n",
       "        <td>0</td>\n",
       "        <td>2884</td>\n",
       "        <td>13170</td>\n",
       "        <td>14076</td>\n",
       "        <td>Bungoma</td>\n",
       "    </tr>\n",
       "    <tr>\n",
       "        <td>3</td>\n",
       "        <td>0</td>\n",
       "        <td>0</td>\n",
       "        <td>951</td>\n",
       "        <td>818</td>\n",
       "        <td>306</td>\n",
       "        <td>2362</td>\n",
       "        <td>319</td>\n",
       "        <td>985</td>\n",
       "        <td>2089</td>\n",
       "        <td>6655</td>\n",
       "        <td>7830</td>\n",
       "        <td>Busia</td>\n",
       "    </tr>\n",
       "    <tr>\n",
       "        <td>4</td>\n",
       "        <td>0</td>\n",
       "        <td>0</td>\n",
       "        <td>1141</td>\n",
       "        <td>0</td>\n",
       "        <td>1285</td>\n",
       "        <td>0</td>\n",
       "        <td>719</td>\n",
       "        <td>453</td>\n",
       "        <td>266</td>\n",
       "        <td>3599</td>\n",
       "        <td>3864</td>\n",
       "        <td>Elgeyo Marakwet</td>\n",
       "    </tr>\n",
       "    <tr>\n",
       "        <td>5</td>\n",
       "        <td>0</td>\n",
       "        <td>0</td>\n",
       "        <td>3464</td>\n",
       "        <td>0</td>\n",
       "        <td>0</td>\n",
       "        <td>188</td>\n",
       "        <td>188</td>\n",
       "        <td>157</td>\n",
       "        <td>2628</td>\n",
       "        <td>6287</td>\n",
       "        <td>6625</td>\n",
       "        <td>Embu</td>\n",
       "    </tr>\n",
       "    <tr>\n",
       "        <td>6</td>\n",
       "        <td>0</td>\n",
       "        <td>691</td>\n",
       "        <td>0</td>\n",
       "        <td>0</td>\n",
       "        <td>0</td>\n",
       "        <td>0</td>\n",
       "        <td>210</td>\n",
       "        <td>210</td>\n",
       "        <td>961</td>\n",
       "        <td>1864</td>\n",
       "        <td>2072</td>\n",
       "        <td>Garissa</td>\n",
       "    </tr>\n",
       "    <tr>\n",
       "        <td>7</td>\n",
       "        <td>497</td>\n",
       "        <td>0</td>\n",
       "        <td>4952</td>\n",
       "        <td>1587</td>\n",
       "        <td>1492</td>\n",
       "        <td>1232</td>\n",
       "        <td>2677</td>\n",
       "        <td>2132</td>\n",
       "        <td>11445</td>\n",
       "        <td>23696</td>\n",
       "        <td>25517</td>\n",
       "        <td>Homa Bay</td>\n",
       "    </tr>\n",
       "    <tr>\n",
       "        <td>8</td>\n",
       "        <td>299</td>\n",
       "        <td>71</td>\n",
       "        <td>702</td>\n",
       "        <td>831</td>\n",
       "        <td>277</td>\n",
       "        <td>0</td>\n",
       "        <td>0</td>\n",
       "        <td>43</td>\n",
       "        <td>426</td>\n",
       "        <td>2154</td>\n",
       "        <td>2350</td>\n",
       "        <td>Isiolo</td>\n",
       "    </tr>\n",
       "    <tr>\n",
       "        <td>9</td>\n",
       "        <td>0</td>\n",
       "        <td>0</td>\n",
       "        <td>874</td>\n",
       "        <td>617</td>\n",
       "        <td>0</td>\n",
       "        <td>0</td>\n",
       "        <td>897</td>\n",
       "        <td>0</td>\n",
       "        <td>1478</td>\n",
       "        <td>3250</td>\n",
       "        <td>3866</td>\n",
       "        <td>Kajiado</td>\n",
       "    </tr>\n",
       "    <tr>\n",
       "        <td>10</td>\n",
       "        <td>274</td>\n",
       "        <td>0</td>\n",
       "        <td>8268</td>\n",
       "        <td>1867</td>\n",
       "        <td>137</td>\n",
       "        <td>1318</td>\n",
       "        <td>988</td>\n",
       "        <td>1730</td>\n",
       "        <td>14201</td>\n",
       "        <td>27468</td>\n",
       "        <td>28509</td>\n",
       "        <td>Kakamega</td>\n",
       "    </tr>\n",
       "    <tr>\n",
       "        <td>11</td>\n",
       "        <td>0</td>\n",
       "        <td>0</td>\n",
       "        <td>0</td>\n",
       "        <td>146</td>\n",
       "        <td>0</td>\n",
       "        <td>0</td>\n",
       "        <td>0</td>\n",
       "        <td>663</td>\n",
       "        <td>2249</td>\n",
       "        <td>3055</td>\n",
       "        <td>3058</td>\n",
       "        <td>Kericho</td>\n",
       "    </tr>\n",
       "    <tr>\n",
       "        <td>12</td>\n",
       "        <td>0</td>\n",
       "        <td>0</td>\n",
       "        <td>0</td>\n",
       "        <td>1020</td>\n",
       "        <td>0</td>\n",
       "        <td>0</td>\n",
       "        <td>7140</td>\n",
       "        <td>767</td>\n",
       "        <td>1171</td>\n",
       "        <td>10099</td>\n",
       "        <td>10098</td>\n",
       "        <td>Kiambu</td>\n",
       "    </tr>\n",
       "    <tr>\n",
       "        <td>13</td>\n",
       "        <td>174</td>\n",
       "        <td>0</td>\n",
       "        <td>2483</td>\n",
       "        <td>1273</td>\n",
       "        <td>965</td>\n",
       "        <td>496</td>\n",
       "        <td>2050</td>\n",
       "        <td>692</td>\n",
       "        <td>174</td>\n",
       "        <td>6996</td>\n",
       "        <td>8133</td>\n",
       "        <td>Kilifi</td>\n",
       "    </tr>\n",
       "    <tr>\n",
       "        <td>14</td>\n",
       "        <td>0</td>\n",
       "        <td>0</td>\n",
       "        <td>105</td>\n",
       "        <td>0</td>\n",
       "        <td>0</td>\n",
       "        <td>0</td>\n",
       "        <td>1675</td>\n",
       "        <td>847</td>\n",
       "        <td>0</td>\n",
       "        <td>2522</td>\n",
       "        <td>2627</td>\n",
       "        <td>Kirinyaga</td>\n",
       "    </tr>\n",
       "    <tr>\n",
       "        <td>15</td>\n",
       "        <td>0</td>\n",
       "        <td>635</td>\n",
       "        <td>673</td>\n",
       "        <td>1222</td>\n",
       "        <td>982</td>\n",
       "        <td>635</td>\n",
       "        <td>2127</td>\n",
       "        <td>1059</td>\n",
       "        <td>2291</td>\n",
       "        <td>9627</td>\n",
       "        <td>9624</td>\n",
       "        <td>Kisii</td>\n",
       "    </tr>\n",
       "    <tr>\n",
       "        <td>16</td>\n",
       "        <td>1521</td>\n",
       "        <td>0</td>\n",
       "        <td>6548</td>\n",
       "        <td>0</td>\n",
       "        <td>0</td>\n",
       "        <td>901</td>\n",
       "        <td>3544</td>\n",
       "        <td>600</td>\n",
       "        <td>8290</td>\n",
       "        <td>20026</td>\n",
       "        <td>19883</td>\n",
       "        <td>Kisumu</td>\n",
       "    </tr>\n",
       "    <tr>\n",
       "        <td>17</td>\n",
       "        <td>0</td>\n",
       "        <td>409</td>\n",
       "        <td>484</td>\n",
       "        <td>757</td>\n",
       "        <td>0</td>\n",
       "        <td>1602</td>\n",
       "        <td>779</td>\n",
       "        <td>854</td>\n",
       "        <td>334</td>\n",
       "        <td>4403</td>\n",
       "        <td>5219</td>\n",
       "        <td>Kitui</td>\n",
       "    </tr>\n",
       "    <tr>\n",
       "        <td>18</td>\n",
       "        <td>0</td>\n",
       "        <td>773</td>\n",
       "        <td>1241</td>\n",
       "        <td>629</td>\n",
       "        <td>0</td>\n",
       "        <td>1692</td>\n",
       "        <td>4294</td>\n",
       "        <td>544</td>\n",
       "        <td>1658</td>\n",
       "        <td>8503</td>\n",
       "        <td>10831</td>\n",
       "        <td>Kwale</td>\n",
       "    </tr>\n",
       "    <tr>\n",
       "        <td>19</td>\n",
       "        <td>0</td>\n",
       "        <td>0</td>\n",
       "        <td>825</td>\n",
       "        <td>0</td>\n",
       "        <td>0</td>\n",
       "        <td>1000</td>\n",
       "        <td>0</td>\n",
       "        <td>0</td>\n",
       "        <td>0</td>\n",
       "        <td>1825</td>\n",
       "        <td>1825</td>\n",
       "        <td>Laikipia</td>\n",
       "    </tr>\n",
       "    <tr>\n",
       "        <td>20</td>\n",
       "        <td>0</td>\n",
       "        <td>0</td>\n",
       "        <td>0</td>\n",
       "        <td>0</td>\n",
       "        <td>0</td>\n",
       "        <td>136</td>\n",
       "        <td>45</td>\n",
       "        <td>15</td>\n",
       "        <td>342</td>\n",
       "        <td>524</td>\n",
       "        <td>538</td>\n",
       "        <td>Lamu</td>\n",
       "    </tr>\n",
       "    <tr>\n",
       "        <td>21</td>\n",
       "        <td>0</td>\n",
       "        <td>0</td>\n",
       "        <td>2956</td>\n",
       "        <td>0</td>\n",
       "        <td>0</td>\n",
       "        <td>2416</td>\n",
       "        <td>4410</td>\n",
       "        <td>4222</td>\n",
       "        <td>13818</td>\n",
       "        <td>23460</td>\n",
       "        <td>27822</td>\n",
       "        <td>Machakos</td>\n",
       "    </tr>\n",
       "    <tr>\n",
       "        <td>22</td>\n",
       "        <td>0</td>\n",
       "        <td>0</td>\n",
       "        <td>2584</td>\n",
       "        <td>4874</td>\n",
       "        <td>727</td>\n",
       "        <td>1423</td>\n",
       "        <td>3048</td>\n",
       "        <td>1686</td>\n",
       "        <td>4719</td>\n",
       "        <td>15475</td>\n",
       "        <td>19061</td>\n",
       "        <td>Makueni</td>\n",
       "    </tr>\n",
       "    <tr>\n",
       "        <td>23</td>\n",
       "        <td>0</td>\n",
       "        <td>46</td>\n",
       "        <td>297</td>\n",
       "        <td>468</td>\n",
       "        <td>865</td>\n",
       "        <td>394</td>\n",
       "        <td>989</td>\n",
       "        <td>307</td>\n",
       "        <td>364</td>\n",
       "        <td>3343</td>\n",
       "        <td>3730</td>\n",
       "        <td>Mandera</td>\n",
       "    </tr>\n",
       "    <tr>\n",
       "        <td>24</td>\n",
       "        <td>58</td>\n",
       "        <td>381</td>\n",
       "        <td>636</td>\n",
       "        <td>338</td>\n",
       "        <td>739</td>\n",
       "        <td>377</td>\n",
       "        <td>456</td>\n",
       "        <td>939</td>\n",
       "        <td>719</td>\n",
       "        <td>3931</td>\n",
       "        <td>4585</td>\n",
       "        <td>Marsabit</td>\n",
       "    </tr>\n",
       "    <tr>\n",
       "        <td>25</td>\n",
       "        <td>0</td>\n",
       "        <td>0</td>\n",
       "        <td>6650</td>\n",
       "        <td>0</td>\n",
       "        <td>0</td>\n",
       "        <td>2223</td>\n",
       "        <td>2357</td>\n",
       "        <td>766</td>\n",
       "        <td>10963</td>\n",
       "        <td>19166</td>\n",
       "        <td>22959</td>\n",
       "        <td>Meru</td>\n",
       "    </tr>\n",
       "    <tr>\n",
       "        <td>26</td>\n",
       "        <td>921</td>\n",
       "        <td>1059</td>\n",
       "        <td>4515</td>\n",
       "        <td>215</td>\n",
       "        <td>614</td>\n",
       "        <td>0</td>\n",
       "        <td>1320</td>\n",
       "        <td>2365</td>\n",
       "        <td>4623</td>\n",
       "        <td>15359</td>\n",
       "        <td>14711</td>\n",
       "        <td>Migori</td>\n",
       "    </tr>\n",
       "    <tr>\n",
       "        <td>27</td>\n",
       "        <td>0</td>\n",
       "        <td>0</td>\n",
       "        <td>503</td>\n",
       "        <td>1326</td>\n",
       "        <td>0</td>\n",
       "        <td>54</td>\n",
       "        <td>909</td>\n",
       "        <td>1396</td>\n",
       "        <td>1223</td>\n",
       "        <td>5413</td>\n",
       "        <td>5411</td>\n",
       "        <td>Mombasa</td>\n",
       "    </tr>\n",
       "    <tr>\n",
       "        <td>28</td>\n",
       "        <td>0</td>\n",
       "        <td>0</td>\n",
       "        <td>1404</td>\n",
       "        <td>0</td>\n",
       "        <td>1464</td>\n",
       "        <td>3524</td>\n",
       "        <td>1727</td>\n",
       "        <td>859</td>\n",
       "        <td>1319</td>\n",
       "        <td>8512</td>\n",
       "        <td>10297</td>\n",
       "        <td>Murang&#x27;a</td>\n",
       "    </tr>\n",
       "    <tr>\n",
       "        <td>29</td>\n",
       "        <td>0</td>\n",
       "        <td>1881</td>\n",
       "        <td>3046</td>\n",
       "        <td>0</td>\n",
       "        <td>2613</td>\n",
       "        <td>1135</td>\n",
       "        <td>4421</td>\n",
       "        <td>164</td>\n",
       "        <td>2822</td>\n",
       "        <td>14936</td>\n",
       "        <td>16082</td>\n",
       "        <td>Nairobi</td>\n",
       "    </tr>\n",
       "    <tr>\n",
       "        <td>30</td>\n",
       "        <td>86</td>\n",
       "        <td>0</td>\n",
       "        <td>11878</td>\n",
       "        <td>0</td>\n",
       "        <td>0</td>\n",
       "        <td>1814</td>\n",
       "        <td>7256</td>\n",
       "        <td>2742</td>\n",
       "        <td>3390</td>\n",
       "        <td>21598</td>\n",
       "        <td>27080</td>\n",
       "        <td>Nakuru</td>\n",
       "    </tr>\n",
       "    <tr>\n",
       "        <td>31</td>\n",
       "        <td>0</td>\n",
       "        <td>1049</td>\n",
       "        <td>2963</td>\n",
       "        <td>807</td>\n",
       "        <td>1049</td>\n",
       "        <td>0</td>\n",
       "        <td>0</td>\n",
       "        <td>0</td>\n",
       "        <td>5661</td>\n",
       "        <td>11530</td>\n",
       "        <td>11529</td>\n",
       "        <td>Nandi</td>\n",
       "    </tr>\n",
       "    <tr>\n",
       "        <td>32</td>\n",
       "        <td>431</td>\n",
       "        <td>47</td>\n",
       "        <td>902</td>\n",
       "        <td>199</td>\n",
       "        <td>974</td>\n",
       "        <td>1780</td>\n",
       "        <td>1892</td>\n",
       "        <td>2595</td>\n",
       "        <td>1149</td>\n",
       "        <td>7986</td>\n",
       "        <td>9538</td>\n",
       "        <td>Narok</td>\n",
       "    </tr>\n",
       "    <tr>\n",
       "        <td>33</td>\n",
       "        <td>0</td>\n",
       "        <td>0</td>\n",
       "        <td>997</td>\n",
       "        <td>0</td>\n",
       "        <td>2373</td>\n",
       "        <td>2576</td>\n",
       "        <td>0</td>\n",
       "        <td>0</td>\n",
       "        <td>0</td>\n",
       "        <td>4727</td>\n",
       "        <td>5946</td>\n",
       "        <td>Nyamira</td>\n",
       "    </tr>\n",
       "    <tr>\n",
       "        <td>34</td>\n",
       "        <td>502</td>\n",
       "        <td>0</td>\n",
       "        <td>680</td>\n",
       "        <td>0</td>\n",
       "        <td>661</td>\n",
       "        <td>0</td>\n",
       "        <td>526</td>\n",
       "        <td>0</td>\n",
       "        <td>0</td>\n",
       "        <td>2369</td>\n",
       "        <td>1867</td>\n",
       "        <td>Nyandarua</td>\n",
       "    </tr>\n",
       "    <tr>\n",
       "        <td>35</td>\n",
       "        <td>0</td>\n",
       "        <td>385</td>\n",
       "        <td>985</td>\n",
       "        <td>385</td>\n",
       "        <td>600</td>\n",
       "        <td>234</td>\n",
       "        <td>787</td>\n",
       "        <td>0</td>\n",
       "        <td>0</td>\n",
       "        <td>2392</td>\n",
       "        <td>3376</td>\n",
       "        <td>Nyeri</td>\n",
       "    </tr>\n",
       "    <tr>\n",
       "        <td>36</td>\n",
       "        <td>298</td>\n",
       "        <td>257</td>\n",
       "        <td>813</td>\n",
       "        <td>566</td>\n",
       "        <td>265</td>\n",
       "        <td>187</td>\n",
       "        <td>182</td>\n",
       "        <td>0</td>\n",
       "        <td>0</td>\n",
       "        <td>2574</td>\n",
       "        <td>2270</td>\n",
       "        <td>Samburu</td>\n",
       "    </tr>\n",
       "    <tr>\n",
       "        <td>37</td>\n",
       "        <td>0</td>\n",
       "        <td>0</td>\n",
       "        <td>1406</td>\n",
       "        <td>1846</td>\n",
       "        <td>0</td>\n",
       "        <td>357</td>\n",
       "        <td>910</td>\n",
       "        <td>627</td>\n",
       "        <td>1481</td>\n",
       "        <td>6279</td>\n",
       "        <td>6627</td>\n",
       "        <td>Siaya</td>\n",
       "    </tr>\n",
       "    <tr>\n",
       "        <td>38</td>\n",
       "        <td>0</td>\n",
       "        <td>137</td>\n",
       "        <td>571</td>\n",
       "        <td>0</td>\n",
       "        <td>0</td>\n",
       "        <td>493</td>\n",
       "        <td>3082</td>\n",
       "        <td>756</td>\n",
       "        <td>218</td>\n",
       "        <td>3709</td>\n",
       "        <td>5257</td>\n",
       "        <td>Taita Taveta</td>\n",
       "    </tr>\n",
       "    <tr>\n",
       "        <td>39</td>\n",
       "        <td>0</td>\n",
       "        <td>0</td>\n",
       "        <td>1587</td>\n",
       "        <td>784</td>\n",
       "        <td>599</td>\n",
       "        <td>270</td>\n",
       "        <td>1206</td>\n",
       "        <td>340</td>\n",
       "        <td>299</td>\n",
       "        <td>3699</td>\n",
       "        <td>5085</td>\n",
       "        <td>Tana River</td>\n",
       "    </tr>\n",
       "    <tr>\n",
       "        <td>40</td>\n",
       "        <td>0</td>\n",
       "        <td>0</td>\n",
       "        <td>0</td>\n",
       "        <td>0</td>\n",
       "        <td>123</td>\n",
       "        <td>123</td>\n",
       "        <td>173</td>\n",
       "        <td>0</td>\n",
       "        <td>123</td>\n",
       "        <td>420</td>\n",
       "        <td>542</td>\n",
       "        <td>Tharaka Nithi</td>\n",
       "    </tr>\n",
       "    <tr>\n",
       "        <td>41</td>\n",
       "        <td>0</td>\n",
       "        <td>0</td>\n",
       "        <td>0</td>\n",
       "        <td>932</td>\n",
       "        <td>0</td>\n",
       "        <td>0</td>\n",
       "        <td>1691</td>\n",
       "        <td>0</td>\n",
       "        <td>5627</td>\n",
       "        <td>8251</td>\n",
       "        <td>8250</td>\n",
       "        <td>Trans Nzoia</td>\n",
       "    </tr>\n",
       "    <tr>\n",
       "        <td>42</td>\n",
       "        <td>0</td>\n",
       "        <td>0</td>\n",
       "        <td>0</td>\n",
       "        <td>615</td>\n",
       "        <td>135</td>\n",
       "        <td>0</td>\n",
       "        <td>0</td>\n",
       "        <td>1597</td>\n",
       "        <td>0</td>\n",
       "        <td>1733</td>\n",
       "        <td>2347</td>\n",
       "        <td>Turkana</td>\n",
       "    </tr>\n",
       "    <tr>\n",
       "        <td>43</td>\n",
       "        <td>0</td>\n",
       "        <td>0</td>\n",
       "        <td>1726</td>\n",
       "        <td>0</td>\n",
       "        <td>0</td>\n",
       "        <td>0</td>\n",
       "        <td>2533</td>\n",
       "        <td>668</td>\n",
       "        <td>5392</td>\n",
       "        <td>9281</td>\n",
       "        <td>10319</td>\n",
       "        <td>Uasin Gishu</td>\n",
       "    </tr>\n",
       "    <tr>\n",
       "        <td>44</td>\n",
       "        <td>0</td>\n",
       "        <td>0</td>\n",
       "        <td>7094</td>\n",
       "        <td>4627</td>\n",
       "        <td>2983</td>\n",
       "        <td>258</td>\n",
       "        <td>1879</td>\n",
       "        <td>0</td>\n",
       "        <td>6318</td>\n",
       "        <td>23490</td>\n",
       "        <td>23159</td>\n",
       "        <td>Vihiga</td>\n",
       "    </tr>\n",
       "    <tr>\n",
       "        <td>45</td>\n",
       "        <td>120</td>\n",
       "        <td>482</td>\n",
       "        <td>4684</td>\n",
       "        <td>742</td>\n",
       "        <td>742</td>\n",
       "        <td>1651</td>\n",
       "        <td>1178</td>\n",
       "        <td>1465</td>\n",
       "        <td>0</td>\n",
       "        <td>9276</td>\n",
       "        <td>10944</td>\n",
       "        <td>Wajir</td>\n",
       "    </tr>\n",
       "    <tr>\n",
       "        <td>46</td>\n",
       "        <td>0</td>\n",
       "        <td>682</td>\n",
       "        <td>1437</td>\n",
       "        <td>1028</td>\n",
       "        <td>0</td>\n",
       "        <td>0</td>\n",
       "        <td>0</td>\n",
       "        <td>1506</td>\n",
       "        <td>614</td>\n",
       "        <td>4874</td>\n",
       "        <td>5267</td>\n",
       "        <td>West Pokot</td>\n",
       "    </tr>\n",
       "</table>"
      ],
      "text/plain": [
       "[(0, 709, 182, 2012, 169, 65, 247, 807, 3529, 709, 6512, 7720, 'Baringo'),\n",
       " (1, 0, 0, 1909, 653, 529, 529, 928, 19, 2530, 6538, 7097, 'Bomet'),\n",
       " (2, 1619, 0, 6479, 0, 302, 2739, 1672, 0, 2884, 13170, 14076, 'Bungoma'),\n",
       " (3, 0, 0, 951, 818, 306, 2362, 319, 985, 2089, 6655, 7830, 'Busia'),\n",
       " (4, 0, 0, 1141, 0, 1285, 0, 719, 453, 266, 3599, 3864, 'Elgeyo Marakwet'),\n",
       " (5, 0, 0, 3464, 0, 0, 188, 188, 157, 2628, 6287, 6625, 'Embu'),\n",
       " (6, 0, 691, 0, 0, 0, 0, 210, 210, 961, 1864, 2072, 'Garissa'),\n",
       " (7, 497, 0, 4952, 1587, 1492, 1232, 2677, 2132, 11445, 23696, 25517, 'Homa Bay'),\n",
       " (8, 299, 71, 702, 831, 277, 0, 0, 43, 426, 2154, 2350, 'Isiolo'),\n",
       " (9, 0, 0, 874, 617, 0, 0, 897, 0, 1478, 3250, 3866, 'Kajiado'),\n",
       " (10, 274, 0, 8268, 1867, 137, 1318, 988, 1730, 14201, 27468, 28509, 'Kakamega'),\n",
       " (11, 0, 0, 0, 146, 0, 0, 0, 663, 2249, 3055, 3058, 'Kericho'),\n",
       " (12, 0, 0, 0, 1020, 0, 0, 7140, 767, 1171, 10099, 10098, 'Kiambu'),\n",
       " (13, 174, 0, 2483, 1273, 965, 496, 2050, 692, 174, 6996, 8133, 'Kilifi'),\n",
       " (14, 0, 0, 105, 0, 0, 0, 1675, 847, 0, 2522, 2627, 'Kirinyaga'),\n",
       " (15, 0, 635, 673, 1222, 982, 635, 2127, 1059, 2291, 9627, 9624, 'Kisii'),\n",
       " (16, 1521, 0, 6548, 0, 0, 901, 3544, 600, 8290, 20026, 19883, 'Kisumu'),\n",
       " (17, 0, 409, 484, 757, 0, 1602, 779, 854, 334, 4403, 5219, 'Kitui'),\n",
       " (18, 0, 773, 1241, 629, 0, 1692, 4294, 544, 1658, 8503, 10831, 'Kwale'),\n",
       " (19, 0, 0, 825, 0, 0, 1000, 0, 0, 0, 1825, 1825, 'Laikipia'),\n",
       " (20, 0, 0, 0, 0, 0, 136, 45, 15, 342, 524, 538, 'Lamu'),\n",
       " (21, 0, 0, 2956, 0, 0, 2416, 4410, 4222, 13818, 23460, 27822, 'Machakos'),\n",
       " (22, 0, 0, 2584, 4874, 727, 1423, 3048, 1686, 4719, 15475, 19061, 'Makueni'),\n",
       " (23, 0, 46, 297, 468, 865, 394, 989, 307, 364, 3343, 3730, 'Mandera'),\n",
       " (24, 58, 381, 636, 338, 739, 377, 456, 939, 719, 3931, 4585, 'Marsabit'),\n",
       " (25, 0, 0, 6650, 0, 0, 2223, 2357, 766, 10963, 19166, 22959, 'Meru'),\n",
       " (26, 921, 1059, 4515, 215, 614, 0, 1320, 2365, 4623, 15359, 14711, 'Migori'),\n",
       " (27, 0, 0, 503, 1326, 0, 54, 909, 1396, 1223, 5413, 5411, 'Mombasa'),\n",
       " (28, 0, 0, 1404, 0, 1464, 3524, 1727, 859, 1319, 8512, 10297, \"Murang'a\"),\n",
       " (29, 0, 1881, 3046, 0, 2613, 1135, 4421, 164, 2822, 14936, 16082, 'Nairobi'),\n",
       " (30, 86, 0, 11878, 0, 0, 1814, 7256, 2742, 3390, 21598, 27080, 'Nakuru'),\n",
       " (31, 0, 1049, 2963, 807, 1049, 0, 0, 0, 5661, 11530, 11529, 'Nandi'),\n",
       " (32, 431, 47, 902, 199, 974, 1780, 1892, 2595, 1149, 7986, 9538, 'Narok'),\n",
       " (33, 0, 0, 997, 0, 2373, 2576, 0, 0, 0, 4727, 5946, 'Nyamira'),\n",
       " (34, 502, 0, 680, 0, 661, 0, 526, 0, 0, 2369, 1867, 'Nyandarua'),\n",
       " (35, 0, 385, 985, 385, 600, 234, 787, 0, 0, 2392, 3376, 'Nyeri'),\n",
       " (36, 298, 257, 813, 566, 265, 187, 182, 0, 0, 2574, 2270, 'Samburu'),\n",
       " (37, 0, 0, 1406, 1846, 0, 357, 910, 627, 1481, 6279, 6627, 'Siaya'),\n",
       " (38, 0, 137, 571, 0, 0, 493, 3082, 756, 218, 3709, 5257, 'Taita Taveta'),\n",
       " (39, 0, 0, 1587, 784, 599, 270, 1206, 340, 299, 3699, 5085, 'Tana River'),\n",
       " (40, 0, 0, 0, 0, 123, 123, 173, 0, 123, 420, 542, 'Tharaka Nithi'),\n",
       " (41, 0, 0, 0, 932, 0, 0, 1691, 0, 5627, 8251, 8250, 'Trans Nzoia'),\n",
       " (42, 0, 0, 0, 615, 135, 0, 0, 1597, 0, 1733, 2347, 'Turkana'),\n",
       " (43, 0, 0, 1726, 0, 0, 0, 2533, 668, 5392, 9281, 10319, 'Uasin Gishu'),\n",
       " (44, 0, 0, 7094, 4627, 2983, 258, 1879, 0, 6318, 23490, 23159, 'Vihiga'),\n",
       " (45, 120, 482, 4684, 742, 742, 1651, 1178, 1465, 0, 9276, 10944, 'Wajir'),\n",
       " (46, 0, 682, 1437, 1028, 0, 0, 0, 1506, 614, 4874, 5267, 'West Pokot')]"
      ]
     },
     "execution_count": 24,
     "metadata": {},
     "output_type": "execute_result"
    }
   ],
   "source": [
    "# Challenge 10\n",
    "# Which disability was the most registered across all the counties?\n",
    "# \n",
    "%sql SELECT * FROM Population;"
   ]
  },
  {
   "cell_type": "code",
   "execution_count": 23,
   "metadata": {},
   "outputs": [
    {
     "name": "stdout",
     "output_type": "stream",
     "text": [
      " * sqlite://\n",
      "(sqlite3.OperationalError) table tot already exists\n",
      "[SQL: CREATE TABLE tot AS SELECT MAX(SUM(`Missing_Hand`), SUM(`Missing_Foot`), SUM(`Lame`), SUM(`Blind`), SUM(`Deaf`), SUM(`Dumb`), SUM(`Mental`), SUM(`Paralyzed`)) FROM Population;]\n",
      "(Background on this error at: http://sqlalche.me/e/e3q8)\n",
      " * sqlite://\n",
      "Done.\n"
     ]
    },
    {
     "data": {
      "text/html": [
       "<table>\n",
       "    <tr>\n",
       "        <th>SUM(`Missing_Hand`)</th>\n",
       "        <th>SUM(`Missing_Foot`)</th>\n",
       "        <th>SUM(`Lame`)</th>\n",
       "        <th>SUM(`Blind`)</th>\n",
       "        <th>SUM(`Deaf`)</th>\n",
       "        <th>SUM(`Dumb`)</th>\n",
       "        <th>SUM(`Mental`)</th>\n",
       "        <th>SUM(`Paralyzed`)</th>\n",
       "    </tr>\n",
       "    <tr>\n",
       "        <td>7509</td>\n",
       "        <td>9167</td>\n",
       "        <td>103425</td>\n",
       "        <td>31341</td>\n",
       "        <td>23866</td>\n",
       "        <td>36366</td>\n",
       "        <td>73991</td>\n",
       "        <td>40299</td>\n",
       "    </tr>\n",
       "</table>"
      ],
      "text/plain": [
       "[(7509, 9167, 103425, 31341, 23866, 36366, 73991, 40299)]"
      ]
     },
     "execution_count": 23,
     "metadata": {},
     "output_type": "execute_result"
    }
   ],
   "source": [
    "%sql CREATE TABLE tot AS SELECT MAX(SUM(`Missing_Hand`) AS `Missing_Hand`, SUM(`Missing_Foot`) AS `Missing_Foot`, SUM(`Lame`) AS `Lame`, SUM(`Blind`), SUM(`Deaf`), SUM(`Dumb`), SUM(`Mental`), SUM(`Paralyzed`)) FROM Population;\n",
    "%sql "
   ]
  },
  {
   "cell_type": "code",
   "execution_count": 0,
   "metadata": {
    "colab": {},
    "colab_type": "code",
    "id": "8xkStdjdXS3w"
   },
   "outputs": [],
   "source": [
    "# Challenge 11\n",
    "# Which disability was the least registered across all the counties?\n",
    "#\n",
    "OUR CODE GOES HERE"
   ]
  },
  {
   "cell_type": "code",
   "execution_count": 0,
   "metadata": {
    "colab": {},
    "colab_type": "code",
    "id": "rgVsXH_5XVCh"
   },
   "outputs": [],
   "source": [
    "# Challenge 12\n",
    "# What was the average no. of registered persons with a disability?\n",
    "#\n"
   ]
  },
  {
   "cell_type": "code",
   "execution_count": 90,
   "metadata": {
    "colab": {},
    "colab_type": "code",
    "id": "XvvFWhuDXXeP"
   },
   "outputs": [
    {
     "name": "stdout",
     "output_type": "stream",
     "text": [
      " * sqlite://\n",
      "Done.\n"
     ]
    },
    {
     "data": {
      "text/html": [
       "<table>\n",
       "    <tr>\n",
       "        <th>County</th>\n",
       "        <th>Total_Count</th>\n",
       "    </tr>\n",
       "    <tr>\n",
       "        <td>Tharaka Nithi</td>\n",
       "        <td>420</td>\n",
       "    </tr>\n",
       "    <tr>\n",
       "        <td>Lamu</td>\n",
       "        <td>524</td>\n",
       "    </tr>\n",
       "    <tr>\n",
       "        <td>Turkana</td>\n",
       "        <td>1733</td>\n",
       "    </tr>\n",
       "</table>"
      ],
      "text/plain": [
       "[('Tharaka Nithi', 420), ('Lamu', 524), ('Turkana', 1733)]"
      ]
     },
     "execution_count": 90,
     "metadata": {},
     "output_type": "execute_result"
    }
   ],
   "source": [
    "# Challenge 13\n",
    "# Which three counties had least registered persons with disabilities?\n",
    "#\n",
    "%sql SELECT `County`, `Total_Count` FROM Population ORDER BY `Total_Count` ASC LIMIT 3;"
   ]
  },
  {
   "cell_type": "code",
   "execution_count": 95,
   "metadata": {
    "colab": {},
    "colab_type": "code",
    "id": "q1iq02FuXc2R"
   },
   "outputs": [
    {
     "name": "stdout",
     "output_type": "stream",
     "text": [
      " * sqlite://\n",
      "Done.\n"
     ]
    },
    {
     "data": {
      "text/html": [
       "<table>\n",
       "    <tr>\n",
       "        <th>SUM(`Total_Count`)</th>\n",
       "    </tr>\n",
       "    <tr>\n",
       "        <td>402556</td>\n",
       "    </tr>\n",
       "</table>"
      ],
      "text/plain": [
       "[(402556,)]"
      ]
     },
     "execution_count": 95,
     "metadata": {},
     "output_type": "execute_result"
    }
   ],
   "source": [
    "# Challenge 14\n",
    "# What was the total no of registered persons with a disability across all counties?\n",
    "#\n",
    "%sql SELECT SUM(`Total_Count`) FROM Population;"
   ]
  },
  {
   "cell_type": "code",
   "execution_count": 94,
   "metadata": {
    "colab": {},
    "colab_type": "code",
    "id": "drAWpxBZXhcF"
   },
   "outputs": [
    {
     "name": "stdout",
     "output_type": "stream",
     "text": [
      " * sqlite://\n",
      "Done.\n"
     ]
    },
    {
     "data": {
      "text/html": [
       "<table>\n",
       "    <tr>\n",
       "        <th>County</th>\n",
       "        <th>Total_Count</th>\n",
       "    </tr>\n",
       "    <tr>\n",
       "        <td>Kakamega</td>\n",
       "        <td>27468</td>\n",
       "    </tr>\n",
       "    <tr>\n",
       "        <td>Homa Bay</td>\n",
       "        <td>23696</td>\n",
       "    </tr>\n",
       "    <tr>\n",
       "        <td>Vihiga</td>\n",
       "        <td>23490</td>\n",
       "    </tr>\n",
       "</table>"
      ],
      "text/plain": [
       "[('Kakamega', 27468), ('Homa Bay', 23696), ('Vihiga', 23490)]"
      ]
     },
     "execution_count": 94,
     "metadata": {},
     "output_type": "execute_result"
    }
   ],
   "source": [
    "# Challenge 15 \n",
    "# Which top 3 counties has the highest no. of registered persons with a disability?\n",
    "# \n",
    "%sql SELECT `County`, `Total_Count` FROM Population ORDER BY `Total_Count` DESC LIMIT 3;"
   ]
  },
  {
   "cell_type": "markdown",
   "metadata": {},
   "source": [
    "<h3>Question To Review: </h3>6, "
   ]
  },
  {
   "cell_type": "code",
   "execution_count": null,
   "metadata": {},
   "outputs": [],
   "source": []
  }
 ],
 "metadata": {
  "colab": {
   "collapsed_sections": [
    "VSnOCZ5-IPCi",
    "HToJZ2gBPawZ",
    "IICLGbvBRYHq",
    "RAVzK5O6IR8v",
    "NicC8P9LMjvO"
   ],
   "name": "SQL Data Analysis: Population by Type of Disability",
   "provenance": [],
   "toc_visible": true
  },
  "kernelspec": {
   "display_name": "Python 3",
   "language": "python",
   "name": "python3"
  },
  "language_info": {
   "codemirror_mode": {
    "name": "ipython",
    "version": 3
   },
   "file_extension": ".py",
   "mimetype": "text/x-python",
   "name": "python",
   "nbconvert_exporter": "python",
   "pygments_lexer": "ipython3",
   "version": "3.7.6"
  }
 },
 "nbformat": 4,
 "nbformat_minor": 1
}
