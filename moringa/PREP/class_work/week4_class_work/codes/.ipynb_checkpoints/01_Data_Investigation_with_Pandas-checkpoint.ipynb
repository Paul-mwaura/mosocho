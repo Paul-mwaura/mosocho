{
 "cells": [
  {
   "cell_type": "markdown",
   "metadata": {
    "colab_type": "text",
    "id": "B-ZF3yPCWGPf"
   },
   "source": [
    "<font color=\"green\">*To start working on this notebook, or any other notebook that we will use in the Moringa Data Science Course, we will need to save our own copy of it. We can do this by clicking File > Save a Copy in Drive. We will then be able to make edits to our own copy of this notebook.*</font>"
   ]
  },
  {
   "cell_type": "markdown",
   "metadata": {
    "colab_type": "text",
    "id": "m0tgCkvzPLEa"
   },
   "source": [
    "# Data Investigation with Pandas"
   ]
  },
  {
   "cell_type": "markdown",
   "metadata": {
    "colab_type": "text",
    "id": "VSnOCZ5-IPCi"
   },
   "source": [
    "## 1.0 Importing our Libraries"
   ]
  },
  {
   "cell_type": "code",
   "execution_count": 1,
   "metadata": {
    "colab": {},
    "colab_type": "code",
    "id": "3r-KDLvrO44a"
   },
   "outputs": [],
   "source": [
    "# Importing the libraries we will need \n",
    "\n",
    "# Importing the pandas library\n",
    "# \n",
    "import pandas as pd\n",
    "\n",
    "# Importing the numpy library\n",
    "#\n",
    "import numpy as np"
   ]
  },
  {
   "cell_type": "markdown",
   "metadata": {
    "colab_type": "text",
    "id": "HToJZ2gBPawZ"
   },
   "source": [
    "## 1.1 Reading the Dataset from our CSV file\n",
    "\n"
   ]
  },
  {
   "cell_type": "markdown",
   "metadata": {
    "colab_type": "text",
    "id": "LBUr8VUXQX-K"
   },
   "source": [
    "\n",
    "\n",
    "The dataset we will use contains information about the 2009 Census - The Rural Urban Population by Age, Sex and District.\n",
    "\n",
    "\n",
    "*   Dataset link for download or access: [Link](https://drive.google.com/open?id=1pc9ZLFGsosdWBk1lI29ADIqRtCvD_FBe)\n",
    "\n",
    "\n",
    "\n"
   ]
  },
  {
   "cell_type": "code",
   "execution_count": 2,
   "metadata": {
    "colab": {},
    "colab_type": "code",
    "id": "1acwmZanRNHs"
   },
   "outputs": [
    {
     "data": {
      "text/html": [
       "<div>\n",
       "<style scoped>\n",
       "    .dataframe tbody tr th:only-of-type {\n",
       "        vertical-align: middle;\n",
       "    }\n",
       "\n",
       "    .dataframe tbody tr th {\n",
       "        vertical-align: top;\n",
       "    }\n",
       "\n",
       "    .dataframe thead th {\n",
       "        text-align: right;\n",
       "    }\n",
       "</style>\n",
       "<table border=\"1\" class=\"dataframe\">\n",
       "  <thead>\n",
       "    <tr style=\"text-align: right;\">\n",
       "      <th></th>\n",
       "      <th>District</th>\n",
       "      <th>Urban/Rural</th>\n",
       "      <th>Age_years</th>\n",
       "      <th>Male</th>\n",
       "      <th>Female</th>\n",
       "      <th>Total</th>\n",
       "      <th>County</th>\n",
       "      <th>Province</th>\n",
       "      <th>OBJECTID</th>\n",
       "    </tr>\n",
       "  </thead>\n",
       "  <tbody>\n",
       "    <tr>\n",
       "      <th>0</th>\n",
       "      <td>NAIROBI WEST</td>\n",
       "      <td>Urban</td>\n",
       "      <td>0</td>\n",
       "      <td>10126</td>\n",
       "      <td>10116</td>\n",
       "      <td>20242</td>\n",
       "      <td>Nairobi</td>\n",
       "      <td>NAIROBI</td>\n",
       "      <td>0</td>\n",
       "    </tr>\n",
       "    <tr>\n",
       "      <th>1</th>\n",
       "      <td>NAIROBI WEST</td>\n",
       "      <td>Urban</td>\n",
       "      <td>1</td>\n",
       "      <td>8124</td>\n",
       "      <td>7989</td>\n",
       "      <td>16113</td>\n",
       "      <td>Nairobi</td>\n",
       "      <td>NAIROBI</td>\n",
       "      <td>1</td>\n",
       "    </tr>\n",
       "    <tr>\n",
       "      <th>2</th>\n",
       "      <td>NAIROBI WEST</td>\n",
       "      <td>Urban</td>\n",
       "      <td>2</td>\n",
       "      <td>8462</td>\n",
       "      <td>8627</td>\n",
       "      <td>17089</td>\n",
       "      <td>Nairobi</td>\n",
       "      <td>NAIROBI</td>\n",
       "      <td>2</td>\n",
       "    </tr>\n",
       "    <tr>\n",
       "      <th>3</th>\n",
       "      <td>NAIROBI WEST</td>\n",
       "      <td>Urban</td>\n",
       "      <td>3</td>\n",
       "      <td>8334</td>\n",
       "      <td>8420</td>\n",
       "      <td>16754</td>\n",
       "      <td>Nairobi</td>\n",
       "      <td>NAIROBI</td>\n",
       "      <td>3</td>\n",
       "    </tr>\n",
       "    <tr>\n",
       "      <th>4</th>\n",
       "      <td>NAIROBI WEST</td>\n",
       "      <td>Urban</td>\n",
       "      <td>4</td>\n",
       "      <td>7948</td>\n",
       "      <td>7820</td>\n",
       "      <td>15768</td>\n",
       "      <td>Nairobi</td>\n",
       "      <td>NAIROBI</td>\n",
       "      <td>4</td>\n",
       "    </tr>\n",
       "  </tbody>\n",
       "</table>\n",
       "</div>"
      ],
      "text/plain": [
       "       District Urban/Rural Age_years   Male  Female  Total   County Province  \\\n",
       "0  NAIROBI WEST       Urban         0  10126   10116  20242  Nairobi  NAIROBI   \n",
       "1  NAIROBI WEST       Urban         1   8124    7989  16113  Nairobi  NAIROBI   \n",
       "2  NAIROBI WEST       Urban         2   8462    8627  17089  Nairobi  NAIROBI   \n",
       "3  NAIROBI WEST       Urban         3   8334    8420  16754  Nairobi  NAIROBI   \n",
       "4  NAIROBI WEST       Urban         4   7948    7820  15768  Nairobi  NAIROBI   \n",
       "\n",
       "   OBJECTID  \n",
       "0         0  \n",
       "1         1  \n",
       "2         2  \n",
       "3         3  \n",
       "4         4  "
      ]
     },
     "execution_count": 2,
     "metadata": {},
     "output_type": "execute_result"
    }
   ],
   "source": [
    "# Let's read the data from the CSV file and create the dataframe to be used\n",
    "# \n",
    "data_url = 'datasets/Rural_Urban_Population_By_Age_Sex_and_by_District__2009.csv'\n",
    "df = pd.read_csv(data_url)\n",
    "df.head(5)"
   ]
  },
  {
   "cell_type": "markdown",
   "metadata": {
    "colab_type": "text",
    "id": "IICLGbvBRYHq"
   },
   "source": [
    "## 1.2 Previewing our Dataset\n"
   ]
  },
  {
   "cell_type": "code",
   "execution_count": 3,
   "metadata": {
    "colab": {},
    "colab_type": "code",
    "id": "WrwHg-hzR5BY"
   },
   "outputs": [
    {
     "data": {
      "text/html": [
       "<div>\n",
       "<style scoped>\n",
       "    .dataframe tbody tr th:only-of-type {\n",
       "        vertical-align: middle;\n",
       "    }\n",
       "\n",
       "    .dataframe tbody tr th {\n",
       "        vertical-align: top;\n",
       "    }\n",
       "\n",
       "    .dataframe thead th {\n",
       "        text-align: right;\n",
       "    }\n",
       "</style>\n",
       "<table border=\"1\" class=\"dataframe\">\n",
       "  <thead>\n",
       "    <tr style=\"text-align: right;\">\n",
       "      <th></th>\n",
       "      <th>District</th>\n",
       "      <th>Urban/Rural</th>\n",
       "      <th>Age_years</th>\n",
       "      <th>Male</th>\n",
       "      <th>Female</th>\n",
       "      <th>Total</th>\n",
       "      <th>County</th>\n",
       "      <th>Province</th>\n",
       "      <th>OBJECTID</th>\n",
       "    </tr>\n",
       "  </thead>\n",
       "  <tbody>\n",
       "    <tr>\n",
       "      <th>0</th>\n",
       "      <td>NAIROBI WEST</td>\n",
       "      <td>Urban</td>\n",
       "      <td>0</td>\n",
       "      <td>10126</td>\n",
       "      <td>10116</td>\n",
       "      <td>20242</td>\n",
       "      <td>Nairobi</td>\n",
       "      <td>NAIROBI</td>\n",
       "      <td>0</td>\n",
       "    </tr>\n",
       "    <tr>\n",
       "      <th>1</th>\n",
       "      <td>NAIROBI WEST</td>\n",
       "      <td>Urban</td>\n",
       "      <td>1</td>\n",
       "      <td>8124</td>\n",
       "      <td>7989</td>\n",
       "      <td>16113</td>\n",
       "      <td>Nairobi</td>\n",
       "      <td>NAIROBI</td>\n",
       "      <td>1</td>\n",
       "    </tr>\n",
       "    <tr>\n",
       "      <th>2</th>\n",
       "      <td>NAIROBI WEST</td>\n",
       "      <td>Urban</td>\n",
       "      <td>2</td>\n",
       "      <td>8462</td>\n",
       "      <td>8627</td>\n",
       "      <td>17089</td>\n",
       "      <td>Nairobi</td>\n",
       "      <td>NAIROBI</td>\n",
       "      <td>2</td>\n",
       "    </tr>\n",
       "    <tr>\n",
       "      <th>3</th>\n",
       "      <td>NAIROBI WEST</td>\n",
       "      <td>Urban</td>\n",
       "      <td>3</td>\n",
       "      <td>8334</td>\n",
       "      <td>8420</td>\n",
       "      <td>16754</td>\n",
       "      <td>Nairobi</td>\n",
       "      <td>NAIROBI</td>\n",
       "      <td>3</td>\n",
       "    </tr>\n",
       "    <tr>\n",
       "      <th>4</th>\n",
       "      <td>NAIROBI WEST</td>\n",
       "      <td>Urban</td>\n",
       "      <td>4</td>\n",
       "      <td>7948</td>\n",
       "      <td>7820</td>\n",
       "      <td>15768</td>\n",
       "      <td>Nairobi</td>\n",
       "      <td>NAIROBI</td>\n",
       "      <td>4</td>\n",
       "    </tr>\n",
       "    <tr>\n",
       "      <th>5</th>\n",
       "      <td>NAIROBI WEST</td>\n",
       "      <td>Urban</td>\n",
       "      <td>5</td>\n",
       "      <td>7547</td>\n",
       "      <td>7660</td>\n",
       "      <td>15207</td>\n",
       "      <td>Nairobi</td>\n",
       "      <td>NAIROBI</td>\n",
       "      <td>5</td>\n",
       "    </tr>\n",
       "    <tr>\n",
       "      <th>6</th>\n",
       "      <td>NAIROBI WEST</td>\n",
       "      <td>Urban</td>\n",
       "      <td>6</td>\n",
       "      <td>6966</td>\n",
       "      <td>7082</td>\n",
       "      <td>14048</td>\n",
       "      <td>Nairobi</td>\n",
       "      <td>NAIROBI</td>\n",
       "      <td>6</td>\n",
       "    </tr>\n",
       "    <tr>\n",
       "      <th>7</th>\n",
       "      <td>NAIROBI WEST</td>\n",
       "      <td>Urban</td>\n",
       "      <td>7</td>\n",
       "      <td>6511</td>\n",
       "      <td>6674</td>\n",
       "      <td>13185</td>\n",
       "      <td>Nairobi</td>\n",
       "      <td>NAIROBI</td>\n",
       "      <td>7</td>\n",
       "    </tr>\n",
       "    <tr>\n",
       "      <th>8</th>\n",
       "      <td>NAIROBI WEST</td>\n",
       "      <td>Urban</td>\n",
       "      <td>8</td>\n",
       "      <td>6171</td>\n",
       "      <td>6489</td>\n",
       "      <td>12660</td>\n",
       "      <td>Nairobi</td>\n",
       "      <td>NAIROBI</td>\n",
       "      <td>8</td>\n",
       "    </tr>\n",
       "    <tr>\n",
       "      <th>9</th>\n",
       "      <td>NAIROBI WEST</td>\n",
       "      <td>Urban</td>\n",
       "      <td>9</td>\n",
       "      <td>6361</td>\n",
       "      <td>6662</td>\n",
       "      <td>13023</td>\n",
       "      <td>Nairobi</td>\n",
       "      <td>NAIROBI</td>\n",
       "      <td>9</td>\n",
       "    </tr>\n",
       "  </tbody>\n",
       "</table>\n",
       "</div>"
      ],
      "text/plain": [
       "       District Urban/Rural Age_years   Male  Female  Total   County Province  \\\n",
       "0  NAIROBI WEST       Urban         0  10126   10116  20242  Nairobi  NAIROBI   \n",
       "1  NAIROBI WEST       Urban         1   8124    7989  16113  Nairobi  NAIROBI   \n",
       "2  NAIROBI WEST       Urban         2   8462    8627  17089  Nairobi  NAIROBI   \n",
       "3  NAIROBI WEST       Urban         3   8334    8420  16754  Nairobi  NAIROBI   \n",
       "4  NAIROBI WEST       Urban         4   7948    7820  15768  Nairobi  NAIROBI   \n",
       "5  NAIROBI WEST       Urban         5   7547    7660  15207  Nairobi  NAIROBI   \n",
       "6  NAIROBI WEST       Urban         6   6966    7082  14048  Nairobi  NAIROBI   \n",
       "7  NAIROBI WEST       Urban         7   6511    6674  13185  Nairobi  NAIROBI   \n",
       "8  NAIROBI WEST       Urban         8   6171    6489  12660  Nairobi  NAIROBI   \n",
       "9  NAIROBI WEST       Urban         9   6361    6662  13023  Nairobi  NAIROBI   \n",
       "\n",
       "   OBJECTID  \n",
       "0         0  \n",
       "1         1  \n",
       "2         2  \n",
       "3         3  \n",
       "4         4  \n",
       "5         5  \n",
       "6         6  \n",
       "7         7  \n",
       "8         8  \n",
       "9         9  "
      ]
     },
     "execution_count": 3,
     "metadata": {},
     "output_type": "execute_result"
    }
   ],
   "source": [
    "# Let's preview the first 10 rows of our data\n",
    "# \n",
    "df.head(10)"
   ]
  },
  {
   "cell_type": "markdown",
   "metadata": {
    "colab_type": "text",
    "id": "RAVzK5O6IR8v"
   },
   "source": [
    "## 1.3 Accessing Information about our Dataset"
   ]
  },
  {
   "cell_type": "code",
   "execution_count": 4,
   "metadata": {
    "colab": {},
    "colab_type": "code",
    "id": "0d2kfemDIYWI"
   },
   "outputs": [
    {
     "name": "stdout",
     "output_type": "stream",
     "text": [
      "<class 'pandas.core.frame.DataFrame'>\n",
      "RangeIndex: 25420 entries, 0 to 25419\n",
      "Data columns (total 9 columns):\n",
      " #   Column       Non-Null Count  Dtype \n",
      "---  ------       --------------  ----- \n",
      " 0   District     25420 non-null  object\n",
      " 1   Urban/Rural  25420 non-null  object\n",
      " 2   Age_years    25420 non-null  object\n",
      " 3   Male         25420 non-null  int64 \n",
      " 4   Female       25420 non-null  int64 \n",
      " 5   Total        25420 non-null  int64 \n",
      " 6   County       25420 non-null  object\n",
      " 7   Province     25420 non-null  object\n",
      " 8   OBJECTID     25420 non-null  int64 \n",
      "dtypes: int64(4), object(5)\n",
      "memory usage: 1.3+ MB\n"
     ]
    }
   ],
   "source": [
    "# We can getting to know more about the dataset by accessing its information \n",
    "#\n",
    "df.info()"
   ]
  },
  {
   "cell_type": "markdown",
   "metadata": {
    "colab_type": "text",
    "id": "NicC8P9LMjvO"
   },
   "source": [
    "## 1.4 Answering Questions"
   ]
  },
  {
   "cell_type": "markdown",
   "metadata": {
    "colab_type": "text",
    "id": "8izhaW7UNYGJ"
   },
   "source": [
    "Let's answer the following questions with our dataset"
   ]
  },
  {
   "cell_type": "code",
   "execution_count": 5,
   "metadata": {
    "colab": {},
    "colab_type": "code",
    "id": "tTOgnXvuMxcn"
   },
   "outputs": [
    {
     "data": {
      "text/plain": [
       "39.51219512195122"
      ]
     },
     "execution_count": 5,
     "metadata": {},
     "output_type": "execute_result"
    }
   ],
   "source": [
    "# Challenge 1\n",
    "# What was the average age of a person of Kenya?\n",
    "#\n",
    "df[df['Age_years'] == '80+'] = '80'\n",
    "df[df['Age_years'] == 'Age NS'] = '0'\n",
    "df[['Age_years', 'Male', 'Female', 'Total', 'OBJECTID']] = df[['Age_years', 'Male', 'Female', 'Total', 'OBJECTID']].apply(pd.to_numeric)\n",
    "mean_age = df['Age_years'].mean()\n",
    "mean_age"
   ]
  },
  {
   "cell_type": "code",
   "execution_count": 6,
   "metadata": {
    "colab": {},
    "colab_type": "code",
    "id": "BNegesaWNvQs"
   },
   "outputs": [
    {
     "data": {
      "text/plain": [
       "755.6355232100708"
      ]
     },
     "execution_count": 6,
     "metadata": {},
     "output_type": "execute_result"
    }
   ],
   "source": [
    "# Challenge 2\n",
    "# What was the average female population in Kenya?\n",
    "#\n",
    "mean_female_population =  df['Female'].mean()\n",
    "mean_female_population"
   ]
  },
  {
   "cell_type": "code",
   "execution_count": 7,
   "metadata": {
    "colab": {},
    "colab_type": "code",
    "id": "7tilTerhNyiP"
   },
   "outputs": [
    {
     "data": {
      "text/plain": [
       "749.2783241542093"
      ]
     },
     "execution_count": 7,
     "metadata": {},
     "output_type": "execute_result"
    }
   ],
   "source": [
    "# Challenge 3\n",
    "# What was the average male population in Kenya?\n",
    "#\n",
    "mean_male_population =  df['Male'].mean()\n",
    "mean_male_population"
   ]
  },
  {
   "cell_type": "code",
   "execution_count": 8,
   "metadata": {
    "colab": {},
    "colab_type": "code",
    "id": "OemJ0HDYOHCq"
   },
   "outputs": [
    {
     "data": {
      "text/plain": [
       "District\n",
       "NAIROBI EAST     1141605\n",
       "NAIROBI NORTH    1057449\n",
       "NAIROBI WEST      682029\n",
       "SIAYA             542587\n",
       "MOLO              536814\n",
       "Name: Total, dtype: int64"
      ]
     },
     "execution_count": 8,
     "metadata": {},
     "output_type": "execute_result"
    }
   ],
   "source": [
    "# Challenge 4\n",
    "# Which 5 districts were the most densely populated Kenya in descending order?\n",
    "#\n",
    "frame = df['Total'].groupby(df['District']).sum()\n",
    "frame.sort_values(ascending=False)[:5]"
   ]
  },
  {
   "cell_type": "code",
   "execution_count": 9,
   "metadata": {
    "colab": {},
    "colab_type": "code",
    "id": "CIxC5arSOLak"
   },
   "outputs": [
    {
     "data": {
      "text/plain": [
       "County\n",
       "Nairobi     3126275\n",
       "Kiambu      1655780\n",
       "Kakamega    1645413\n",
       "Nakuru      1589130\n",
       "Meru        1567945\n",
       "Name: Total, dtype: int64"
      ]
     },
     "execution_count": 9,
     "metadata": {},
     "output_type": "execute_result"
    }
   ],
   "source": [
    "# Challenge 5\n",
    "# Which 5 counties were the most densely populated Counties in descending order?\n",
    "# \n",
    "frame = df['Total'].groupby(df['County']).sum()\n",
    "frame.sort_values(ascending=False)[:5]"
   ]
  },
  {
   "cell_type": "code",
   "execution_count": 10,
   "metadata": {
    "colab": {},
    "colab_type": "code",
    "id": "gSjjnw56OP8O"
   },
   "outputs": [
    {
     "data": {
      "text/plain": [
       "District\n",
       "MARSABIT          45827\n",
       "GARBATULLA        42571\n",
       "LAIKIPIA NORTH    32508\n",
       "80                24800\n",
       "0                     0\n",
       "Name: Total, dtype: int64"
      ]
     },
     "execution_count": 10,
     "metadata": {},
     "output_type": "execute_result"
    }
   ],
   "source": [
    "# Challenge 6\n",
    "# Which 5 districts were the most sparsely populated in descending order?\n",
    "# \n",
    "frame = df['Total'].groupby(df['District']).sum()\n",
    "frame.sort_values(ascending=False)[-5:]"
   ]
  },
  {
   "cell_type": "code",
   "execution_count": 11,
   "metadata": {
    "colab": {},
    "colab_type": "code",
    "id": "UZLYqF7UOTtu"
   },
   "outputs": [
    {
     "data": {
      "text/plain": [
       "County\n",
       "Nairobi    9769.609375\n",
       "Name: Total, dtype: float64"
      ]
     },
     "execution_count": 11,
     "metadata": {},
     "output_type": "execute_result"
    }
   ],
   "source": [
    "# Challenge 7\n",
    "# What was the average population of the the most densely populated county in Kenya?\n",
    "# \n",
    "totals = df['Total'].groupby(df['County']).sum()\n",
    "total = totals.sort_values(ascending=False)\n",
    "value = total[0]\n",
    "\n",
    "count = df['Total'].groupby(df['County']).count()\n",
    "indexed = totals[totals == value].index\n",
    "counting= count[indexed]\n",
    "\n",
    "aver = value/counting\n",
    "aver"
   ]
  },
  {
   "cell_type": "code",
   "execution_count": 12,
   "metadata": {
    "colab": {},
    "colab_type": "code",
    "id": "1qk8wF3MOXDu"
   },
   "outputs": [
    {
     "data": {
      "text/plain": [
       "County\n",
       "0    0.0\n",
       "Name: Total, dtype: float64"
      ]
     },
     "execution_count": 12,
     "metadata": {},
     "output_type": "execute_result"
    }
   ],
   "source": [
    "# Challenge 8\n",
    "# What was the average population of the the most sparsely populated county in Kenya?\n",
    "# \n",
    "totals = df['Total'].groupby(df['County']).sum()\n",
    "total = totals.sort_values(ascending=False)\n",
    "value = total[-1]\n",
    "\n",
    "count = df['Total'].groupby(df['County']).count()\n",
    "indexed = totals[totals == value].index\n",
    "counting= count[indexed]\n",
    "\n",
    "aver = value/counting\n",
    "aver"
   ]
  },
  {
   "cell_type": "code",
   "execution_count": 13,
   "metadata": {
    "colab": {},
    "colab_type": "code",
    "id": "1V21Beok3Rdc"
   },
   "outputs": [
    {
     "data": {
      "text/plain": [
       "737249"
      ]
     },
     "execution_count": 13,
     "metadata": {},
     "output_type": "execute_result"
    }
   ],
   "source": [
    "# Challenge 9\n",
    "# What was the total population of Busia County? \n",
    "# \n",
    "frame = df['Total'].groupby(df['County']).sum()\n",
    "frame['Busia']"
   ]
  },
  {
   "cell_type": "code",
   "execution_count": 14,
   "metadata": {
    "colab": {},
    "colab_type": "code",
    "id": "Vtq7pAI73RTZ"
   },
   "outputs": [
    {
     "name": "stdout",
     "output_type": "stream",
     "text": [
      "Average age of people in Busia County was 39.5\n",
      "The total number of people with age 39 in Busia county is 4914\n"
     ]
    }
   ],
   "source": [
    "# Challenge 10\n",
    "# What was the average age of person in Busia County? How many people of this age were in Busia County?\n",
    "# \n",
    "totals = df['Age_years'].groupby(df['County']).sum()\n",
    "total = totals.sort_values(ascending=False)\n",
    "value = total['Busia']\n",
    "\n",
    "count = df['Total'].groupby(df['County']).count()\n",
    "counting= count['Busia']\n",
    "\n",
    "aver = value/counting\n",
    "print(f'Average age of people in Busia County was {aver}')\n",
    "\n",
    "busia = df[(df['County']== 'Busia') & (df['Age_years']== int(aver))]\n",
    "people = busia['Total'].sum()\n",
    "print(f\"The total number of people with age {int(aver)} in Busia county is {people}\")"
   ]
  },
  {
   "cell_type": "code",
   "execution_count": 15,
   "metadata": {
    "colab": {},
    "colab_type": "code",
    "id": "8xkStdjdXS3w"
   },
   "outputs": [
    {
     "name": "stdout",
     "output_type": "stream",
     "text": [
      "The total number of people in Teso south district is 136998\n"
     ]
    }
   ],
   "source": [
    "# Challenge 11\n",
    "# What was the Total population of Teso South District?\n",
    "# \n",
    "teso_people = df[(df['District'] == 'TESO SOUTH')]\n",
    "teso_people = teso_people['Total'].sum()\n",
    "print(f\"The total number of people in Teso south district is {teso_people}\")"
   ]
  },
  {
   "cell_type": "code",
   "execution_count": 16,
   "metadata": {
    "colab": {},
    "colab_type": "code",
    "id": "rgVsXH_5XVCh"
   },
   "outputs": [
    {
     "name": "stdout",
     "output_type": "stream",
     "text": [
      "The total number of people in Urban Teso south district is 26059\n"
     ]
    }
   ],
   "source": [
    "# Challenge 12\n",
    "# What was the urban population of Teso South District?\n",
    "# \n",
    "teso_people = df[(df['District'] == 'TESO SOUTH') & (df['Urban/Rural'] == 'Urban')]\n",
    "teso_people = teso_people['Total'].sum()\n",
    "print(f\"The total number of people in Urban Teso south district is {teso_people}\")"
   ]
  },
  {
   "cell_type": "code",
   "execution_count": 17,
   "metadata": {
    "colab": {},
    "colab_type": "code",
    "id": "XvvFWhuDXXeP"
   },
   "outputs": [
    {
     "name": "stdout",
     "output_type": "stream",
     "text": [
      "The total number of people in Rural Teso south district is 110939\n"
     ]
    }
   ],
   "source": [
    "# Challenge 13\n",
    "# What was the rural population of Teso South District?\n",
    "# \n",
    "teso_people = df[(df['District'] == 'TESO SOUTH') & (df['Urban/Rural'] == 'Rural')]\n",
    "teso_people = teso_people['Total'].sum()\n",
    "print(f\"The total number of people in Rural Teso south district is {teso_people}\")"
   ]
  },
  {
   "cell_type": "code",
   "execution_count": 18,
   "metadata": {
    "colab": {},
    "colab_type": "code",
    "id": "q1iq02FuXc2R"
   },
   "outputs": [
    {
     "name": "stdout",
     "output_type": "stream",
     "text": [
      "The total number of people aged 60 and above is 1567150\n"
     ]
    }
   ],
   "source": [
    "# Challenge 14\n",
    "# What was the population of people aged 60 and above in Kenya?\n",
    "#\n",
    "old_people = df[df['Age_years'] >  59]\n",
    "total_old_people = old_people['Total'].sum()\n",
    "print(f\"The total number of people aged 60 and above is {total_old_people}\")"
   ]
  },
  {
   "cell_type": "code",
   "execution_count": 19,
   "metadata": {
    "colab": {},
    "colab_type": "code",
    "id": "drAWpxBZXhcF"
   },
   "outputs": [
    {
     "name": "stdout",
     "output_type": "stream",
     "text": [
      "The total population of urban kenyans is 12401054\n"
     ]
    }
   ],
   "source": [
    "# Challenge 15 \n",
    "# What was the urban population in Kenya?\n",
    "#\n",
    "urban_kenyans = df[df['Urban/Rural'] == 'Urban']\n",
    "total_urban_kenyans = urban_kenyans['Total'].sum()\n",
    "print(f\"The total population of urban kenyans is {total_urban_kenyans}\")"
   ]
  }
 ],
 "metadata": {
  "colab": {
   "collapsed_sections": [
    "VSnOCZ5-IPCi",
    "HToJZ2gBPawZ",
    "IICLGbvBRYHq",
    "RAVzK5O6IR8v",
    "NicC8P9LMjvO"
   ],
   "name": "Data Investigation with Pandas",
   "provenance": [],
   "toc_visible": true
  },
  "kernelspec": {
   "display_name": "Python 3",
   "language": "python",
   "name": "python3"
  },
  "language_info": {
   "codemirror_mode": {
    "name": "ipython",
    "version": 3
   },
   "file_extension": ".py",
   "mimetype": "text/x-python",
   "name": "python",
   "nbconvert_exporter": "python",
   "pygments_lexer": "ipython3",
   "version": "3.7.6"
  }
 },
 "nbformat": 4,
 "nbformat_minor": 1
}
