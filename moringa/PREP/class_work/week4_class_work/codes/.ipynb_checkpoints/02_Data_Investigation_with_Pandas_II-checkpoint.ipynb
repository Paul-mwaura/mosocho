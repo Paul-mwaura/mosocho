{
 "cells": [
  {
   "cell_type": "markdown",
   "metadata": {
    "colab_type": "text",
    "id": "y5qL7fbUWJrX"
   },
   "source": [
    "<font color=\"green\">*To start working on this notebook, or any other notebook that we will use in the Moringa Data Science Course, we will need to save our own copy of it. We can do this by clicking File > Save a Copy in Drive. We will then be able to make edits to our own copy of this notebook.*</font>"
   ]
  },
  {
   "cell_type": "markdown",
   "metadata": {
    "colab_type": "text",
    "id": "m0tgCkvzPLEa"
   },
   "source": [
    "# Data Investigation with Pandas II"
   ]
  },
  {
   "cell_type": "markdown",
   "metadata": {
    "colab_type": "text",
    "id": "VSnOCZ5-IPCi"
   },
   "source": [
    "## 1.0 Importing our Libraries"
   ]
  },
  {
   "cell_type": "code",
   "execution_count": 1,
   "metadata": {
    "colab": {},
    "colab_type": "code",
    "id": "3r-KDLvrO44a"
   },
   "outputs": [],
   "source": [
    "# Importing the libraries we will need \n",
    "\n",
    "# Importing the pandas library\n",
    "# \n",
    "import pandas as pd\n",
    "\n",
    "# Importing the numpy library\n",
    "#\n",
    "import numpy as np"
   ]
  },
  {
   "cell_type": "markdown",
   "metadata": {
    "colab_type": "text",
    "id": "HToJZ2gBPawZ"
   },
   "source": [
    "## 1.1 Reading the Dataset from our CSV file\n",
    "\n"
   ]
  },
  {
   "cell_type": "markdown",
   "metadata": {
    "colab_type": "text",
    "id": "LBUr8VUXQX-K"
   },
   "source": [
    "This dataset contains trips taken by thousands of kenyans to and from Nairobi during the year 2018.\n",
    "\n",
    "*   Dataset link for download or access: [Link](https://drive.google.com/a/moringaschool.com/file/d/1xe2sHapdeGo7bIaiG7UV0rjgQZ5U6OXv/view?usp=sharing)\n",
    "\n",
    "\n",
    "\n"
   ]
  },
  {
   "cell_type": "code",
   "execution_count": 4,
   "metadata": {
    "colab": {},
    "colab_type": "code",
    "id": "1acwmZanRNHs"
   },
   "outputs": [
    {
     "data": {
      "text/html": [
       "<div>\n",
       "<style scoped>\n",
       "    .dataframe tbody tr th:only-of-type {\n",
       "        vertical-align: middle;\n",
       "    }\n",
       "\n",
       "    .dataframe tbody tr th {\n",
       "        vertical-align: top;\n",
       "    }\n",
       "\n",
       "    .dataframe thead th {\n",
       "        text-align: right;\n",
       "    }\n",
       "</style>\n",
       "<table border=\"1\" class=\"dataframe\">\n",
       "  <thead>\n",
       "    <tr style=\"text-align: right;\">\n",
       "      <th></th>\n",
       "      <th>ride_id</th>\n",
       "      <th>travel_date</th>\n",
       "      <th>travel_time</th>\n",
       "      <th>travel_from</th>\n",
       "      <th>travel_to</th>\n",
       "      <th>car_type</th>\n",
       "      <th>max_capacity</th>\n",
       "    </tr>\n",
       "  </thead>\n",
       "  <tbody>\n",
       "    <tr>\n",
       "      <th>0</th>\n",
       "      <td>247</td>\n",
       "      <td>2018-05-07</td>\n",
       "      <td>07:06</td>\n",
       "      <td>Kisii</td>\n",
       "      <td>Nairobi</td>\n",
       "      <td>Bus</td>\n",
       "      <td>49</td>\n",
       "    </tr>\n",
       "    <tr>\n",
       "      <th>1</th>\n",
       "      <td>256</td>\n",
       "      <td>2018-05-06</td>\n",
       "      <td>11:08</td>\n",
       "      <td>Kisii</td>\n",
       "      <td>Nairobi</td>\n",
       "      <td>shuttle</td>\n",
       "      <td>11</td>\n",
       "    </tr>\n",
       "    <tr>\n",
       "      <th>2</th>\n",
       "      <td>275</td>\n",
       "      <td>2018-05-04</td>\n",
       "      <td>05:00</td>\n",
       "      <td>Kisii</td>\n",
       "      <td>Nairobi</td>\n",
       "      <td>shuttle</td>\n",
       "      <td>11</td>\n",
       "    </tr>\n",
       "    <tr>\n",
       "      <th>3</th>\n",
       "      <td>285</td>\n",
       "      <td>2018-05-04</td>\n",
       "      <td>09:10</td>\n",
       "      <td>Kisii</td>\n",
       "      <td>Nairobi</td>\n",
       "      <td>shuttle</td>\n",
       "      <td>11</td>\n",
       "    </tr>\n",
       "    <tr>\n",
       "      <th>4</th>\n",
       "      <td>286</td>\n",
       "      <td>2018-05-04</td>\n",
       "      <td>09:20</td>\n",
       "      <td>Kisii</td>\n",
       "      <td>Nairobi</td>\n",
       "      <td>shuttle</td>\n",
       "      <td>11</td>\n",
       "    </tr>\n",
       "  </tbody>\n",
       "</table>\n",
       "</div>"
      ],
      "text/plain": [
       "   ride_id travel_date travel_time travel_from travel_to car_type  \\\n",
       "0      247  2018-05-07       07:06       Kisii   Nairobi      Bus   \n",
       "1      256  2018-05-06       11:08       Kisii   Nairobi  shuttle   \n",
       "2      275  2018-05-04       05:00       Kisii   Nairobi  shuttle   \n",
       "3      285  2018-05-04       09:10       Kisii   Nairobi  shuttle   \n",
       "4      286  2018-05-04       09:20       Kisii   Nairobi  shuttle   \n",
       "\n",
       "   max_capacity  \n",
       "0            49  \n",
       "1            11  \n",
       "2            11  \n",
       "3            11  \n",
       "4            11  "
      ]
     },
     "execution_count": 4,
     "metadata": {},
     "output_type": "execute_result"
    }
   ],
   "source": [
    "# Let's read the data from the CSV file and create the dataframe to be used\n",
    "# \n",
    "data_url = 'datasets/bus_travels.csv'\n",
    "df = pd.read_csv(data_url)\n",
    "df.head(5)"
   ]
  },
  {
   "cell_type": "markdown",
   "metadata": {
    "colab_type": "text",
    "id": "IICLGbvBRYHq"
   },
   "source": [
    "## 1.2 Previewing our Dataset\n"
   ]
  },
  {
   "cell_type": "code",
   "execution_count": 5,
   "metadata": {
    "colab": {},
    "colab_type": "code",
    "id": "WrwHg-hzR5BY"
   },
   "outputs": [
    {
     "data": {
      "text/html": [
       "<div>\n",
       "<style scoped>\n",
       "    .dataframe tbody tr th:only-of-type {\n",
       "        vertical-align: middle;\n",
       "    }\n",
       "\n",
       "    .dataframe tbody tr th {\n",
       "        vertical-align: top;\n",
       "    }\n",
       "\n",
       "    .dataframe thead th {\n",
       "        text-align: right;\n",
       "    }\n",
       "</style>\n",
       "<table border=\"1\" class=\"dataframe\">\n",
       "  <thead>\n",
       "    <tr style=\"text-align: right;\">\n",
       "      <th></th>\n",
       "      <th>ride_id</th>\n",
       "      <th>travel_date</th>\n",
       "      <th>travel_time</th>\n",
       "      <th>travel_from</th>\n",
       "      <th>travel_to</th>\n",
       "      <th>car_type</th>\n",
       "      <th>max_capacity</th>\n",
       "    </tr>\n",
       "  </thead>\n",
       "  <tbody>\n",
       "    <tr>\n",
       "      <th>0</th>\n",
       "      <td>247</td>\n",
       "      <td>2018-05-07</td>\n",
       "      <td>07:06</td>\n",
       "      <td>Kisii</td>\n",
       "      <td>Nairobi</td>\n",
       "      <td>Bus</td>\n",
       "      <td>49</td>\n",
       "    </tr>\n",
       "    <tr>\n",
       "      <th>1</th>\n",
       "      <td>256</td>\n",
       "      <td>2018-05-06</td>\n",
       "      <td>11:08</td>\n",
       "      <td>Kisii</td>\n",
       "      <td>Nairobi</td>\n",
       "      <td>shuttle</td>\n",
       "      <td>11</td>\n",
       "    </tr>\n",
       "    <tr>\n",
       "      <th>2</th>\n",
       "      <td>275</td>\n",
       "      <td>2018-05-04</td>\n",
       "      <td>05:00</td>\n",
       "      <td>Kisii</td>\n",
       "      <td>Nairobi</td>\n",
       "      <td>shuttle</td>\n",
       "      <td>11</td>\n",
       "    </tr>\n",
       "    <tr>\n",
       "      <th>3</th>\n",
       "      <td>285</td>\n",
       "      <td>2018-05-04</td>\n",
       "      <td>09:10</td>\n",
       "      <td>Kisii</td>\n",
       "      <td>Nairobi</td>\n",
       "      <td>shuttle</td>\n",
       "      <td>11</td>\n",
       "    </tr>\n",
       "    <tr>\n",
       "      <th>4</th>\n",
       "      <td>286</td>\n",
       "      <td>2018-05-04</td>\n",
       "      <td>09:20</td>\n",
       "      <td>Kisii</td>\n",
       "      <td>Nairobi</td>\n",
       "      <td>shuttle</td>\n",
       "      <td>11</td>\n",
       "    </tr>\n",
       "    <tr>\n",
       "      <th>5</th>\n",
       "      <td>287</td>\n",
       "      <td>2018-05-04</td>\n",
       "      <td>07:02</td>\n",
       "      <td>Kisii</td>\n",
       "      <td>Nairobi</td>\n",
       "      <td>Bus</td>\n",
       "      <td>49</td>\n",
       "    </tr>\n",
       "    <tr>\n",
       "      <th>6</th>\n",
       "      <td>288</td>\n",
       "      <td>2018-05-04</td>\n",
       "      <td>09:30</td>\n",
       "      <td>Kisii</td>\n",
       "      <td>Nairobi</td>\n",
       "      <td>shuttle</td>\n",
       "      <td>11</td>\n",
       "    </tr>\n",
       "    <tr>\n",
       "      <th>7</th>\n",
       "      <td>292</td>\n",
       "      <td>2018-05-04</td>\n",
       "      <td>19:03</td>\n",
       "      <td>Kisii</td>\n",
       "      <td>Nairobi</td>\n",
       "      <td>Bus</td>\n",
       "      <td>49</td>\n",
       "    </tr>\n",
       "    <tr>\n",
       "      <th>8</th>\n",
       "      <td>298</td>\n",
       "      <td>2018-05-04</td>\n",
       "      <td>09:00</td>\n",
       "      <td>Kisii</td>\n",
       "      <td>Nairobi</td>\n",
       "      <td>shuttle</td>\n",
       "      <td>11</td>\n",
       "    </tr>\n",
       "    <tr>\n",
       "      <th>9</th>\n",
       "      <td>302</td>\n",
       "      <td>2018-05-04</td>\n",
       "      <td>08:40</td>\n",
       "      <td>Kisii</td>\n",
       "      <td>Nairobi</td>\n",
       "      <td>shuttle</td>\n",
       "      <td>11</td>\n",
       "    </tr>\n",
       "  </tbody>\n",
       "</table>\n",
       "</div>"
      ],
      "text/plain": [
       "   ride_id travel_date travel_time travel_from travel_to car_type  \\\n",
       "0      247  2018-05-07       07:06       Kisii   Nairobi      Bus   \n",
       "1      256  2018-05-06       11:08       Kisii   Nairobi  shuttle   \n",
       "2      275  2018-05-04       05:00       Kisii   Nairobi  shuttle   \n",
       "3      285  2018-05-04       09:10       Kisii   Nairobi  shuttle   \n",
       "4      286  2018-05-04       09:20       Kisii   Nairobi  shuttle   \n",
       "5      287  2018-05-04       07:02       Kisii   Nairobi      Bus   \n",
       "6      288  2018-05-04       09:30       Kisii   Nairobi  shuttle   \n",
       "7      292  2018-05-04       19:03       Kisii   Nairobi      Bus   \n",
       "8      298  2018-05-04       09:00       Kisii   Nairobi  shuttle   \n",
       "9      302  2018-05-04       08:40       Kisii   Nairobi  shuttle   \n",
       "\n",
       "   max_capacity  \n",
       "0            49  \n",
       "1            11  \n",
       "2            11  \n",
       "3            11  \n",
       "4            11  \n",
       "5            49  \n",
       "6            11  \n",
       "7            49  \n",
       "8            11  \n",
       "9            11  "
      ]
     },
     "execution_count": 5,
     "metadata": {},
     "output_type": "execute_result"
    }
   ],
   "source": [
    "# Let's preview the first 10 rows of our data\n",
    "# \n",
    "df.head(10)"
   ]
  },
  {
   "cell_type": "markdown",
   "metadata": {
    "colab_type": "text",
    "id": "RAVzK5O6IR8v"
   },
   "source": [
    "## 1.3 Accessing Information about our Dataset"
   ]
  },
  {
   "cell_type": "code",
   "execution_count": 6,
   "metadata": {
    "colab": {},
    "colab_type": "code",
    "id": "0d2kfemDIYWI"
   },
   "outputs": [
    {
     "name": "stdout",
     "output_type": "stream",
     "text": [
      "<class 'pandas.core.frame.DataFrame'>\n",
      "RangeIndex: 1111 entries, 0 to 1110\n",
      "Data columns (total 7 columns):\n",
      " #   Column        Non-Null Count  Dtype \n",
      "---  ------        --------------  ----- \n",
      " 0   ride_id       1111 non-null   int64 \n",
      " 1   travel_date   1111 non-null   object\n",
      " 2   travel_time   1111 non-null   object\n",
      " 3   travel_from   1111 non-null   object\n",
      " 4   travel_to     1111 non-null   object\n",
      " 5   car_type      1111 non-null   object\n",
      " 6   max_capacity  1111 non-null   int64 \n",
      "dtypes: int64(2), object(5)\n",
      "memory usage: 39.1+ KB\n"
     ]
    }
   ],
   "source": [
    "# Getting to know more about the dataset by accessing its information\n",
    "#\n",
    "df.info()"
   ]
  },
  {
   "cell_type": "markdown",
   "metadata": {
    "colab_type": "text",
    "id": "NicC8P9LMjvO"
   },
   "source": [
    "## 1.4 Answering Questions"
   ]
  },
  {
   "cell_type": "markdown",
   "metadata": {
    "colab_type": "text",
    "id": "8izhaW7UNYGJ"
   },
   "source": [
    "Let's answer the following questions with our dataset"
   ]
  },
  {
   "cell_type": "code",
   "execution_count": 29,
   "metadata": {
    "colab": {},
    "colab_type": "code",
    "id": "tTOgnXvuMxcn"
   },
   "outputs": [
    {
     "name": "stdout",
     "output_type": "stream",
     "text": [
      "Trips made during the period is 66\n"
     ]
    }
   ],
   "source": [
    "# Challenge 1\n",
    "# How many trips were taken on the 22/04/18?\n",
    "# \n",
    "df['travel_date'] = pd.to_datetime(df['travel_date'], format=\"%Y-%m-%d\")\n",
    "df['travel_time'] = pd.to_datetime(df['travel_time'], format=\"%H:%M\")\n",
    "df['travel_time'] = [time.time() for time in df['travel_time']]\n",
    "\n",
    "trips = df[df['travel_date'] == '2018-04-22']\n",
    "print(f\"Trips made during the period is {len(trips)}\")"
   ]
  },
  {
   "cell_type": "code",
   "execution_count": 39,
   "metadata": {
    "colab": {},
    "colab_type": "code",
    "id": "BNegesaWNvQs"
   },
   "outputs": [
    {
     "data": {
      "text/html": [
       "<div>\n",
       "<style scoped>\n",
       "    .dataframe tbody tr th:only-of-type {\n",
       "        vertical-align: middle;\n",
       "    }\n",
       "\n",
       "    .dataframe tbody tr th {\n",
       "        vertical-align: top;\n",
       "    }\n",
       "\n",
       "    .dataframe thead th {\n",
       "        text-align: right;\n",
       "    }\n",
       "</style>\n",
       "<table border=\"1\" class=\"dataframe\">\n",
       "  <thead>\n",
       "    <tr style=\"text-align: right;\">\n",
       "      <th></th>\n",
       "      <th>ride_id</th>\n",
       "      <th>travel_date</th>\n",
       "      <th>travel_time</th>\n",
       "      <th>travel_from</th>\n",
       "      <th>travel_to</th>\n",
       "      <th>car_type</th>\n",
       "      <th>max_capacity</th>\n",
       "    </tr>\n",
       "  </thead>\n",
       "  <tbody>\n",
       "  </tbody>\n",
       "</table>\n",
       "</div>"
      ],
      "text/plain": [
       "Empty DataFrame\n",
       "Columns: [ride_id, travel_date, travel_time, travel_from, travel_to, car_type, max_capacity]\n",
       "Index: []"
      ]
     },
     "execution_count": 39,
     "metadata": {},
     "output_type": "execute_result"
    }
   ],
   "source": [
    "# Challenge 2\n",
    "# Which type of vehicle travelled on 23/04/18 from Kisii to Nairobi at 7.15am?\n",
    "#\n",
    "df[(df['travel_from'] == 'Kisii') & (df['travel_to'] == 'Nairobi') & (df['travel_date'] == \"2018/04/23\") & (df['travel_time'] == '07:15:00')]"
   ]
  },
  {
   "cell_type": "code",
   "execution_count": 40,
   "metadata": {
    "colab": {},
    "colab_type": "code",
    "id": "7tilTerhNyiP"
   },
   "outputs": [
    {
     "data": {
      "text/plain": [
       "545"
      ]
     },
     "execution_count": 40,
     "metadata": {},
     "output_type": "execute_result"
    }
   ],
   "source": [
    "# Challenge 3\n",
    "# How many trips were made from Kisii to Nairobi?\n",
    "# \n",
    "len(df[(df['travel_from'] == 'Kisii') & (df['travel_to'] == 'Nairobi')])"
   ]
  },
  {
   "cell_type": "code",
   "execution_count": 48,
   "metadata": {
    "colab": {},
    "colab_type": "code",
    "id": "rhXeHa6IOBsq"
   },
   "outputs": [
    {
     "data": {
      "text/plain": [
       "0"
      ]
     },
     "execution_count": 48,
     "metadata": {},
     "output_type": "execute_result"
    }
   ],
   "source": [
    "# Challenge 4\n",
    "# How many trips were made by shuttle from Nairobi?\n",
    "# \n",
    "len(df[(df['car_type'] == 'shuttle') & (df['travel_from'] == 'Nairobi')])"
   ]
  },
  {
   "cell_type": "code",
   "execution_count": 49,
   "metadata": {
    "colab": {},
    "colab_type": "code",
    "id": "wddDP6yCOD_F"
   },
   "outputs": [
    {
     "data": {
      "text/plain": [
       "0"
      ]
     },
     "execution_count": 49,
     "metadata": {},
     "output_type": "execute_result"
    }
   ],
   "source": [
    "# Challenge 5\n",
    "# How many trips were made by bus from Nairobi to Awendo?\n",
    "# \n",
    "len(df[(df['travel_from'] == 'Nairobi') & (df['travel_to'] == 'Awendo')])"
   ]
  },
  {
   "cell_type": "code",
   "execution_count": 108,
   "metadata": {
    "colab": {},
    "colab_type": "code",
    "id": "OemJ0HDYOHCq"
   },
   "outputs": [
    {
     "name": "stdout",
     "output_type": "stream",
     "text": [
      "('Rongo', 'Bus') 115\n"
     ]
    }
   ],
   "source": [
    "# Challenge 6\n",
    "# Which was the most travelled from destination by bus?\n",
    "# \n",
    "df['count']  = 1\n",
    "group_data = df.groupby(['travel_from', 'car_type'])['count'].count()\n",
    "index = group_data.index\n",
    "\n",
    "bus_travels = {}\n",
    "\n",
    "for val in index:\n",
    "    if val[1]== \"Bus\":\n",
    "        bus_travels[val] = group_data[val]\n",
    "\n",
    "        \n",
    "all_values = bus_travels.values()\n",
    "max_value = max(all_values)\n",
    "\n",
    "for key,value in bus_travels.items():\n",
    "    if value == max_value:\n",
    "        print(key, value)"
   ]
  },
  {
   "cell_type": "code",
   "execution_count": 115,
   "metadata": {
    "colab": {},
    "colab_type": "code",
    "id": "CIxC5arSOLak"
   },
   "outputs": [
    {
     "data": {
      "text/plain": [
       "Counter({'Nairobi': 1111})"
      ]
     },
     "execution_count": 115,
     "metadata": {},
     "output_type": "execute_result"
    }
   ],
   "source": [
    "# Challenge 7\n",
    "# Which was the most travelled to destination?\n",
    "# \n",
    "to_list = list(df['travel_to'])\n",
    "destinations = set(df['travel_to'])\n",
    "\n",
    "from collections import Counter\n",
    "Counter(to_list)"
   ]
  },
  {
   "cell_type": "code",
   "execution_count": 0,
   "metadata": {
    "colab": {},
    "colab_type": "code",
    "id": "gSjjnw56OP8O"
   },
   "outputs": [],
   "source": [
    "# Challenge 8\n",
    "# Which was the most travelled destination by bus?\n",
    "# \n",
    "OUR CODE GOES HERE"
   ]
  },
  {
   "cell_type": "code",
   "execution_count": 0,
   "metadata": {
    "colab": {},
    "colab_type": "code",
    "id": "UZLYqF7UOTtu"
   },
   "outputs": [],
   "source": [
    "# Challenge 9\n",
    "# Which town did not have a departure by shuttle?\n",
    "# \n",
    "OUR CODE GOES HERE"
   ]
  },
  {
   "cell_type": "code",
   "execution_count": 0,
   "metadata": {
    "colab": {},
    "colab_type": "code",
    "id": "1qk8wF3MOXDu"
   },
   "outputs": [],
   "source": [
    "# Challenge 10\n",
    "# Which were the most 5 travelled to destinations?\n",
    "# \n",
    "OUR CODE GOES HERE"
   ]
  },
  {
   "cell_type": "code",
   "execution_count": 0,
   "metadata": {
    "colab": {},
    "colab_type": "code",
    "id": "8xkStdjdXS3w"
   },
   "outputs": [],
   "source": [
    "# Challenge 11\n",
    "# Which were the least 5 travelled to destinations?\n",
    "#\n",
    "OUR CODE GOES HERE"
   ]
  },
  {
   "cell_type": "code",
   "execution_count": 0,
   "metadata": {
    "colab": {},
    "colab_type": "code",
    "id": "rgVsXH_5XVCh"
   },
   "outputs": [],
   "source": [
    "# Challenge 12\n",
    "# If all shuttles travelled with full capacity, how many people travelled in shuttles from Kisii to Nairobi in the month of May?\n",
    "#\n",
    "OUR CODE GOES HERE"
   ]
  },
  {
   "cell_type": "code",
   "execution_count": 0,
   "metadata": {
    "colab": {},
    "colab_type": "code",
    "id": "XvvFWhuDXXeP"
   },
   "outputs": [],
   "source": [
    "# Challenge 13\n",
    "# Which date had the highest no. of trips in June?\n",
    "#\n",
    "OUR CODE GOES HERE"
   ]
  },
  {
   "cell_type": "code",
   "execution_count": 0,
   "metadata": {
    "colab": {},
    "colab_type": "code",
    "id": "q1iq02FuXc2R"
   },
   "outputs": [],
   "source": [
    "# Challenge 14\n",
    "# On average, how many trips were made by all vehicles in a day?\n",
    "#\n",
    "OUR CODE GOES HERE"
   ]
  },
  {
   "cell_type": "code",
   "execution_count": 0,
   "metadata": {
    "colab": {},
    "colab_type": "code",
    "id": "drAWpxBZXhcF"
   },
   "outputs": [],
   "source": [
    "# Challenge 15 \n",
    "# On average, how many buses and shuttles travelled in a day?\n",
    "# \n",
    "OUR CODE GOES HERE"
   ]
  }
 ],
 "metadata": {
  "colab": {
   "collapsed_sections": [
    "VSnOCZ5-IPCi",
    "HToJZ2gBPawZ",
    "IICLGbvBRYHq",
    "RAVzK5O6IR8v",
    "NicC8P9LMjvO"
   ],
   "name": "Data Investigation with Pandas II",
   "provenance": [],
   "toc_visible": true
  },
  "kernelspec": {
   "display_name": "Python 3",
   "language": "python",
   "name": "python3"
  },
  "language_info": {
   "codemirror_mode": {
    "name": "ipython",
    "version": 3
   },
   "file_extension": ".py",
   "mimetype": "text/x-python",
   "name": "python",
   "nbconvert_exporter": "python",
   "pygments_lexer": "ipython3",
   "version": "3.7.6"
  }
 },
 "nbformat": 4,
 "nbformat_minor": 1
}
