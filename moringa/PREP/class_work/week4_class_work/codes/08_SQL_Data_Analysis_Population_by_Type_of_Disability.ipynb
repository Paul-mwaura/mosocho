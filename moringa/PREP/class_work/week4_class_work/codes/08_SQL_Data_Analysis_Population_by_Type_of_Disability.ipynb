{
 "cells": [
  {
   "cell_type": "markdown",
   "metadata": {
    "colab_type": "text",
    "id": "v10LL6vuBqBk"
   },
   "source": [
    "<font color=\"green\">*To start working on this notebook, or any other notebook that we will use in the Moringa Data Science Course, we will need to save our own copy of it. We can do this by clicking File > Save a Copy in Drive. We will then be able to make edits to our own copy of this notebook.*</font>"
   ]
  },
  {
   "cell_type": "markdown",
   "metadata": {
    "colab_type": "text",
    "id": "m0tgCkvzPLEa"
   },
   "source": [
    "# SQL Data Analysis: Population by Type of Disability"
   ]
  },
  {
   "cell_type": "markdown",
   "metadata": {
    "colab_type": "text",
    "id": "VSnOCZ5-IPCi"
   },
   "source": [
    "## 1.0 Connecting to our Database"
   ]
  },
  {
   "cell_type": "code",
   "execution_count": null,
   "metadata": {
    "colab": {},
    "colab_type": "code",
    "id": "3r-KDLvrO44a"
   },
   "outputs": [],
   "source": [
    "# We will first load the sql extension into our environment\n",
    "%load_ext sql\n",
    "\n",
    "# Then connect to our in memory sqlite database\n",
    "# NB: This database will cease to exist as soon as the database connection is closed. \n",
    "%sql sqlite://"
   ]
  },
  {
   "cell_type": "markdown",
   "metadata": {
    "colab_type": "text",
    "id": "HToJZ2gBPawZ"
   },
   "source": [
    "## 1.1 Importing Data from CSV files"
   ]
  },
  {
   "cell_type": "code",
   "execution_count": null,
   "metadata": {
    "colab": {},
    "colab_type": "code",
    "id": "1acwmZanRNHs"
   },
   "outputs": [],
   "source": [
    "# Importing the pandas library\n",
    "# We will use a function read_csv from pandas to read our datasets as shown\n",
    "#\n",
    "import pandas as pd "
   ]
  },
  {
   "cell_type": "code",
   "execution_count": null,
   "metadata": {
    "colab": {},
    "colab_type": "code",
    "id": "RmreyLDJADqk"
   },
   "outputs": [],
   "source": [
    "# Loading our table from the respective CSV files\n",
    "# We will export the dataset that we have cleaned using python\n",
    "#\n",
    "with open('./datasets/disability.csv','r') as f:\n",
    "    Population = pd.read_csv(f, index_col=0, encoding='utf-8')\n",
    "%sql DROP TABLE if EXISTS Population;\n",
    "%sql PERSIST Population;\n",
    "%sql SELECT * FROM Population LIMIT 5;"
   ]
  },
  {
   "cell_type": "markdown",
   "metadata": {
    "colab_type": "text",
    "id": "IICLGbvBRYHq"
   },
   "source": [
    "## 1.2 Previewing our Dataset\n"
   ]
  },
  {
   "cell_type": "code",
   "execution_count": null,
   "metadata": {
    "colab": {},
    "colab_type": "code",
    "id": "WrwHg-hzR5BY"
   },
   "outputs": [],
   "source": [
    "# Let's preview the first 10 rows of our data\n",
    "# \n",
    "\n",
    "%sql SELECT * FROM Population LIMIT 10;"
   ]
  },
  {
   "cell_type": "markdown",
   "metadata": {
    "colab_type": "text",
    "id": "RAVzK5O6IR8v"
   },
   "source": [
    "## 1.3 Accessing Information about our Dataset"
   ]
  },
  {
   "cell_type": "code",
   "execution_count": null,
   "metadata": {
    "colab": {},
    "colab_type": "code",
    "id": "0d2kfemDIYWI"
   },
   "outputs": [],
   "source": [
    "# Getting to know more about the dataset by accessing its information\n",
    "#\n",
    "%sql PRAGMA table_info(Population)"
   ]
  },
  {
   "cell_type": "code",
   "execution_count": null,
   "metadata": {},
   "outputs": [],
   "source": [
    "%sql DELETE FROM Population WHERE `County` = 'Kenya average';"
   ]
  },
  {
   "cell_type": "markdown",
   "metadata": {
    "colab_type": "text",
    "id": "NicC8P9LMjvO"
   },
   "source": [
    "## 1.5 Answering Questions"
   ]
  },
  {
   "cell_type": "markdown",
   "metadata": {
    "colab_type": "text",
    "id": "8izhaW7UNYGJ"
   },
   "source": [
    "Let's answer the following questions with our dataset. These are the same questions we answered using the python programming language. "
   ]
  },
  {
   "cell_type": "code",
   "execution_count": null,
   "metadata": {
    "colab": {},
    "colab_type": "code",
    "id": "tTOgnXvuMxcn"
   },
   "outputs": [],
   "source": [
    "# Challenge 1\n",
    "# Which county had the highest no. of registered deaf persons?\n",
    "# \n",
    "%sql select `County`, MAX(`Deaf`) FROM Population;\n"
   ]
  },
  {
   "cell_type": "code",
   "execution_count": null,
   "metadata": {
    "colab": {},
    "colab_type": "code",
    "id": "BNegesaWNvQs"
   },
   "outputs": [],
   "source": [
    "# Challenge 2\n",
    "# Which county had the highest no. of registered persons with a missing hand?\n",
    "#\n",
    "%sql select `County`, MAX(`Missing_Hand`) FROM Population;"
   ]
  },
  {
   "cell_type": "code",
   "execution_count": null,
   "metadata": {
    "colab": {},
    "colab_type": "code",
    "id": "7tilTerhNyiP"
   },
   "outputs": [],
   "source": [
    "# Challenge 3\n",
    "# Which county had the highest no. of registered persons with a missing foot?\n",
    "# \n",
    "%sql select `County`, MAX(`Missing_Foot`) FROM Population;"
   ]
  },
  {
   "cell_type": "code",
   "execution_count": null,
   "metadata": {
    "colab": {},
    "colab_type": "code",
    "id": "rhXeHa6IOBsq"
   },
   "outputs": [],
   "source": [
    "# Challenge 4\n",
    "# Which county had the highest no. of registered lame persons?\n",
    "# \n",
    "%sql select `County`, MAX(`Lame`) FROM Population;"
   ]
  },
  {
   "cell_type": "code",
   "execution_count": null,
   "metadata": {
    "colab": {},
    "colab_type": "code",
    "id": "wddDP6yCOD_F"
   },
   "outputs": [],
   "source": [
    "# Challenge 5\n",
    "# Which county had the lowest no. of registered blind persons?\n",
    "# \n",
    "%sql select `County`, `Blind` FROM Population WHERE `Blind` IN (SELECT MIN(`Blind`) FROM Population );"
   ]
  },
  {
   "cell_type": "code",
   "execution_count": null,
   "metadata": {
    "colab": {},
    "colab_type": "code",
    "id": "OemJ0HDYOHCq"
   },
   "outputs": [],
   "source": [
    "# Challenge 6\n",
    "# Which county had the highest third no. of registered deaf persons?\n",
    "# \n",
    "%sql CREATE TABLE `Deaf_Query` as SELECT `County`, `Deaf` FROM Population ORDER BY `Deaf` DESC LIMIT 3;\n",
    "%sql SELECT `County`, MIN(`Deaf`) as `3rd Most Deaf` FROM `Deaf_Query`;"
   ]
  },
  {
   "cell_type": "code",
   "execution_count": null,
   "metadata": {},
   "outputs": [],
   "source": [
    "#Challenge 6 Extension \n",
    "#Drop the created `Deaf_Query` table, used to solve challenge 6\n",
    "%sql DROP TABLE `Deaf_Query`;"
   ]
  },
  {
   "cell_type": "code",
   "execution_count": null,
   "metadata": {
    "colab": {},
    "colab_type": "code",
    "id": "CIxC5arSOLak"
   },
   "outputs": [],
   "source": [
    "# Challenge 7\n",
    "# In descending order, which top 5 counties had the highest no. of registered dumb persons?\n",
    "# \n",
    "%sql SELECT `County`, `Dumb` FROM Population ORDER BY `Dumb` DESC LIMIT 5;"
   ]
  },
  {
   "cell_type": "code",
   "execution_count": null,
   "metadata": {
    "colab": {},
    "colab_type": "code",
    "id": "gSjjnw56OP8O"
   },
   "outputs": [],
   "source": [
    "# Challenge 8\n",
    "# In ascending order, which top 5 counties had the highest no. of registered persons with a mental disability? \n",
    "# \n",
    "%sql CREATE TABLE `Mental_Query` AS SELECT `County`, `Mental` FROM Population ORDER BY `Mental` DESC LIMIT 5;\n",
    "%sql SELECT `County`, `Mental` FROM `Mental_Query` ORDER BY `Mental` ASC;"
   ]
  },
  {
   "cell_type": "code",
   "execution_count": null,
   "metadata": {},
   "outputs": [],
   "source": [
    "#Challenge 8 Extension \n",
    "#Drop the created `Mental_Query` table, used to solve challenge 8\n",
    "%sql DROP TABLE `Mental_Query`;"
   ]
  },
  {
   "cell_type": "code",
   "execution_count": null,
   "metadata": {
    "colab": {},
    "colab_type": "code",
    "id": "UZLYqF7UOTtu"
   },
   "outputs": [],
   "source": [
    "# Challenge 9\n",
    "# Which counties had no registerd blind persons nor deaf persons?\n",
    "# \n",
    "%sql SELECT `County`, `Blind` FROM Population WHERE `Blind` == 0 and `Deaf` == 0;"
   ]
  },
  {
   "cell_type": "code",
   "execution_count": null,
   "metadata": {
    "colab": {},
    "colab_type": "code",
    "id": "1qk8wF3MOXDu"
   },
   "outputs": [],
   "source": [
    "# Challenge 10\n",
    "# Which disability was the most registered across all the counties?\n",
    "# \n",
    "%sql SELECT * FROM Population;"
   ]
  },
  {
   "cell_type": "code",
   "execution_count": null,
   "metadata": {},
   "outputs": [],
   "source": [
    "%sql CREATE TABLE tot AS SELECT MAX(SUM(`Missing_Hand`) AS `Missing_Hand`, SUM(`Missing_Foot`) AS `Missing_Foot`, SUM(`Lame`) AS `Lame`, SUM(`Blind`) AS `Blind`, SUM(`Deaf`) AS `DEAF, SUM(`Dumb`) AS `Dumb`, SUM(`Mental`) AS `Mental`, SUM(`Paralyzed`) AS `Paralyzed`) FROM Population;\n",
    "%sql "
   ]
  },
  {
   "cell_type": "code",
   "execution_count": null,
   "metadata": {
    "colab": {},
    "colab_type": "code",
    "id": "8xkStdjdXS3w"
   },
   "outputs": [
    {
     "ename": "SyntaxError",
     "evalue": "invalid syntax (<ipython-input-20-849815dabacf>, line 4)",
     "output_type": "error",
     "traceback": [
      "\u001b[1;36m  File \u001b[1;32m\"<ipython-input-20-849815dabacf>\"\u001b[1;36m, line \u001b[1;32m4\u001b[0m\n\u001b[1;33m    OUR CODE GOES HERE\u001b[0m\n\u001b[1;37m           ^\u001b[0m\n\u001b[1;31mSyntaxError\u001b[0m\u001b[1;31m:\u001b[0m invalid syntax\n"
     ]
    }
   ],
   "source": [
    "# Challenge 11\n",
    "# Which disability was the least registered across all the counties?\n",
    "#\n",
    "OUR CODE GOES HERE"
   ]
  },
  {
   "cell_type": "code",
   "execution_count": null,
   "metadata": {
    "colab": {},
    "colab_type": "code",
    "id": "rgVsXH_5XVCh"
   },
   "outputs": [],
   "source": [
    "# Challenge 12\n",
    "# What was the average no. of registered persons with a disability?\n",
    "#\n"
   ]
  },
  {
   "cell_type": "code",
   "execution_count": null,
   "metadata": {
    "colab": {},
    "colab_type": "code",
    "id": "XvvFWhuDXXeP"
   },
   "outputs": [],
   "source": [
    "# Challenge 13\n",
    "# Which three counties had least registered persons with disabilities?\n",
    "#\n",
    "%sql SELECT `County`, `Total_Count` FROM Population ORDER BY `Total_Count` ASC LIMIT 3;"
   ]
  },
  {
   "cell_type": "code",
   "execution_count": null,
   "metadata": {
    "colab": {},
    "colab_type": "code",
    "id": "q1iq02FuXc2R"
   },
   "outputs": [],
   "source": [
    "# Challenge 14\n",
    "# What was the total no of registered persons with a disability across all counties?\n",
    "#\n",
    "%sql SELECT SUM(`Total_Count`) FROM Population;"
   ]
  },
  {
   "cell_type": "code",
   "execution_count": null,
   "metadata": {
    "colab": {},
    "colab_type": "code",
    "id": "drAWpxBZXhcF"
   },
   "outputs": [],
   "source": [
    "# Challenge 15 \n",
    "# Which top 3 counties has the highest no. of registered persons with a disability?\n",
    "# \n",
    "%sql SELECT `County`, `Total_Count` FROM Population ORDER BY `Total_Count` DESC LIMIT 3;"
   ]
  },
  {
   "cell_type": "markdown",
   "metadata": {},
   "source": [
    "<h3>Question To Review: </h3>6, "
   ]
  },
  {
   "cell_type": "code",
   "execution_count": null,
   "metadata": {},
   "outputs": [],
   "source": []
  }
 ],
 "metadata": {
  "colab": {
   "collapsed_sections": [
    "VSnOCZ5-IPCi",
    "HToJZ2gBPawZ",
    "IICLGbvBRYHq",
    "RAVzK5O6IR8v",
    "NicC8P9LMjvO"
   ],
   "name": "SQL Data Analysis: Population by Type of Disability",
   "provenance": [],
   "toc_visible": true
  },
  "kernelspec": {
   "display_name": "Python 3",
   "language": "python",
   "name": "python3"
  }
 },
 "nbformat": 4,
 "nbformat_minor": 1
}
