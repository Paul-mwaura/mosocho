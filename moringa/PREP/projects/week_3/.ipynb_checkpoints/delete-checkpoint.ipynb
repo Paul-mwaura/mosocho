{
 "cells": [
  {
   "cell_type": "code",
   "execution_count": null,
   "metadata": {},
   "outputs": [],
   "source": [
    "#delete\n",
    "def number_of_sets(columns, frame_name):\n",
    "    result = {}\n",
    "    for column in columns:\n",
    "        column, unique = column, len(set(frame_name[column]))\n",
    "        result[column] = unique\n",
    "    return result\n",
    "        \n",
    "def draw_sets(dictionary):\n",
    "    import matplotlib.pyplot as plt\n",
    "    columns = []\n",
    "    set_counts = []\n",
    "    for column, set_count in dictionary.items():\n",
    "        columns.append(column)\n",
    "        set_counts.append(set_count)\n",
    "    plt.style.use('dark_background')\n",
    "    plt.bar(columns, set_counts)\n",
    "    plt.xticks(rotation=80)\n",
    "    plt.yscale('log')\n",
    "    plt.show()"
   ]
  },
  {
   "cell_type": "code",
   "execution_count": null,
   "metadata": {},
   "outputs": [],
   "source": [
    "'''geo_column_sets = number_of_sets(geo.columns, geo)\n",
    "draw_sets(geo_column_sets)\n",
    "print(geo_column_sets)\n",
    "\n",
    "day1_column_sets = number_of_sets(day1.columns, day1)\n",
    "draw_sets(day1_column_sets)\n",
    "print(day1_column_sets)\n",
    "\n",
    "day2_column_sets = number_of_sets(day2.columns, day2)\n",
    "draw_sets(day2_column_sets)\n",
    "print(day2_column_sets)\n",
    "\n",
    "day3_column_sets = number_of_sets(day3.columns, day3)\n",
    "draw_sets(day3_column_sets)\n",
    "print(day3_column_sets)'''"
   ]
  }
 ],
 "metadata": {
  "kernelspec": {
   "display_name": "Python 3",
   "language": "python",
   "name": "python3"
  },
  "language_info": {
   "codemirror_mode": {
    "name": "ipython",
    "version": 3
   },
   "file_extension": ".py",
   "mimetype": "text/x-python",
   "name": "python",
   "nbconvert_exporter": "python",
   "pygments_lexer": "ipython3",
   "version": "3.7.6"
  }
 },
 "nbformat": 4,
 "nbformat_minor": 4
}
