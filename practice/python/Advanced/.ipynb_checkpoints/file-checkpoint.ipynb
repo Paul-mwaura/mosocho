{
 "cells": [
  {
   "cell_type": "markdown",
   "metadata": {},
   "source": [
    "# File Notes\n",
    "=> We use open() to create a file object. First argument being file name then second is how we would like to operateon the file like read, write etc."
   ]
  },
  {
   "cell_type": "code",
   "execution_count": 5,
   "metadata": {},
   "outputs": [
    {
     "name": "stdout",
     "output_type": "stream",
     "text": [
      "delete.txt\n",
      "r\n"
     ]
    }
   ],
   "source": [
    "#create file object. Note if opened like this then we have to rember to close the file explicity.\n",
    "\n",
    "f = open('delete.txt')\n",
    "print(f.name)  #to name the file\n",
    "print(f.mode)  #to get the current mode of the file \n",
    "f.close()     #to close the file"
   ]
  },
  {
   "cell_type": "code",
   "execution_count": 11,
   "metadata": {},
   "outputs": [
    {
     "name": "stdout",
     "output_type": "stream",
     "text": [
      "This is just a simple file \n",
      "You can read and write data on me\n",
      "so what would you like to do with me\n",
      "and the data am containing\n",
      "but for now am just goining to number my lines\n",
      "Sixth line\n",
      "Seventh line\n",
      "Eight line\n",
      "Nineth line\n",
      "Tenth line\n"
     ]
    }
   ],
   "source": [
    "#Now here we open the file using a context manager that will allows us to exit the file without closing explicitly\n",
    "\n",
    "with open('delete.txt', 'r') as f:\n",
    "    "
   ]
  },
  {
   "cell_type": "code",
   "execution_count": null,
   "metadata": {},
   "outputs": [],
   "source": []
  }
 ],
 "metadata": {
  "kernelspec": {
   "display_name": "Python 3",
   "language": "python",
   "name": "python3"
  },
  "language_info": {
   "codemirror_mode": {
    "name": "ipython",
    "version": 3
   },
   "file_extension": ".py",
   "mimetype": "text/x-python",
   "name": "python",
   "nbconvert_exporter": "python",
   "pygments_lexer": "ipython3",
   "version": "3.7.1"
  }
 },
 "nbformat": 4,
 "nbformat_minor": 2
}
