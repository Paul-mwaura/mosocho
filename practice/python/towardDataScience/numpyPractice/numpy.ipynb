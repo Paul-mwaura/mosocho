{
 "cells": [
  {
   "cell_type": "code",
   "execution_count": null,
   "metadata": {},
   "outputs": [],
   "source": [
    "import numpy as np"
   ]
  },
  {
   "cell_type": "markdown",
   "metadata": {},
   "source": [
    "array = Convert input data (list, tuple, array, or other sequence type) to an ndarray either by\n",
    "inferring a dtype or explicitly specifying a dtype. Copies the input data by default.\n",
    "\n",
    "asarray = Convert input to ndarray, but do not copy if the input is already an ndarray\n",
    "\n",
    "arange = Like the built-in range but returns an ndarray instead of a list.\n",
    "\n",
    "ones, ones_like = Produce an array of all 1’s with the given shape and dtype. ones_like takes another\n",
    "array and produces a ones array of the same shape and dtype.\n",
    "\n",
    "zeros, zeros_like = Like ones and ones_like but producing arrays of 0’s instead\n",
    "\n",
    "empty, empty_like = Create new arrays by allocating new memory, but do not populate with any values like\n",
    "ones and zeros\n",
    "\n",
    "eye, identity = Create a square N x N identity matrix (1’s on the diagonal and 0’s elsewhere)"
   ]
  },
  {
   "cell_type": "code",
   "execution_count": null,
   "metadata": {},
   "outputs": [],
   "source": [
    "data = np.arange(12).reshape(2, 3, 2)\n",
    "\n",
    "#anotehr way to create an array\n",
    "alist = [[3, 4, 7], [9, 4, 6]]\n",
    "data2 = np.array(alist, dtype=np.float64)\n",
    "\n",
    "#other alternatives to creating an array\n",
    "data3 = np.zeros((3, 6))\n",
    "data4 = np.ones((2, 3, 4))\n",
    "data5 = np.empty((3, 4, 6))  #dont assume it will give empty or zero array but instead it will give garbage values"
   ]
  },
  {
   "cell_type": "code",
   "execution_count": null,
   "metadata": {},
   "outputs": [],
   "source": [
    "#to get the shape of the array we use shape attribute which returns a tuple\n",
    "data.shape"
   ]
  },
  {
   "cell_type": "code",
   "execution_count": null,
   "metadata": {},
   "outputs": [],
   "source": [
    "#to get the datatype\n",
    "data.dtype"
   ]
  },
  {
   "cell_type": "code",
   "execution_count": null,
   "metadata": {},
   "outputs": [],
   "source": [
    "#we can get the number rows of the first data\n",
    "data.ndim\n"
   ]
  },
  {
   "cell_type": "code",
   "execution_count": null,
   "metadata": {},
   "outputs": [],
   "source": [
    "#convert datatypes . float to interger truncates the floating point\n",
    "convertedData = data.astype(np.float64)\n",
    "convertedData"
   ]
  },
  {
   "cell_type": "markdown",
   "metadata": {},
   "source": [
    "# Array Data Types"
   ]
  },
  {
   "cell_type": "markdown",
   "metadata": {},
   "source": [
    "int8, uint8 i1, u1 Signed and unsigned 8-bit (1 byte) integer types\n",
    "\n",
    "int16, uint16 i2, u2 Signed and unsigned 16-bit integer types\n",
    "\n",
    "int32, uint32 i4, u4 Signed and unsigned 32-bit integer types\n",
    "\n",
    "int64, uint64 i8, u8 Signed and unsigned 32-bit integer types\n",
    "\n",
    "float16 f2 Half-precision floating point\n",
    "\n",
    "float32 f4 or f Standard single-precision floating point. Compatible with C float\n",
    "\n",
    "float64, float128 f8 or d Standard double-precision floating point. Compatible with C double and Python float object\n",
    "\n",
    "float128 f16 or g Extended-precision floating point\n",
    "\n",
    "complex64, complex128, complex256 c8, c16, c32 Complex numbers represented by two 32, 64, or 128 floats, respectively\n",
    "\n",
    "bool ? Boolean type storing True and False values\n",
    "\n",
    "object O Python object type\n",
    "\n",
    "string_ S Fixed-length string type (1 byte per character). For example, to create a string dtype with length 10, use 'S10'.\n",
    "\n",
    "unicode_ U Fixed-length unicode type (number of bytes platform specific). Same specification semantics as string_ (e.g. 'U10')."
   ]
  },
  {
   "cell_type": "markdown",
   "metadata": {},
   "source": [
    "# Operations between Arrays and Scalars\n"
   ]
  },
  {
   "cell_type": "markdown",
   "metadata": {},
   "source": [
    "Array operations enable you to express batch operations on data without writing any for loops. This is usually called vectorization. Any arithmetic operations between equl-size arrays applies the operation elementwise. Example below shows a scalar operation with an array. Operations between differently sized arrays is called broadcasting."
   ]
  },
  {
   "cell_type": "code",
   "execution_count": null,
   "metadata": {},
   "outputs": [],
   "source": [
    "result = data[1] * 3\n",
    "result"
   ]
  },
  {
   "cell_type": "markdown",
   "metadata": {},
   "source": [
    "# Basic  Indexing and Slicing"
   ]
  },
  {
   "cell_type": "markdown",
   "metadata": {},
   "source": [
    "One-dimensional arrays are simple to slice and index since on the surface they act similarly to python list."
   ]
  },
  {
   "cell_type": "code",
   "execution_count": null,
   "metadata": {},
   "outputs": [],
   "source": [
    "index = np.arange(10, dtype=np.int32)\n",
    "index"
   ]
  },
  {
   "cell_type": "code",
   "execution_count": null,
   "metadata": {},
   "outputs": [],
   "source": [
    "#slice the array\n",
    "index[5:8]"
   ]
  },
  {
   "cell_type": "code",
   "execution_count": null,
   "metadata": {},
   "outputs": [],
   "source": [
    "#Assigning value to a slice makes changes the original\n",
    "index[5:8] = 12\n",
    "index"
   ]
  },
  {
   "cell_type": "code",
   "execution_count": null,
   "metadata": {},
   "outputs": [],
   "source": [
    "#Array slices are views on the original array. Meaning that the data is not copied \n",
    "#any modification to the view will be reflected in the source array\n",
    "index_slice = index[5:8]\n",
    "index_slice[1] = 12345\n",
    "index #note that this change is reflected t othe original index"
   ]
  },
  {
   "cell_type": "markdown",
   "metadata": {},
   "source": [
    "if you want a copy of a slice of an ndarray instead of a view, you will need to explicitly copy the array, for example arr[5:8].copy()"
   ]
  },
  {
   "cell_type": "code",
   "execution_count": null,
   "metadata": {},
   "outputs": [],
   "source": [
    "newIndex = index.copy().reshape(2, 5)\n",
    "newIndex"
   ]
  },
  {
   "cell_type": "code",
   "execution_count": null,
   "metadata": {},
   "outputs": [],
   "source": [
    "#we can slice and both of these give the same result\n",
    "newIndex[0, 2]\n",
    "newIndex[0][2]"
   ]
  },
  {
   "cell_type": "markdown",
   "metadata": {},
   "source": [
    "# Boolean Indexing"
   ]
  },
  {
   "cell_type": "code",
   "execution_count": null,
   "metadata": {},
   "outputs": [],
   "source": [
    "nameList = ['Bob', 'Joe', 'Will', 'Bob', 'Will', 'Joe', 'Joe']\n",
    "names = np.array(nameList)\n",
    "names == 'Bob'"
   ]
  },
  {
   "cell_type": "markdown",
   "metadata": {},
   "source": [
    "# Fancy Indexing"
   ]
  },
  {
   "cell_type": "markdown",
   "metadata": {},
   "source": [
    "Fancy indexing is a term adopted by numpy to describe indexing using interger arrays. Suppose we had a 8 * 4 array. Keep in mind that fancy indexing, unlike slicing, always copies the data into a new array."
   ]
  },
  {
   "cell_type": "code",
   "execution_count": null,
   "metadata": {},
   "outputs": [],
   "source": [
    "arr = np.empty((8, 4))\n",
    "\n",
    "for i in range(8):\n",
    "    arr[i] = i\n",
    "    \n",
    "arr"
   ]
  },
  {
   "cell_type": "markdown",
   "metadata": {},
   "source": [
    "To select out a subset of the rows in a particular order, you can simply pass a list or ndarray of intergers specifying the desired order."
   ]
  },
  {
   "cell_type": "code",
   "execution_count": null,
   "metadata": {},
   "outputs": [],
   "source": [
    "arr[[4, 3, 0], :2]"
   ]
  },
  {
   "cell_type": "code",
   "execution_count": null,
   "metadata": {},
   "outputs": [],
   "source": [
    "#take time to see what is going on \n",
    "arr[[4, 3, 0], [0, 3, 2]]"
   ]
  },
  {
   "cell_type": "markdown",
   "metadata": {},
   "source": [
    "# Transposing Arrays and Swapping Axes"
   ]
  },
  {
   "cell_type": "code",
   "execution_count": null,
   "metadata": {},
   "outputs": [],
   "source": [
    "swap = np.arange(15).reshape(3,5)\n",
    "swap"
   ]
  },
  {
   "cell_type": "code",
   "execution_count": null,
   "metadata": {},
   "outputs": [],
   "source": [
    "#To make the transpose\n",
    "swap.T"
   ]
  },
  {
   "cell_type": "code",
   "execution_count": null,
   "metadata": {},
   "outputs": [],
   "source": [
    "#When doing matrix computations, you will do this very often\n",
    "np.dot(swap.T, swap)"
   ]
  },
  {
   "cell_type": "markdown",
   "metadata": {},
   "source": [
    "Simple transposing with .T is just a special case of swapping axes. ndarray has the method swapaxes which takes a pair of axis numbers. Swapaxes similarly returns a view on the data without making a copy."
   ]
  },
  {
   "cell_type": "markdown",
   "metadata": {},
   "source": [
    "# Universal Functions: Fast Element-wise Array Functions"
   ]
  },
  {
   "cell_type": "markdown",
   "metadata": {},
   "source": [
    "A universal function is one that performs elementwise operations on data in ndarrays. You can think of them as fast vectorised wrappers for simple functions that take one or more scalar values nd produce one or more scalar results.\n",
    "\n",
    "Examples of numpy unary funciton => aba, fabs, sqrt, square, exp, log, log10, log2, log1p, sign, ceil, floor, rint, modf, isnan, isfinite, isinf, cos, cosh, sin, sinh, tan, tanh, arcos, arccosh, arcsin, arcsinh, arctan, arctanh, logical_not.\n",
    "\n",
    "Examples of binary functions include => add, subtract, multiply, divide, floor_divide, power, maximum, fmax, minimum, fmin, mod, copysign, greater, greater_equal, less, less_equal, equal, not_equal, logical_and, logical_or, logical_xor.\n",
    "\n"
   ]
  },
  {
   "cell_type": "code",
   "execution_count": null,
   "metadata": {},
   "outputs": [],
   "source": [
    "fast = np.arange(12)\n",
    "fast"
   ]
  },
  {
   "cell_type": "code",
   "execution_count": null,
   "metadata": {},
   "outputs": [],
   "source": [
    "#find the square root\n",
    "np.sqrt(fast)"
   ]
  },
  {
   "cell_type": "code",
   "execution_count": null,
   "metadata": {},
   "outputs": [],
   "source": [
    "#Find exponent\n",
    "np.exp(fast)"
   ]
  },
  {
   "cell_type": "markdown",
   "metadata": {},
   "source": [
    "Unary functions are those like add, maximum which take 2 arrays and return a single array as the result."
   ]
  },
  {
   "cell_type": "code",
   "execution_count": null,
   "metadata": {},
   "outputs": [],
   "source": [
    "mike = np.random.randn(8)\n",
    "mike1 =np.random.randn(8)"
   ]
  },
  {
   "cell_type": "code",
   "execution_count": null,
   "metadata": {},
   "outputs": [],
   "source": [
    "np.add(mike, mike1)"
   ]
  },
  {
   "cell_type": "markdown",
   "metadata": {},
   "source": [
    "# Data Processing Using Arrays\n",
    "=> This practice of replacing explicit loops with array expressions is commonly referred to as vectorization."
   ]
  },
  {
   "cell_type": "code",
   "execution_count": null,
   "metadata": {},
   "outputs": [],
   "source": [
    "#The np.meshgrid function takes two 1D arrays and produces two 2D matrices corresponding to all pairs of (x, y) in the\n",
    "# two arrays. note that xs maintains values along the x axis ans ys maintain values on the y axis.\n",
    "\n",
    "points = np.arange(-5, 5, 0.01)\n",
    "xs, ys = np.meshgrid(points, points)\n",
    "xs"
   ]
  },
  {
   "cell_type": "code",
   "execution_count": null,
   "metadata": {},
   "outputs": [],
   "source": [
    "''' Suppose we wanted to take a value from xarr whenever the corresponding value in\n",
    "cond is True otherwise take the value from yarr.'''\n",
    "\n",
    "xarr = np.array([1.1, 1.2, 1.3, 1.4, 1.5])\n",
    "yarr = np.array([2.1, 2.2, 2.3, 2.4, 2.5])\n",
    "cond = np.array([True, False, True, True, False])\n",
    "\n",
    "mike = np.where(cond, xarr, yarr)\n",
    "mike"
   ]
  },
  {
   "cell_type": "code",
   "execution_count": null,
   "metadata": {},
   "outputs": [],
   "source": [
    "'''A typical use of where in data analysis is to produce a new array of\n",
    "values based on another array. Suppose you had a matrix of randomly generated data\n",
    "and you wanted to replace all positive values with 2 and all negative values with -2.\n",
    "This is very easy to do with np.where'''\n",
    "\n",
    "from numpy.random import randn\n",
    "\n",
    "mike = randn(4, 4)\n",
    "mike1 = np.where(mike>0, 2, -2)  #first condition if it evaluates to true then 2 else -2\n",
    "mike1"
   ]
  },
  {
   "cell_type": "code",
   "execution_count": null,
   "metadata": {},
   "outputs": [],
   "source": [
    "'''Other methods like cumsum and cumprod do not aggregate, instead producing an array of the intermediate results'''\n",
    "\n",
    "arr = np.array([[0, 1, 2], [3, 4, 5], [6, 7, 8]])\n",
    "\n",
    "arr.cumsum(0)"
   ]
  },
  {
   "cell_type": "code",
   "execution_count": null,
   "metadata": {},
   "outputs": [],
   "source": [
    "arr.cumprod(0)"
   ]
  },
  {
   "cell_type": "code",
   "execution_count": null,
   "metadata": {},
   "outputs": [],
   "source": [
    "arr.cumsum(1)"
   ]
  },
  {
   "cell_type": "code",
   "execution_count": null,
   "metadata": {},
   "outputs": [],
   "source": [
    "arr.cumprod(1)"
   ]
  },
  {
   "cell_type": "markdown",
   "metadata": {},
   "source": [
    "   ### Basic Array Statistical Methods\n",
    "\n",
    "sum = Sum of all the elements in the array or along an axis. Zero-length arrays have sum 0.\n",
    "\n",
    "mean = Arithmetic mean. Zero-length arrays have NaN mean.\n",
    "\n",
    "std, var = Standard deviation and variance, respectively, with optional degrees of freedom adjustment\n",
    "        (default denominator n).\n",
    "\n",
    "min, max = Minimum and maximum.\n",
    "\n",
    "argmin, argmax = Indices of minimum and maximum elements, respectively.\n",
    "\n",
    "cumsum = Cumulative sum of elements starting from 0\n",
    "\n",
    "cumprod = Cumulative product of elements starting from 1"
   ]
  },
  {
   "cell_type": "markdown",
   "metadata": {},
   "source": [
    "### Methods for Boolean Arrays\n",
    "There are two additional methods, any and all. any tests whether one or more values in an array is true, while all checks if every value is true."
   ]
  },
  {
   "cell_type": "code",
   "execution_count": null,
   "metadata": {},
   "outputs": [],
   "source": [
    "bools = np.array([False, False, True, False])\n",
    "bools.any()"
   ]
  },
  {
   "cell_type": "code",
   "execution_count": null,
   "metadata": {},
   "outputs": [],
   "source": [
    "bools.all()"
   ]
  },
  {
   "cell_type": "markdown",
   "metadata": {},
   "source": [
    "### Sorting\n",
    "=> we use the sort funtion to sort. Multidimensional arrays can be sorted using the axis we would like to sort."
   ]
  },
  {
   "cell_type": "code",
   "execution_count": null,
   "metadata": {},
   "outputs": [],
   "source": [
    "sorter = np.random.randn(5, 3)\n",
    "sorter.sort(0)\n",
    "sorter"
   ]
  },
  {
   "cell_type": "markdown",
   "metadata": {},
   "source": [
    "### Unique and Other Set Logic\n",
    "=> Numpy has some basic set operations for one-dimensional ndarrays. probably the most commonly used one is np.unique which returns the sorted unique values in an array.\n",
    "\n",
    "unique(x) = Compute the sorted, unique elements in x\n",
    "\n",
    "intersect1d(x, y) = Compute the sorted, common elements in x and y\n",
    "\n",
    "union1d(x, y) = Compute the sorted union of elements\n",
    "\n",
    "in1d(x, y) = Compute a boolean array indicating whether each element of x is contained in y\n",
    "\n",
    "setdiff1d(x, y) = Set difference, elements in x that are not in y\n",
    "\n",
    "setxor1d(x, y) = Set symmetric differences; elements that are in either of the arrays, but not both"
   ]
  },
  {
   "cell_type": "code",
   "execution_count": null,
   "metadata": {},
   "outputs": [],
   "source": [
    "names = np.array(['Bob', 'Joe', 'Will', 'Bob', 'Will', 'Joe', 'Joe'])\n",
    "np.unique(names)"
   ]
  },
  {
   "cell_type": "code",
   "execution_count": null,
   "metadata": {},
   "outputs": [],
   "source": [
    "#use case for np.in1d tests membership of the values in one array in another\n",
    "values = np.array([6, 0, 0, 3, 2, 5, 6])\n",
    "np.in1d(values, [2, 3, 6])"
   ]
  },
  {
   "cell_type": "markdown",
   "metadata": {},
   "source": [
    "# File Input and Output with Arrays"
   ]
  },
  {
   "cell_type": "markdown",
   "metadata": {},
   "source": [
    "### Storing Arrays on Disk in Binary Format\n",
    "=> np.save and np.load are the two workhorse functions for efficiently saving and loading array data on disk. Arrays  are saved by default in an uncompressed raw binary format with the file extension '.npy'."
   ]
  },
  {
   "cell_type": "code",
   "execution_count": 4,
   "metadata": {},
   "outputs": [
    {
     "data": {
      "text/plain": [
       "array([0, 1, 2, 3, 4, 5, 6, 7, 8, 9])"
      ]
     },
     "execution_count": 4,
     "metadata": {},
     "output_type": "execute_result"
    }
   ],
   "source": [
    "import numpy as np\n",
    "\n",
    "arr = np.arange(10)\n",
    "np.save('using_save', arr)  #save the array\n",
    "loaded = np.load('using_save.npy')\n",
    "loaded"
   ]
  },
  {
   "cell_type": "code",
   "execution_count": 9,
   "metadata": {},
   "outputs": [
    {
     "data": {
      "text/plain": [
       "array([0, 1, 2, 3, 4, 5, 6, 7, 8, 9])"
      ]
     },
     "execution_count": 9,
     "metadata": {},
     "output_type": "execute_result"
    }
   ],
   "source": [
    "#You save multiple arrays in a zip achieve using np.savez and passing the arrays as key-word arguments \n",
    "np.savez('Archive.npz', first=arr, second=arr)\n",
    "arch = np.load('Archive.npz')\n",
    "arch['first']"
   ]
  },
  {
   "cell_type": "markdown",
   "metadata": {},
   "source": [
    "# Linear Algebra\n",
    "\n",
    "=>Unlike some languages like MATLAB, multiplying two 2D arrays with * is an element-wise product instead of matrix dot product. numpy.linalg has standard set of matrix decompositions and things like inverse and determinant. These are implemented under the hood using the same industry-standard Fortran libries used in other languages like MATLAB and R, such as like BLAS, LAPACK, or possibly (depending on your Numpy build) the intel MKL.\n",
    "\n",
    "=>The following are commoly used numpy.linalg functions used to compute linear algebra computations\n",
    "    \n",
    "    diag = Return the diagonal (or off-diagonal) elements of a square matrix as a 1D array, or convert a 1D array into a square\n",
    "            matrix with zeros on the off-diagonal,\n",
    "    \n",
    "    dot = Matrix multiplication,\n",
    "    \n",
    "    trace = Compute the sum of the diagonal elements,\n",
    "    \n",
    "    det = Compute the matrix determinant,\n",
    "    \n",
    "    eig = Compute the eigenvalues and eigenvectors of a square matrix,\n",
    "    \n",
    "    inv = Compute the inverse of a square matrix,\n",
    "    \n",
    "    pinv = Compute the Moore-Penrose pseudo-inverse inverse of a square matrix,\n",
    "    \n",
    "    qr = Compute the QR decomposition,\n",
    "    \n",
    "    svd = Compute the singular value decomposition (SVD),\n",
    "    \n",
    "    solve = Solve the linear system Ax = b for x, where A is a square matrix,\n",
    "    \n",
    "    lstsq = Compute the least-squares solution to y = Xb,"
   ]
  },
  {
   "cell_type": "code",
   "execution_count": null,
   "metadata": {},
   "outputs": [],
   "source": [
    "import numpy as np\n",
    "from numpy.linalg import inv, qr, det\n",
    "\n",
    "#matrix multiplication\n",
    "x = np.arange(6).reshape(2, 3)\n",
    "y = np.arange(7, 13).reshape(3, 2)\n",
    "\n",
    "x.dot(y)  #same with np.dot(x, y)"
   ]
  },
  {
   "cell_type": "code",
   "execution_count": null,
   "metadata": {},
   "outputs": [],
   "source": [
    "#here we calculate the inverse of the matrix then we multiply the two to get the identity\n",
    "\n",
    "data =  [[1, 2, 3],[0, 1, 4], [5, 6, 0]]\n",
    "x = np.array(data)\n",
    "y = inv(x)\n",
    "y.dot(x)"
   ]
  },
  {
   "cell_type": "code",
   "execution_count": null,
   "metadata": {},
   "outputs": [],
   "source": [
    "#to compute the determinant\n",
    "det(y)"
   ]
  },
  {
   "cell_type": "code",
   "execution_count": null,
   "metadata": {},
   "outputs": [],
   "source": [
    "data = [[1,2],[4, 8]]\n",
    "x = np.array(data)\n",
    "\n",
    "if det(x) == 0:\n",
    "    print('This matrix cant be computed since everything lies on the same plane')\n",
    "else:\n",
    "    print('The spaces are not lying on the same plane since determinant is {}'.format(det(x)))"
   ]
  },
  {
   "cell_type": "markdown",
   "metadata": {},
   "source": [
    "# Random Number Generation\n",
    "=> The numpy.radom module supplements the built-in python random with functions for efficiently generation whole arrays of sample values from many kinds of probability distributions. Here is a partial list of numpy.random functions\n",
    "\n",
    "seed = Seed the random number generator\n",
    "\n",
    "permutation = Return a random permutation of a sequence, or return a permuted range\n",
    "\n",
    "shuffle = Randomly permute a sequence in place\n",
    "\n",
    "rand = Draw samples from a uniform distribution\n",
    "\n",
    "randint = Draw random integers from a given low-to-high range\n",
    "\n",
    "randn = Draw samples from a normal distribution with mean 0 and standard deviation 1 (MATLAB-like interface)\n",
    "\n",
    "binomial = Draw samples a binomial distribution\n",
    "\n",
    "normal = Draw samples from a normal (Gaussian) distribution\n",
    "\n",
    "beta = Draw samples from a beta distribution\n",
    "\n",
    "chisquare = Draw samples from a chi-square distribution\n",
    "\n",
    "gamma = Draw samples from a gamma distribution\n",
    "\n",
    "uniform = Draw samples from a uniform [0, 1) distribution\n"
   ]
  },
  {
   "cell_type": "code",
   "execution_count": null,
   "metadata": {},
   "outputs": [],
   "source": [
    "from numpy.random import normal\n",
    "\n",
    "sample = normal(size=(10, 4))\n",
    "sample.sum(axis=0)"
   ]
  },
  {
   "cell_type": "code",
   "execution_count": null,
   "metadata": {},
   "outputs": [],
   "source": [
    "mike = sample.swapaxes(1,0).copy"
   ]
  },
  {
   "cell_type": "code",
   "execution_count": null,
   "metadata": {},
   "outputs": [],
   "source": [
    " "
   ]
  },
  {
   "cell_type": "code",
   "execution_count": null,
   "metadata": {},
   "outputs": [],
   "source": []
  }
 ],
 "metadata": {
  "kernelspec": {
   "display_name": "Python 3",
   "language": "python",
   "name": "python3"
  },
  "language_info": {
   "codemirror_mode": {
    "name": "ipython",
    "version": 3
   },
   "file_extension": ".py",
   "mimetype": "text/x-python",
   "name": "python",
   "nbconvert_exporter": "python",
   "pygments_lexer": "ipython3",
   "version": "3.7.1"
  }
 },
 "nbformat": 4,
 "nbformat_minor": 2
}
